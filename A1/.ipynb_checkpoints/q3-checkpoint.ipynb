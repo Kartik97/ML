{
 "cells": [
  {
   "cell_type": "code",
   "execution_count": 1,
   "metadata": {},
   "outputs": [],
   "source": [
    "import numpy as np\n",
    "import pandas as pd\n",
    "from math import *\n",
    "import matplotlib.pyplot as plt\n",
    "from matplotlib.animation import FuncAnimation\n",
    "from mpl_toolkits.mplot3d import axes3d, Axes3D\n",
    "from sklearn.metrics import mean_squared_error\n",
    "from sklearn import linear_model\n",
    "import time"
   ]
  },
  {
   "cell_type": "code",
   "execution_count": 2,
   "metadata": {},
   "outputs": [],
   "source": [
    "def normalize(X):\n",
    "    m = X.shape[0]\n",
    "    mean = np.sum(X)/m\n",
    "    var = np.sum((X-mean)**2)/m\n",
    "    sd = np.sqrt(var)\n",
    "    X = (X-mean)/sd\n",
    "    return X\n",
    "    \n",
    "def init():\n",
    "    X = np.array(pd.read_csv(\"ass1_data/data/q3/logisticX.csv\",header=None))\n",
    "    X[:,0:1] = normalize(X[:,0:1])\n",
    "    X[:,1:2] = normalize(X[:,1:2])\n",
    "    Y = np.array(pd.read_csv(\"ass1_data/data/q3/logisticY.csv\",header=None))\n",
    "    param = [[0],[0]]\n",
    "    return X,Y,param\n",
    "\n",
    "def hyp(X,param):\n",
    "    return 1/(1+np.exp(np.dot(X,param)))\n"
   ]
  },
  {
   "cell_type": "code",
   "execution_count": 3,
   "metadata": {},
   "outputs": [],
   "source": [
    "def newton(X,Y,param,epsilon=1e-8,steps=1000000):\n",
    "    conv = False\n",
    "    i=0\n",
    "\n",
    "    while(not conv):\n",
    "        fd = np.sum((Y-hyp(X,param))*X,axis=0)\n",
    "        # H = ((hyp(X,param)*(hyp(X,param)-1))*(X*X)).T\n",
    "        sd = (hyp(X,param)*(hyp(X,param)-1))\n",
    "        print(sd)\n",
    "        print(np.diag(sd))\n",
    "        i=i+1\n",
    "        if(i>steps):\n",
    "            conv=True"
   ]
  },
  {
   "cell_type": "code",
   "execution_count": 14,
   "metadata": {},
   "outputs": [
    {
     "name": "stdout",
     "output_type": "stream",
     "text": [
      "4.618717\n"
     ]
    }
   ],
   "source": [
    "X = np.array(pd.read_csv(\"ass1_data/data/q3/logisticX.csv\",header=None))\n",
    "print(X[:,0:1]-np.mean(X[:,0:1]))"
   ]
  }
 ],
 "metadata": {
  "kernelspec": {
   "display_name": "Python 3",
   "language": "python",
   "name": "python3"
  },
  "language_info": {
   "codemirror_mode": {
    "name": "ipython",
    "version": 3
   },
   "file_extension": ".py",
   "mimetype": "text/x-python",
   "name": "python",
   "nbconvert_exporter": "python",
   "pygments_lexer": "ipython3",
   "version": "3.7.4"
  }
 },
 "nbformat": 4,
 "nbformat_minor": 2
}
