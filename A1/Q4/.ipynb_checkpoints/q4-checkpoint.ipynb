{
 "cells": [
  {
   "cell_type": "code",
   "execution_count": 16,
   "metadata": {},
   "outputs": [],
   "source": [
    "import pandas as pd\n",
    "import numpy as np\n",
    "import matplotlib.pyplot as plt"
   ]
  },
  {
   "cell_type": "code",
   "execution_count": 17,
   "metadata": {},
   "outputs": [],
   "source": [
    "def normalize(X):\n",
    "    m = X.shape[0]\n",
    "    mean = np.sum(X,axis=0)/m\n",
    "    var = np.sum((X-mean)**2,axis=0)/m\n",
    "    sd = np.sqrt(var)\n",
    "    X = (X-mean)/sd\n",
    "    return X\n",
    "\n",
    "def seperateData(dataX,dataY):\n",
    "    alaska=[]\n",
    "    canada=[]\n",
    "    for i in range(dataY.shape[0]):\n",
    "        if(dataY[i]==\"Alaska\"):\n",
    "            alaska.append(dataX[i])\n",
    "        else:\n",
    "            canada.append(dataX[i])\n",
    "    phi = len(alaska)/dataY.shape[0]\n",
    "    return phi,np.asarray(alaska),np.asarray(canada)\n",
    "            \n",
    "def calculateMean(data):\n",
    "    return np.sum(data,axis=0)/data.shape[0]\n",
    "\n",
    "# Pass data from which mean has already been subtracted\n",
    "def calculateCovariance(data):\n",
    "    return np.dot(data.T,data)/data.shape[0]\n",
    "\n",
    "# 0 = Alaska    1 = canada\n",
    "def calculateCoeffLinear(phi,m0,m1,c0,c1):\n",
    "    temp = (np.dot(np.dot(m0,np.linalg.inv(c0)),m0.T)-np.dot(np.dot(m1,np.linalg.inv(c1)),m1.T))/2\n",
    "    intercept = np.log(phi/(1-phi)) + temp\n",
    "    coeff = np.dot(np.linalg.inv(c1),m1.T)-np.dot(np.linalg.inv(c0),m0.T)\n",
    "    return intercept[0],coeff[0],coeff[1]"
   ]
  },
  {
   "cell_type": "code",
   "execution_count": 18,
   "metadata": {},
   "outputs": [
    {
     "name": "stdout",
     "output_type": "stream",
     "text": [
      "(100, 2)\n",
      "(100, 1)\n"
     ]
    }
   ],
   "source": [
    "dataX = np.loadtxt('../ass1_data/data/q4/q4x.dat')\n",
    "dataY = np.reshape(np.genfromtxt('../ass1_data/data/q4/q4y.dat',dtype=None,encoding='ascii'),(dataX.shape[0],-1))\n",
    "dataX = normalize(dataX)\n",
    "print(dataX.shape)\n",
    "print(dataY.shape)"
   ]
  },
  {
   "cell_type": "code",
   "execution_count": 19,
   "metadata": {},
   "outputs": [
    {
     "name": "stdout",
     "output_type": "stream",
     "text": [
      "0.5\n",
      "(1, 2)\n",
      "(1, 2)\n",
      "(2, 2)\n"
     ]
    }
   ],
   "source": [
    "phi,alaska,canada = seperateData(dataX,dataY)\n",
    "mu0 = np.reshape(calculateMean(alaska),(-1,2))\n",
    "mu1 = np.reshape(calculateMean(canada),(-1,2))\n",
    "covData = np.append(alaska-mu0,canada-mu1,axis=0)\n",
    "covMat = calculateCovariance(covData)\n",
    "_intL,pAL,pCL = calculateCoeffLinear(phi,mu0,mu1,covMat,covMat)\n",
    "print(phi)\n",
    "print(mu0.shape)\n",
    "print(mu1.shape)\n",
    "print(covMat.shape)"
   ]
  },
  {
   "cell_type": "code",
   "execution_count": 20,
   "metadata": {},
   "outputs": [],
   "source": [
    "def calLinBound(X,_int,A,C):\n",
    "    return (_int-X*A)/C"
   ]
  },
  {
   "cell_type": "code",
   "execution_count": 31,
   "metadata": {},
   "outputs": [
    {
     "data": {
      "text/plain": [
       "[<matplotlib.lines.Line2D at 0x7fa1d380af10>]"
      ]
     },
     "execution_count": 31,
     "metadata": {},
     "output_type": "execute_result"
    },
    {
     "data": {
      "image/png": "[encoded data removed]",
      "text/plain": [
       "<Figure size 432x288 with 1 Axes>"
      ]
     },
     "metadata": {
      "needs_background": "light"
     },
     "output_type": "display_data"
    }
   ],
   "source": [
    "fig = plt.figure(0)\n",
    "ax = plt.gca()\n",
    "plt.scatter(alaska[:,0:1],alaska[:,1:2],color=\"blue\",marker=\".\")\n",
    "plt.scatter(canada[:,0:1],canada[:,1:2],color=\"red\",marker=\"+\")\n",
    "\n",
    "x1 = np.linspace(-1.7,2,100)\n",
    "y1 = calLinBound(x1,_intL,pAL,pCL)\n",
    "\n",
    "plt.plot(x1,y1,color=\"black\")"
   ]
  },
  {
   "cell_type": "code",
   "execution_count": 22,
   "metadata": {},
   "outputs": [
    {
     "name": "stdout",
     "output_type": "stream",
     "text": [
      "(2, 2)\n",
      "(2, 2)\n"
     ]
    }
   ],
   "source": [
    "covMat0 = calculateCovariance(alaska-mu0)\n",
    "covMat1 = calculateCovariance(canada-mu1)\n",
    "print(covMat0.shape)\n",
    "print(covMat1.shape)"
   ]
  },
  {
   "cell_type": "code",
   "execution_count": 23,
   "metadata": {},
   "outputs": [],
   "source": [
    "def calculateCoeffQuad(phi,m0,m1,c0,c1):\n",
    "    temp = (np.dot(np.dot(m0,np.linalg.inv(c0)),m0.T)-np.dot(np.dot(m1,np.linalg.inv(c1)),m1.T))/2\n",
    "    c = np.log(phi/(1-phi)) + np.log(np.linalg.det(c0)/np.linalg.det(c1)) + temp\n",
    "    t1 = np.dot(np.linalg.inv(c1),m1.T)-np.dot(np.linalg.inv(c0),m0.T)\n",
    "    t2 = np.linalg.inv(c1)-np.linalg.inv(c0)\n",
    "    \n",
    "    return t2,t1,c\n",
    "\n",
    "def calQuadBound(X,t2,t1,c1):\n",
    "    a = t2[1][1]\n",
    "    b = X*(t2[1][0]+t2[0][1]) - 2*t1[1][0]\n",
    "    c = t2[0][0]*(X**2) - 2*X*t1[0][0] - 2*c1\n",
    "\n",
    "    roots = []\n",
    "    for i in range(len(X)):\n",
    "        roots.append(max(np.roots([a,b[i],c[0][i]])))\n",
    "    \n",
    "    return roots"
   ]
  },
  {
   "cell_type": "code",
   "execution_count": 32,
   "metadata": {},
   "outputs": [
    {
     "name": "stdout",
     "output_type": "stream",
     "text": [
      "[[-0.6713478  -1.28683634]\n",
      " [-1.28683634  0.86593198]]\n",
      "[[ 3.80785319]\n",
      " [-2.85967306]]\n",
      "[[-0.49198061]]\n"
     ]
    },
    {
     "data": {
      "text/plain": [
       "[<matplotlib.lines.Line2D at 0x7fa1d37f48d0>]"
      ]
     },
     "execution_count": 32,
     "metadata": {},
     "output_type": "execute_result"
    },
    {
     "data": {
      "image/png": "[encoded data removed]",
      "text/plain": [
       "<Figure size 432x288 with 1 Axes>"
      ]
     },
     "metadata": {
      "needs_background": "light"
     },
     "output_type": "display_data"
    }
   ],
   "source": [
    "t2,t1,c = calculateCoeffQuad(phi,mu0,mu1,covMat0,covMat1)\n",
    "print(t2)\n",
    "print(t1)\n",
    "print(c)\n",
    "\n",
    "fig1 = plt.figure(1)\n",
    "ax1 = plt.gca()\n",
    "plt.scatter(alaska[:,0:1],alaska[:,1:2],color=\"blue\",marker=\".\")\n",
    "plt.scatter(canada[:,0:1],canada[:,1:2],color=\"red\",marker=\"+\")\n",
    "\n",
    "x1 = np.linspace(-1.7,2,100)\n",
    "y1 = calLinBound(x1,_intL,pAL,pCL)\n",
    "\n",
    "plt.plot(x1,y1,color=\"black\")\n",
    "\n",
    "x2 = np.linspace(-2,1.7,100)\n",
    "y2 = calQuadBound(x2,t2,t1,c)\n",
    "\n",
    "plt.plot(x2,y2,color=\"green\")"
   ]
  }
 ],
 "metadata": {
  "kernelspec": {
   "display_name": "Python 3",
   "language": "python",
   "name": "python3"
  },
  "language_info": {
   "codemirror_mode": {
    "name": "ipython",
    "version": 3
   },
   "file_extension": ".py",
   "mimetype": "text/x-python",
   "name": "python",
   "nbconvert_exporter": "python",
   "pygments_lexer": "ipython3",
   "version": "3.7.4"
  }
 },
 "nbformat": 4,
 "nbformat_minor": 2
}
