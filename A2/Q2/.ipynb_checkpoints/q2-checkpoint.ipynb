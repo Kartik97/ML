{
 "cells": [
  {
   "cell_type": "markdown",
   "metadata": {},
   "source": [
    "## 1(A)"
   ]
  },
  {
   "cell_type": "code",
   "execution_count": 555,
   "metadata": {},
   "outputs": [],
   "source": [
    "import numpy as np\n",
    "import pandas as pd\n",
    "import cvxopt\n",
    "from cvxopt import solvers,matrix\n",
    "from sklearn.svm import SVC\n",
    "import math\n",
    "from tqdm import tqdm\n",
    "import multiprocessing as mp\n",
    "from multiprocessing import Pool\n",
    "import itertools\n",
    "import threading\n",
    "import pickle\n",
    "from joblib import Parallel, delayed\n",
    "import time\n",
    "from scipy.spatial import distance\n",
    "import matplotlib.pyplot as plt\n",
    "import seaborn as sns"
   ]
  },
  {
   "cell_type": "code",
   "execution_count": 475,
   "metadata": {},
   "outputs": [],
   "source": [
    "def init():\n",
    "    train = pd.read_csv(\"fashion_mnist/train.csv\",header=None)\n",
    "    val = pd.read_csv(\"fashion_mnist/val.csv\",header=None)\n",
    "    test = pd.read_csv(\"fashion_mnist/test.csv\",header=None)\n",
    "    return train,val,test"
   ]
  },
  {
   "cell_type": "code",
   "execution_count": 501,
   "metadata": {},
   "outputs": [],
   "source": [
    "train,val,test = init()\n",
    "c1=4\n",
    "c2=5"
   ]
  },
  {
   "cell_type": "code",
   "execution_count": 502,
   "metadata": {},
   "outputs": [],
   "source": [
    "def stripData(data,c1,c2):\n",
    "    data = data[data[784]==c1].append(data[data[784]==c2])\n",
    "    data.loc[data[784]==c1,784]=-1\n",
    "    data.loc[data[784]==c2,784]=1\n",
    "    Y = np.reshape(np.array(data[784]),(-1,1))\n",
    "    pos = data[data[784]==1]\n",
    "    neg = data[data[784]==-1]\n",
    "    data = np.array(data.drop(columns=[784]))/255\n",
    "    return data,Y,pos,neg"
   ]
  },
  {
   "cell_type": "code",
   "execution_count": 503,
   "metadata": {},
   "outputs": [],
   "source": [
    "train = train[train[784]==c1].append(train[train[784]==c2])"
   ]
  },
  {
   "cell_type": "code",
   "execution_count": 504,
   "metadata": {},
   "outputs": [],
   "source": [
    "train.loc[train[784]==c1,784]=-1\n",
    "train.loc[train[784]==c2,784]=1\n",
    "pos = train[train[784]==1]\n",
    "neg = train[train[784]==-1]\n",
    "Y = np.array(train[784])\n",
    "trainD = np.array(train.drop(columns=[784]))/255"
   ]
  },
  {
   "cell_type": "code",
   "execution_count": 505,
   "metadata": {},
   "outputs": [],
   "source": [
    "Y = Y.reshape((Y.shape[0],1))"
   ]
  },
  {
   "cell_type": "code",
   "execution_count": 506,
   "metadata": {},
   "outputs": [
    {
     "data": {
      "text/plain": [
       "(4500, 784)"
      ]
     },
     "execution_count": 506,
     "metadata": {},
     "output_type": "execute_result"
    }
   ],
   "source": [
    "trainD.shape"
   ]
  },
  {
   "cell_type": "code",
   "execution_count": 482,
   "metadata": {},
   "outputs": [],
   "source": [
    "def createPq(data,out):\n",
    "    P = (out@out.T)*(data@data.T)\n",
    "    q = (-1)*np.ones((P.shape[0],1))\n",
    "    return matrix(P),matrix(q)\n",
    "\n",
    "def createGh(m):\n",
    "    u = np.identity(m)\n",
    "    d = (-1)*np.identity(m)\n",
    "    G = np.append(u,d,axis=0)\n",
    "    h = np.append(np.ones((m,1)),np.zeros((m,1)),axis=0)\n",
    "    return matrix(G),matrix(h)\n",
    "\n",
    "def createAb(out):\n",
    "    m = out.shape[0]\n",
    "    A = out.copy()\n",
    "    A = A.T\n",
    "    b = 0\n",
    "    return matrix(A,(1,m),'d'),matrix(b,(1,1),'d')"
   ]
  },
  {
   "cell_type": "code",
   "execution_count": 483,
   "metadata": {},
   "outputs": [],
   "source": [
    "t = time.time()\n",
    "P,q = createPq(trainD,Y)\n",
    "G,h = createGh(trainD.shape[0])\n",
    "A,B = createAb(Y)"
   ]
  },
  {
   "cell_type": "code",
   "execution_count": 484,
   "metadata": {},
   "outputs": [
    {
     "name": "stdout",
     "output_type": "stream",
     "text": [
      "     pcost       dcost       gap    pres   dres\n",
      " 0: -1.8144e+02 -7.2340e+03  4e+04  2e+00  2e-12\n",
      " 1: -1.0203e+02 -3.4492e+03  6e+03  3e-01  1e-12\n",
      " 2: -3.3534e+01 -9.1974e+02  2e+03  7e-02  8e-13\n",
      " 3: -1.1925e+01 -4.1859e+02  7e+02  2e-02  4e-13\n",
      " 4: -3.6847e+00 -1.7770e+02  3e+02  8e-03  2e-13\n",
      " 5: -1.2594e+00 -5.9907e+01  9e+01  2e-03  6e-14\n",
      " 6: -6.7211e-01 -2.5705e+01  4e+01  9e-04  3e-14\n",
      " 7: -4.1327e-01 -1.1925e+01  2e+01  3e-04  2e-14\n",
      " 8: -5.1263e-01 -5.5495e+00  6e+00  1e-04  2e-14\n",
      " 9: -5.7700e-01 -3.1645e+00  3e+00  4e-05  2e-14\n",
      "10: -7.0634e-01 -2.0084e+00  1e+00  3e-06  2e-14\n",
      "11: -9.3593e-01 -1.4177e+00  5e-01  7e-07  2e-14\n",
      "12: -1.0291e+00 -1.2146e+00  2e-01  1e-15  2e-14\n",
      "13: -1.0863e+00 -1.1319e+00  5e-02  1e-15  2e-14\n",
      "14: -1.1048e+00 -1.1100e+00  5e-03  4e-16  2e-14\n",
      "15: -1.1073e+00 -1.1074e+00  1e-04  2e-16  2e-14\n",
      "16: -1.1073e+00 -1.1073e+00  1e-06  2e-15  2e-14\n",
      "17: -1.1073e+00 -1.1073e+00  1e-08  2e-15  2e-14\n",
      "Optimal solution found.\n"
     ]
    }
   ],
   "source": [
    "sol=solvers.qp(P, q, G, h, A, B)"
   ]
  },
  {
   "cell_type": "code",
   "execution_count": 485,
   "metadata": {},
   "outputs": [],
   "source": [
    "alpha = np.array(sol['x'])"
   ]
  },
  {
   "cell_type": "code",
   "execution_count": 486,
   "metadata": {},
   "outputs": [
    {
     "data": {
      "text/plain": [
       "0.2523889277391158"
      ]
     },
     "execution_count": 486,
     "metadata": {},
     "output_type": "execute_result"
    }
   ],
   "source": [
    "alpha.max()"
   ]
  },
  {
   "cell_type": "code",
   "execution_count": 487,
   "metadata": {},
   "outputs": [],
   "source": [
    "def stripAlpha(alpha,E):\n",
    "    index = alpha < E\n",
    "    alpha[index] = 0\n",
    "    return alpha"
   ]
  },
  {
   "cell_type": "code",
   "execution_count": 488,
   "metadata": {},
   "outputs": [],
   "source": [
    "alpha = stripAlpha(alpha,1e-4)"
   ]
  },
  {
   "cell_type": "code",
   "execution_count": 489,
   "metadata": {},
   "outputs": [
    {
     "data": {
      "text/plain": [
       "0.0"
      ]
     },
     "execution_count": 489,
     "metadata": {},
     "output_type": "execute_result"
    }
   ],
   "source": [
    "alpha.min()"
   ]
  },
  {
   "cell_type": "code",
   "execution_count": 490,
   "metadata": {},
   "outputs": [],
   "source": [
    "def calwb(alpha,X,Y,pos,neg):\n",
    "    w = X.T@(alpha*Y)\n",
    "    x = (np.array(pos.drop(columns=[784]))/255)\n",
    "    y = (np.array(neg.drop(columns=[784]))/255)\n",
    "    b = (-1)*((x@w).min()+(y@w).max())/2\n",
    "    return w,b"
   ]
  },
  {
   "cell_type": "code",
   "execution_count": 491,
   "metadata": {},
   "outputs": [],
   "source": [
    "w,b = calwb(alpha,trainD,Y,pos,neg)"
   ]
  },
  {
   "cell_type": "code",
   "execution_count": 492,
   "metadata": {},
   "outputs": [
    {
     "name": "stdout",
     "output_type": "stream",
     "text": [
      "34.946269512176514\n"
     ]
    }
   ],
   "source": [
    "print(time.time()-t)"
   ]
  },
  {
   "cell_type": "code",
   "execution_count": 493,
   "metadata": {},
   "outputs": [],
   "source": [
    "def predClasses(w,b,data):\n",
    "    pred = []\n",
    "    for i in data:\n",
    "        temp = i.reshape((1,-1))@w+b\n",
    "        if temp<0:\n",
    "            pred.append(-1)\n",
    "        else:\n",
    "            pred.append(1)\n",
    "    return pred"
   ]
  },
  {
   "cell_type": "code",
   "execution_count": 494,
   "metadata": {},
   "outputs": [],
   "source": [
    "predictionTrain = predClasses(w,b,trainD)"
   ]
  },
  {
   "cell_type": "code",
   "execution_count": 495,
   "metadata": {},
   "outputs": [],
   "source": [
    "def checkAccuracy(y,pred):\n",
    "    y = np.array(y).reshape((-1,1))\n",
    "    pred = np.array(pred).reshape((-1,1))\n",
    "    check = (y==pred)\n",
    "    t=0\n",
    "    f=0\n",
    "    for i in check:\n",
    "        if i:\n",
    "            t=t+1\n",
    "        else:\n",
    "            f=f+1\n",
    "    print(t/(t+f))"
   ]
  },
  {
   "cell_type": "code",
   "execution_count": 496,
   "metadata": {},
   "outputs": [
    {
     "name": "stdout",
     "output_type": "stream",
     "text": [
      "1.0\n"
     ]
    }
   ],
   "source": [
    "checkAccuracy(train[784],predictionTrain)"
   ]
  },
  {
   "cell_type": "code",
   "execution_count": 497,
   "metadata": {},
   "outputs": [],
   "source": [
    "testX,testY,_,_ = stripData(test,c1,c2)\n",
    "valX,valY,_,_ = stripData(val,c1,c2)"
   ]
  },
  {
   "cell_type": "code",
   "execution_count": 498,
   "metadata": {},
   "outputs": [
    {
     "name": "stdout",
     "output_type": "stream",
     "text": [
      "0.998\n"
     ]
    }
   ],
   "source": [
    "predictionTest = predClasses(w,b,testX)\n",
    "checkAccuracy(testY,np.array(predictionTest))"
   ]
  },
  {
   "cell_type": "code",
   "execution_count": 499,
   "metadata": {},
   "outputs": [
    {
     "data": {
      "text/plain": [
       "(1000, 784)"
      ]
     },
     "execution_count": 499,
     "metadata": {},
     "output_type": "execute_result"
    }
   ],
   "source": [
    "testX.shape"
   ]
  },
  {
   "cell_type": "code",
   "execution_count": 500,
   "metadata": {},
   "outputs": [
    {
     "name": "stdout",
     "output_type": "stream",
     "text": [
      "0.996\n"
     ]
    }
   ],
   "source": [
    "predictionVal = predClasses(w,b,valX)\n",
    "checkAccuracy(valY,predictionVal)"
   ]
  },
  {
   "cell_type": "markdown",
   "metadata": {},
   "source": [
    "## 1(B)"
   ]
  },
  {
   "cell_type": "code",
   "execution_count": 145,
   "metadata": {},
   "outputs": [],
   "source": [
    "def K(x,z,gamma=0.05):\n",
    "#     norm = np.linalg.norm(x-z,ord=2)**2\n",
    "    norm = np.reshape((x-z),(1,-1))\n",
    "    norm = norm@norm.T\n",
    "    return math.exp((-gamma)*norm)"
   ]
  },
  {
   "cell_type": "code",
   "execution_count": 146,
   "metadata": {},
   "outputs": [],
   "source": [
    "def gaussianPq(data,out):\n",
    "    m = data.shape[0]\n",
    "#     kernelMatrix = np.zeros((m,m))\n",
    "#     for i in tqdm(range(m)):\n",
    "#         for j in range(m):\n",
    "#             kernelMatrix[i,j] = K(data[i,:],data[j,:])\n",
    "    kernelMatrix=np.exp((-0.05)*np.square(distance.cdist(data,data,'euclidean')))\n",
    "    P = (out@out.T)*kernelMatrix\n",
    "    q = (-1)*np.ones((P.shape[0],1))\n",
    "    return matrix(P),matrix(q)"
   ]
  },
  {
   "cell_type": "code",
   "execution_count": 147,
   "metadata": {},
   "outputs": [],
   "source": [
    "P,q = gaussianPq(trainD,Y)\n",
    "G,h = createGh(trainD.shape[0])\n",
    "A,B = createAb(Y)"
   ]
  },
  {
   "cell_type": "code",
   "execution_count": 148,
   "metadata": {},
   "outputs": [
    {
     "name": "stdout",
     "output_type": "stream",
     "text": [
      "     pcost       dcost       gap    pres   dres\n",
      " 0: -4.2846e+02 -7.6683e+03  3e+04  2e+00  7e-15\n",
      " 1: -3.2882e+02 -4.1247e+03  6e+03  2e-01  7e-15\n",
      " 2: -3.0989e+02 -9.4797e+02  7e+02  2e-02  7e-15\n",
      " 3: -3.7592e+02 -5.6057e+02  2e+02  4e-03  6e-15\n",
      " 4: -4.0510e+02 -4.5864e+02  6e+01  7e-04  6e-15\n",
      " 5: -4.1586e+02 -4.3199e+02  2e+01  1e-04  7e-15\n",
      " 6: -4.1976e+02 -4.2383e+02  4e+00  1e-05  7e-15\n",
      " 7: -4.2092e+02 -4.2164e+02  7e-01  6e-14  7e-15\n",
      " 8: -4.2117e+02 -4.2123e+02  6e-02  2e-13  7e-15\n",
      " 9: -4.2119e+02 -4.2119e+02  1e-03  5e-13  7e-15\n",
      "10: -4.2119e+02 -4.2119e+02  2e-05  5e-13  7e-15\n",
      "Optimal solution found.\n"
     ]
    }
   ],
   "source": [
    "sol=solvers.qp(P, q, G, h, A, B)"
   ]
  },
  {
   "cell_type": "code",
   "execution_count": 149,
   "metadata": {},
   "outputs": [],
   "source": [
    "alpha = np.array(sol['x'])"
   ]
  },
  {
   "cell_type": "code",
   "execution_count": 150,
   "metadata": {},
   "outputs": [],
   "source": [
    "# 1e-2 = 98.997 96.3 96.2\n",
    "# 1e-3 = 99.1 96.1 96\n",
    "alpha = stripAlpha(alpha,1e-4)"
   ]
  },
  {
   "cell_type": "code",
   "execution_count": 151,
   "metadata": {},
   "outputs": [
    {
     "name": "stdout",
     "output_type": "stream",
     "text": [
      "0.9999999992272367 0.0\n"
     ]
    }
   ],
   "source": [
    "print(alpha.max(),alpha.min())"
   ]
  },
  {
   "cell_type": "code",
   "execution_count": 152,
   "metadata": {},
   "outputs": [],
   "source": [
    "def calb(alpha,X,Y,pos,neg):\n",
    "    x = (np.array(pos.drop(columns=[784]))/255)\n",
    "    y = (np.array(neg.drop(columns=[784]))/255)\n",
    "    Y.reshape((-1,1))\n",
    "    p = ((alpha*Y)*(np.exp((-0.05)*np.square(distance.cdist(X,x,'euclidean'))))).sum(axis=0).min()\n",
    "    n = ((alpha*Y)*(np.exp((-0.05)*np.square(distance.cdist(X,y,'euclidean'))))).sum(axis=0).max()\n",
    "    b = (-1)*(p+n)/2\n",
    "    return b"
   ]
  },
  {
   "cell_type": "code",
   "execution_count": 153,
   "metadata": {},
   "outputs": [],
   "source": [
    "b = calb(alpha,trainD,Y,pos,neg)"
   ]
  },
  {
   "cell_type": "code",
   "execution_count": 154,
   "metadata": {},
   "outputs": [
    {
     "data": {
      "text/plain": [
       "-0.14470232827838264"
      ]
     },
     "execution_count": 154,
     "metadata": {},
     "output_type": "execute_result"
    }
   ],
   "source": [
    "b"
   ]
  },
  {
   "cell_type": "code",
   "execution_count": 171,
   "metadata": {},
   "outputs": [],
   "source": [
    "def predGaussianClasses(alpha,b,X,Y,data,return_score=False):\n",
    "    pred=[]\n",
    "    pred = ((alpha*Y)*(np.exp((-0.05)*np.square(distance.cdist(X,data,'euclidean'))))).sum(axis=0)\n",
    "    pred = pred+b\n",
    "    if(return_score):\n",
    "        return pred\n",
    "    index = pred < 0\n",
    "    pred[index]=-1\n",
    "    index = pred >= 0\n",
    "    pred[index]=1\n",
    "    return pred"
   ]
  },
  {
   "cell_type": "code",
   "execution_count": 156,
   "metadata": {},
   "outputs": [],
   "source": [
    "predictionTrain = predGaussianClasses(alpha,b,trainD,Y,trainD)\n",
    "predictionTest = predGaussianClasses(alpha,b,trainD,Y,testX)\n",
    "predictionVal = predGaussianClasses(alpha,b,trainD,Y,valX)"
   ]
  },
  {
   "cell_type": "code",
   "execution_count": 157,
   "metadata": {},
   "outputs": [
    {
     "name": "stdout",
     "output_type": "stream",
     "text": [
      "0.99\n",
      "0.961\n",
      "0.96\n"
     ]
    }
   ],
   "source": [
    "checkAccuracy(Y,predictionTrain)\n",
    "checkAccuracy(testY,predictionTest)\n",
    "checkAccuracy(valY,predictionVal)"
   ]
  },
  {
   "cell_type": "markdown",
   "metadata": {},
   "source": [
    "## 1(C)"
   ]
  },
  {
   "cell_type": "code",
   "execution_count": 40,
   "metadata": {},
   "outputs": [],
   "source": [
    "clfLinear = SVC(C=1.0,kernel='linear')\n",
    "clfGaussian = SVC(C=1.0,kernel='rbf',gamma=0.05)"
   ]
  },
  {
   "cell_type": "code",
   "execution_count": 41,
   "metadata": {},
   "outputs": [
    {
     "data": {
      "text/plain": [
       "SVC(C=1.0, break_ties=False, cache_size=200, class_weight=None, coef0=0.0,\n",
       "    decision_function_shape='ovr', degree=3, gamma=0.05, kernel='rbf',\n",
       "    max_iter=-1, probability=False, random_state=None, shrinking=True,\n",
       "    tol=0.001, verbose=False)"
      ]
     },
     "execution_count": 41,
     "metadata": {},
     "output_type": "execute_result"
    }
   ],
   "source": [
    "clfLinear.fit(trainD, train[784])\n",
    "clfGaussian.fit(trainD, train[784])"
   ]
  },
  {
   "cell_type": "code",
   "execution_count": 42,
   "metadata": {},
   "outputs": [],
   "source": [
    "testX,testY,_,_ = stripData(test,c1,c2)\n",
    "valX,valY,_,_ = stripData(val,c1,c2)"
   ]
  },
  {
   "cell_type": "code",
   "execution_count": 43,
   "metadata": {},
   "outputs": [],
   "source": [
    "predictionTrain = clfLinear.predict(trainD)\n",
    "predictionTest = clfLinear.predict(testX)\n",
    "predictionVal = clfLinear.predict(valX)"
   ]
  },
  {
   "cell_type": "code",
   "execution_count": 44,
   "metadata": {},
   "outputs": [
    {
     "name": "stdout",
     "output_type": "stream",
     "text": [
      "0.9862222222222222\n",
      "0.934\n",
      "0.943\n"
     ]
    }
   ],
   "source": [
    "checkAccuracy(train[784],predictionTrain)\n",
    "checkAccuracy(valY,predictionVal)\n",
    "checkAccuracy(testY,predictionTest)"
   ]
  },
  {
   "cell_type": "code",
   "execution_count": 45,
   "metadata": {},
   "outputs": [],
   "source": [
    "predictionTrain = clfGaussian.predict(trainD)\n",
    "predictionTest = clfGaussian.predict(testX)\n",
    "predictionVal = clfGaussian.predict(valX)"
   ]
  },
  {
   "cell_type": "code",
   "execution_count": 46,
   "metadata": {},
   "outputs": [
    {
     "name": "stdout",
     "output_type": "stream",
     "text": [
      "0.9902222222222222\n",
      "0.964\n",
      "0.965\n"
     ]
    }
   ],
   "source": [
    "checkAccuracy(train[784],predictionTrain)\n",
    "checkAccuracy(valY,predictionVal)\n",
    "checkAccuracy(testY,predictionTest)"
   ]
  },
  {
   "cell_type": "markdown",
   "metadata": {},
   "source": [
    "## 2(A)"
   ]
  },
  {
   "cell_type": "code",
   "execution_count": 209,
   "metadata": {},
   "outputs": [],
   "source": [
    "globalTrain,globalVal,globalTest = init()"
   ]
  },
  {
   "cell_type": "code",
   "execution_count": 210,
   "metadata": {},
   "outputs": [],
   "source": [
    "def createClf(data,classes):\n",
    "    c1 = classes[0]\n",
    "    c2 = classes[1]\n",
    "    filteredX,filteredY,pos,neg = stripData(data,c1,c2)\n",
    "\n",
    "    P,q = gaussianPq(filteredX,filteredY)\n",
    "    G,h = createGh(filteredX.shape[0])\n",
    "    A,b = createAb(filteredY)\n",
    "    sol=solvers.qp(P, q, G, h, A, B)\n",
    "    alpha = np.array(sol['x'])\n",
    "    alpha = stripAlpha(alpha,1e-4)\n",
    "    print(\"Alpha Done.\")\n",
    "    b = calb(alpha,filteredX,filteredY,pos,neg)\n",
    "    print(\"b Done.\")\n",
    "    return (alpha,b,c1,c2)"
   ]
  },
  {
   "cell_type": "code",
   "execution_count": 211,
   "metadata": {},
   "outputs": [],
   "source": [
    "l = list(itertools.combinations([0,1,2,3,4,5,6,7,8,9], 2))"
   ]
  },
  {
   "cell_type": "code",
   "execution_count": 381,
   "metadata": {},
   "outputs": [],
   "source": [
    "pickle_in = open(\"oneVone.pickle\",\"rb\")\n",
    "paraList = pickle.load(pickle_in)"
   ]
  },
  {
   "cell_type": "code",
   "execution_count": 212,
   "metadata": {},
   "outputs": [
    {
     "name": "stdout",
     "output_type": "stream",
     "text": [
      "1709.348060131073\n"
     ]
    }
   ],
   "source": [
    "# st = time.time()\n",
    "# temp = Parallel(n_jobs=-2)(delayed(createClf)(globalTrain,i) for i in l)\n",
    "# print(time.time()-st)"
   ]
  },
  {
   "cell_type": "code",
   "execution_count": 344,
   "metadata": {},
   "outputs": [],
   "source": [
    "# with open('oneVone.pickle', 'wb') as f:\n",
    "#     pickle.dump(temp, f)"
   ]
  },
  {
   "cell_type": "code",
   "execution_count": 215,
   "metadata": {},
   "outputs": [],
   "source": [
    "def classify(paraList,X,data):\n",
    "    pred=[]\n",
    "    for i in tqdm(paraList):\n",
    "        filteredX,filteredY,pos,neg = stripData(X,i[2],i[3])\n",
    "        pred.append(predGaussianClasses(i[0],i[1],filteredX,filteredY,data,return_score=True))\n",
    "    return pred"
   ]
  },
  {
   "cell_type": "code",
   "execution_count": 216,
   "metadata": {},
   "outputs": [],
   "source": [
    "# globalTrain = np.array(globalTrain.drop(columns=[784]))/255\n",
    "# globalVal = np.array(globalVal.drop(columns=[784]))/255\n",
    "# globalTest = np.array(globalTest.drop(columns=[784]))/255"
   ]
  },
  {
   "cell_type": "code",
   "execution_count": 382,
   "metadata": {},
   "outputs": [],
   "source": [
    "testY = globalTest[784]\n",
    "testX = np.array(globalTest.drop(columns=[784]))/255"
   ]
  },
  {
   "cell_type": "code",
   "execution_count": 383,
   "metadata": {},
   "outputs": [
    {
     "data": {
      "text/plain": [
       "(5000,)"
      ]
     },
     "execution_count": 383,
     "metadata": {},
     "output_type": "execute_result"
    }
   ],
   "source": [
    "testY.shape"
   ]
  },
  {
   "cell_type": "code",
   "execution_count": 384,
   "metadata": {},
   "outputs": [
    {
     "name": "stderr",
     "output_type": "stream",
     "text": [
      "100%|██████████| 45/45 [07:00<00:00,  9.35s/it]\n"
     ]
    }
   ],
   "source": [
    "predictions = classify(paraList,globalTrain,testX)"
   ]
  },
  {
   "cell_type": "code",
   "execution_count": 385,
   "metadata": {},
   "outputs": [
    {
     "data": {
      "text/plain": [
       "45"
      ]
     },
     "execution_count": 385,
     "metadata": {},
     "output_type": "execute_result"
    }
   ],
   "source": [
    "len(predictions)"
   ]
  },
  {
   "cell_type": "code",
   "execution_count": 458,
   "metadata": {},
   "outputs": [],
   "source": [
    "def findMajorityClass(predictions,l,calculations='cal'):\n",
    "    pred = []\n",
    "    n = len(predictions)\n",
    "    m = len(predictions[0])\n",
    "    for i in tqdm(range(m)):\n",
    "        temp = np.zeros((10,2))\n",
    "        for j in range(n):\n",
    "            if(calculations==\"cal\"):\n",
    "                if(predictions[j][i]<0):\n",
    "                    temp[l[j][0],0]+=1\n",
    "                    temp[l[j][0],1]+=abs(predictions[j][i])\n",
    "                else:\n",
    "                    temp[l[j][1],0]+=1\n",
    "                    temp[l[j][1],1]+=abs(predictions[j][i])\n",
    "            elif(calculations==\"SVC\"):\n",
    "                if(predictions[j][i][0]>predictions[j][i][1]):\n",
    "                    temp[l[j][0],0]+=1\n",
    "                    temp[l[j][0],1]+=abs(predictions[j][i][0])\n",
    "                else:\n",
    "                    temp[l[j][1],0]+=1\n",
    "                    temp[l[j][1],1]+=abs(predictions[j][i][1])\n",
    "        m=max(temp[:,0])\n",
    "        index=0\n",
    "        score=-1\n",
    "        for i in range(10):\n",
    "            if(temp[i][0]==m and temp[i][1]>score):\n",
    "                index=i\n",
    "                score=temp[i][1]\n",
    "        pred.append(index)\n",
    "    return pred"
   ]
  },
  {
   "cell_type": "code",
   "execution_count": 388,
   "metadata": {},
   "outputs": [
    {
     "name": "stderr",
     "output_type": "stream",
     "text": [
      "100%|██████████| 5000/5000 [00:00<00:00, 14009.43it/s]\n"
     ]
    }
   ],
   "source": [
    "oneVonePred = findMajorityClass(predictions,l)"
   ]
  },
  {
   "cell_type": "code",
   "execution_count": 389,
   "metadata": {},
   "outputs": [
    {
     "name": "stdout",
     "output_type": "stream",
     "text": [
      "0.8508\n"
     ]
    }
   ],
   "source": [
    "checkAccuracy(testY,oneVonePred)"
   ]
  },
  {
   "cell_type": "code",
   "execution_count": 390,
   "metadata": {},
   "outputs": [],
   "source": [
    "valY = globalVal[784]\n",
    "valX = np.array(globalVal.drop(columns=[784]))/255"
   ]
  },
  {
   "cell_type": "code",
   "execution_count": 391,
   "metadata": {},
   "outputs": [
    {
     "data": {
      "text/plain": [
       "(2500, 784)"
      ]
     },
     "execution_count": 391,
     "metadata": {},
     "output_type": "execute_result"
    }
   ],
   "source": [
    "valX.shape"
   ]
  },
  {
   "cell_type": "code",
   "execution_count": 333,
   "metadata": {},
   "outputs": [
    {
     "name": "stderr",
     "output_type": "stream",
     "text": [
      "100%|██████████| 45/45 [03:26<00:00,  4.59s/it]\n"
     ]
    }
   ],
   "source": [
    "predictionsVal = classify(paraList,globalTrain,valX)"
   ]
  },
  {
   "cell_type": "code",
   "execution_count": 338,
   "metadata": {},
   "outputs": [
    {
     "name": "stderr",
     "output_type": "stream",
     "text": [
      "100%|██████████| 2500/2500 [00:00<00:00, 13815.21it/s]"
     ]
    },
    {
     "name": "stdout",
     "output_type": "stream",
     "text": [
      "0.8496\n"
     ]
    },
    {
     "name": "stderr",
     "output_type": "stream",
     "text": [
      "\n"
     ]
    }
   ],
   "source": [
    "oneVonePredVal = findMajorityClass(predictionsVal,l)\n",
    "checkAccuracy(valY,oneVonePredVal)"
   ]
  },
  {
   "cell_type": "code",
   "execution_count": 392,
   "metadata": {},
   "outputs": [],
   "source": [
    "trainY = globalTrain[784]\n",
    "trainX = np.array(globalTrain.drop(columns=[784]))/255"
   ]
  },
  {
   "cell_type": "code",
   "execution_count": 394,
   "metadata": {},
   "outputs": [],
   "source": [
    "predictionsTrain = classify(paraList,globalTrain,trainX)"
   ]
  },
  {
   "cell_type": "code",
   "execution_count": null,
   "metadata": {},
   "outputs": [],
   "source": [
    "oneVonePredTrain = findMajorityClass(predictionsTrain,l)\n",
    "checkAccuracy(trainY,oneVonePredTrain)"
   ]
  },
  {
   "cell_type": "markdown",
   "metadata": {},
   "source": [
    "## 2(B)"
   ]
  },
  {
   "cell_type": "code",
   "execution_count": 362,
   "metadata": {},
   "outputs": [],
   "source": [
    "def createSVMs(data,classes):\n",
    "    c1 = classes[0]\n",
    "    c2 = classes[1]\n",
    "    filteredX,filteredY,pos,neg = stripData(data,c1,c2)\n",
    "    filteredY.reshape((1,-1))\n",
    "    clf = SVC(C=1.0,kernel='rbf',gamma=0.05,probability=True)\n",
    "    clf.fit(filteredX,filteredY.ravel())\n",
    "    print(\"Done\")\n",
    "    return clf\n",
    "\n",
    "def allPredictions(clfList,data):\n",
    "    pred = []\n",
    "    for i in tqdm(clfList):\n",
    "        x = i.predict_proba(data)\n",
    "        pred.append(x)\n",
    "    return pred"
   ]
  },
  {
   "cell_type": "code",
   "execution_count": 363,
   "metadata": {},
   "outputs": [],
   "source": [
    "# st = time.time()\n",
    "# temp = Parallel(n_jobs=-2)(delayed(createSVMs)(globalTrain,i) for i in l)\n",
    "# print(time.time()-st)"
   ]
  },
  {
   "cell_type": "code",
   "execution_count": 364,
   "metadata": {},
   "outputs": [],
   "source": [
    "# with open('oneVoneSVM.pickle', 'wb') as f:\n",
    "#     pickle.dump(temp, f)"
   ]
  },
  {
   "cell_type": "code",
   "execution_count": 365,
   "metadata": {},
   "outputs": [],
   "source": [
    "pickle_in = open(\"oneVoneSVM.pickle\",\"rb\")\n",
    "clfList = pickle.load(pickle_in)"
   ]
  },
  {
   "cell_type": "code",
   "execution_count": 447,
   "metadata": {},
   "outputs": [],
   "source": [
    "testY = globalTest[784]\n",
    "testX = np.array(globalTest.drop(columns=[784]))/255"
   ]
  },
  {
   "cell_type": "code",
   "execution_count": 448,
   "metadata": {},
   "outputs": [
    {
     "name": "stderr",
     "output_type": "stream",
     "text": [
      "\n",
      "  0%|          | 0/45 [00:00<?, ?it/s]\u001b[A\n",
      "  2%|▏         | 1/45 [00:02<01:53,  2.59s/it]\u001b[A\n",
      "  4%|▍         | 2/45 [00:06<02:12,  3.08s/it]\u001b[A\n",
      "  7%|▋         | 3/45 [00:11<02:33,  3.65s/it]\u001b[A\n",
      "  9%|▉         | 4/45 [00:15<02:27,  3.59s/it]\u001b[A\n",
      " 11%|█         | 5/45 [00:18<02:19,  3.48s/it]\u001b[A\n",
      " 13%|█▎        | 6/45 [00:26<03:04,  4.74s/it]\u001b[A\n",
      " 16%|█▌        | 7/45 [00:28<02:27,  3.89s/it]\u001b[A\n",
      " 18%|█▊        | 8/45 [00:32<02:27,  3.99s/it]\u001b[A\n",
      " 20%|██        | 9/45 [00:34<02:08,  3.58s/it]\u001b[A\n",
      " 22%|██▏       | 10/45 [00:37<01:54,  3.28s/it]\u001b[A\n",
      " 24%|██▍       | 11/45 [00:40<01:49,  3.21s/it]\u001b[A\n",
      " 27%|██▋       | 12/45 [00:42<01:37,  2.96s/it]\u001b[A\n",
      " 29%|██▉       | 13/45 [00:45<01:29,  2.81s/it]\u001b[A\n",
      " 31%|███       | 14/45 [00:48<01:28,  2.86s/it]\u001b[A\n",
      " 33%|███▎      | 15/45 [00:49<01:11,  2.39s/it]\u001b[A\n",
      " 36%|███▌      | 16/45 [00:53<01:18,  2.69s/it]\u001b[A\n",
      " 38%|███▊      | 17/45 [00:54<01:09,  2.48s/it]\u001b[A\n",
      " 40%|████      | 18/45 [00:58<01:17,  2.86s/it]\u001b[A\n",
      " 42%|████▏     | 19/45 [01:06<01:54,  4.39s/it]\u001b[A\n",
      " 44%|████▍     | 20/45 [01:10<01:42,  4.09s/it]\u001b[A\n",
      " 47%|████▋     | 21/45 [01:18<02:10,  5.44s/it]\u001b[A\n",
      " 49%|████▉     | 22/45 [01:20<01:41,  4.40s/it]\u001b[A\n",
      " 51%|█████     | 23/45 [01:25<01:37,  4.43s/it]\u001b[A\n",
      " 53%|█████▎    | 24/45 [01:27<01:22,  3.92s/it]\u001b[A\n",
      " 56%|█████▌    | 25/45 [01:31<01:19,  3.96s/it]\u001b[A\n",
      " 58%|█████▊    | 26/45 [01:34<01:09,  3.66s/it]\u001b[A\n",
      " 60%|██████    | 27/45 [01:40<01:14,  4.16s/it]\u001b[A\n",
      " 62%|██████▏   | 28/45 [01:41<00:58,  3.41s/it]\u001b[A\n",
      " 64%|██████▍   | 29/45 [01:45<00:56,  3.56s/it]\u001b[A\n",
      " 67%|██████▋   | 30/45 [01:48<00:48,  3.21s/it]\u001b[A\n",
      " 69%|██████▉   | 31/45 [01:51<00:44,  3.18s/it]\u001b[A\n",
      " 71%|███████   | 32/45 [01:59<00:59,  4.55s/it]\u001b[A\n",
      " 73%|███████▎  | 33/45 [02:00<00:44,  3.73s/it]\u001b[A\n",
      " 76%|███████▌  | 34/45 [02:05<00:42,  3.90s/it]\u001b[A\n",
      " 78%|███████▊  | 35/45 [02:07<00:35,  3.51s/it]\u001b[A\n",
      " 80%|████████  | 36/45 [02:11<00:31,  3.54s/it]\u001b[A\n",
      " 82%|████████▏ | 37/45 [02:16<00:31,  3.88s/it]\u001b[A\n",
      " 84%|████████▍ | 38/45 [02:21<00:29,  4.23s/it]\u001b[A\n",
      " 87%|████████▋ | 39/45 [02:25<00:25,  4.25s/it]\u001b[A\n",
      " 89%|████████▉ | 40/45 [02:27<00:18,  3.62s/it]\u001b[A\n",
      " 91%|█████████ | 41/45 [02:32<00:16,  4.07s/it]\u001b[A\n",
      " 93%|█████████▎| 42/45 [02:35<00:11,  3.73s/it]\u001b[A\n",
      " 96%|█████████▌| 43/45 [02:38<00:07,  3.61s/it]\u001b[A\n",
      " 98%|█████████▊| 44/45 [02:42<00:03,  3.72s/it]\u001b[A\n",
      "100%|██████████| 45/45 [02:46<00:00,  3.71s/it]\u001b[A\n"
     ]
    }
   ],
   "source": [
    "predictionsTest = allPredictions(clfList,testX)"
   ]
  },
  {
   "cell_type": "code",
   "execution_count": 459,
   "metadata": {},
   "outputs": [
    {
     "name": "stderr",
     "output_type": "stream",
     "text": [
      "\n",
      "  0%|          | 0/5000 [00:00<?, ?it/s]\u001b[A\n",
      " 20%|█▉        | 976/5000 [00:00<00:00, 9752.99it/s]\u001b[A\n",
      " 40%|███▉      | 1981/5000 [00:00<00:00, 9839.83it/s]\u001b[A\n",
      " 59%|█████▉    | 2967/5000 [00:00<00:00, 9845.48it/s]\u001b[A\n",
      " 79%|███████▉  | 3946/5000 [00:00<00:00, 9826.35it/s]\u001b[A\n",
      "100%|██████████| 5000/5000 [00:00<00:00, 9820.10it/s]\u001b[A\n"
     ]
    }
   ],
   "source": [
    "oneVonePredSVC = findMajorityClass(predictionsTest,l,calculations=\"SVC\")"
   ]
  },
  {
   "cell_type": "code",
   "execution_count": 460,
   "metadata": {},
   "outputs": [
    {
     "name": "stdout",
     "output_type": "stream",
     "text": [
      "0.8814\n"
     ]
    }
   ],
   "source": [
    "checkAccuracy(testY,oneVonePredSVC)"
   ]
  },
  {
   "cell_type": "code",
   "execution_count": 515,
   "metadata": {},
   "outputs": [],
   "source": [
    "valY = globalVal[784]\n",
    "valX = np.array(globalVal.drop(columns=[784]))/255"
   ]
  },
  {
   "cell_type": "code",
   "execution_count": 473,
   "metadata": {
    "scrolled": true
   },
   "outputs": [
    {
     "name": "stderr",
     "output_type": "stream",
     "text": [
      "\n",
      "\n",
      "  0%|          | 0/45 [00:00<?, ?it/s]\u001b[A\u001b[A\n",
      "\n",
      "  2%|▏         | 1/45 [00:01<01:07,  1.54s/it]\u001b[A\u001b[A\n",
      "\n",
      "  4%|▍         | 2/45 [00:03<01:13,  1.71s/it]\u001b[A\u001b[A\n",
      "\n",
      "  7%|▋         | 3/45 [00:06<01:22,  1.96s/it]\u001b[A\u001b[A\n",
      "\n",
      "  9%|▉         | 4/45 [00:07<01:17,  1.90s/it]\u001b[A\u001b[A\n",
      "\n",
      " 11%|█         | 5/45 [00:09<01:12,  1.82s/it]\u001b[A\u001b[A\n",
      "\n",
      " 13%|█▎        | 6/45 [00:13<01:36,  2.47s/it]\u001b[A\u001b[A\n",
      "\n",
      " 16%|█▌        | 7/45 [00:14<01:16,  2.01s/it]\u001b[A\u001b[A\n",
      "\n",
      " 18%|█▊        | 8/45 [00:16<01:16,  2.06s/it]\u001b[A\u001b[A\n",
      "\n",
      " 20%|██        | 9/45 [00:18<01:06,  1.84s/it]\u001b[A\u001b[A\n",
      "\n",
      " 22%|██▏       | 10/45 [00:19<00:58,  1.68s/it]\u001b[A\u001b[A\n",
      "\n",
      " 24%|██▍       | 11/45 [00:20<00:55,  1.64s/it]\u001b[A\u001b[A\n",
      "\n",
      " 27%|██▋       | 12/45 [00:22<00:49,  1.51s/it]\u001b[A\u001b[A\n",
      "\n",
      " 29%|██▉       | 13/45 [00:23<00:45,  1.43s/it]\u001b[A\u001b[A\n",
      "\n",
      " 31%|███       | 14/45 [00:24<00:45,  1.45s/it]\u001b[A\u001b[A\n",
      "\n",
      " 33%|███▎      | 15/45 [00:25<00:36,  1.21s/it]\u001b[A\u001b[A\n",
      "\n",
      " 36%|███▌      | 16/45 [00:27<00:38,  1.33s/it]\u001b[A\u001b[A\n",
      "\n",
      " 38%|███▊      | 17/45 [00:28<00:34,  1.24s/it]\u001b[A\u001b[A\n",
      "\n",
      " 40%|████      | 18/45 [00:29<00:38,  1.41s/it]\u001b[A\u001b[A\n",
      "\n",
      " 42%|████▏     | 19/45 [00:33<00:56,  2.16s/it]\u001b[A\u001b[A\n",
      "\n",
      " 44%|████▍     | 20/45 [00:35<00:50,  2.02s/it]\u001b[A\u001b[A\n",
      "\n",
      " 47%|████▋     | 21/45 [00:39<01:04,  2.70s/it]\u001b[A\u001b[A\n",
      "\n",
      " 49%|████▉     | 22/45 [00:40<00:50,  2.21s/it]\u001b[A\u001b[A\n",
      "\n",
      " 51%|█████     | 23/45 [00:43<00:50,  2.28s/it]\u001b[A\u001b[A\n",
      "\n",
      " 53%|█████▎    | 24/45 [00:44<00:42,  2.02s/it]\u001b[A\u001b[A\n",
      "\n",
      " 56%|█████▌    | 25/45 [00:46<00:40,  2.02s/it]\u001b[A\u001b[A\n",
      "\n",
      " 58%|█████▊    | 26/45 [00:48<00:35,  1.86s/it]\u001b[A\u001b[A\n",
      "\n",
      " 60%|██████    | 27/45 [00:51<00:38,  2.14s/it]\u001b[A\u001b[A\n",
      "\n",
      " 62%|██████▏   | 28/45 [00:51<00:29,  1.76s/it]\u001b[A\u001b[A\n",
      "\n",
      " 64%|██████▍   | 29/45 [00:54<00:29,  1.87s/it]\u001b[A\u001b[A\n",
      "\n",
      " 67%|██████▋   | 30/45 [00:55<00:25,  1.67s/it]\u001b[A\u001b[A\n",
      "\n",
      " 69%|██████▉   | 31/45 [00:56<00:22,  1.64s/it]\u001b[A\u001b[A\n",
      "\n",
      " 71%|███████   | 32/45 [01:00<00:31,  2.39s/it]\u001b[A\u001b[A\n",
      "\n",
      " 73%|███████▎  | 33/45 [01:01<00:23,  1.95s/it]\u001b[A\u001b[A\n",
      "\n",
      " 76%|███████▌  | 34/45 [01:04<00:22,  2.03s/it]\u001b[A\u001b[A\n",
      "\n",
      " 78%|███████▊  | 35/45 [01:05<00:18,  1.81s/it]\u001b[A\u001b[A\n",
      "\n",
      " 80%|████████  | 36/45 [01:07<00:16,  1.81s/it]\u001b[A\u001b[A\n",
      "\n",
      " 82%|████████▏ | 37/45 [01:09<00:15,  1.97s/it]\u001b[A\u001b[A\n",
      "\n",
      " 84%|████████▍ | 38/45 [01:12<00:14,  2.14s/it]\u001b[A\u001b[A\n",
      "\n",
      " 87%|████████▋ | 39/45 [01:14<00:12,  2.15s/it]\u001b[A\u001b[A\n",
      "\n",
      " 89%|████████▉ | 40/45 [01:15<00:09,  1.83s/it]\u001b[A\u001b[A\n",
      "\n",
      " 91%|█████████ | 41/45 [01:17<00:08,  2.06s/it]\u001b[A\u001b[A\n",
      "\n",
      " 93%|█████████▎| 42/45 [01:19<00:05,  1.88s/it]\u001b[A\u001b[A\n",
      "\n",
      " 96%|█████████▌| 43/45 [01:21<00:03,  1.83s/it]\u001b[A\u001b[A\n",
      "\n",
      " 98%|█████████▊| 44/45 [01:23<00:01,  1.88s/it]\u001b[A\u001b[A\n",
      "\n",
      "100%|██████████| 45/45 [01:25<00:00,  1.89s/it]\u001b[A\u001b[A\n"
     ]
    }
   ],
   "source": [
    "predictionsVal = allPredictions(clfList,valX)"
   ]
  },
  {
   "cell_type": "code",
   "execution_count": 474,
   "metadata": {},
   "outputs": [
    {
     "name": "stderr",
     "output_type": "stream",
     "text": [
      "\n",
      "\n",
      "  0%|          | 0/2500 [00:00<?, ?it/s]\u001b[A\u001b[A\n",
      "\n",
      " 40%|███▉      | 997/2500 [00:00<00:00, 9960.91it/s]\u001b[A\u001b[A\n",
      "\n",
      "100%|██████████| 2500/2500 [00:00<00:00, 9718.69it/s]\u001b[A\u001b[A"
     ]
    },
    {
     "name": "stdout",
     "output_type": "stream",
     "text": [
      "0.8808\n"
     ]
    },
    {
     "name": "stderr",
     "output_type": "stream",
     "text": [
      "\n"
     ]
    }
   ],
   "source": [
    "oneVonePredVal = findMajorityClass(predictionsVal,l,calculations=\"SVC\")\n",
    "checkAccuracy(valY,oneVonePredVal)"
   ]
  },
  {
   "cell_type": "markdown",
   "metadata": {},
   "source": [
    "# 2(C)"
   ]
  },
  {
   "cell_type": "code",
   "execution_count": 546,
   "metadata": {},
   "outputs": [],
   "source": [
    "def confusionMatrix(test,prediction):\n",
    "    mat = np.zeros((10,10))\n",
    "    index=0\n",
    "    for i in range(len(prediction)):\n",
    "        mat[int(test[i]),int(prediction[i])] += 1\n",
    "    return mat"
   ]
  },
  {
   "cell_type": "code",
   "execution_count": 547,
   "metadata": {},
   "outputs": [
    {
     "data": {
      "text/plain": [
       "3.0"
      ]
     },
     "execution_count": 547,
     "metadata": {},
     "output_type": "execute_result"
    }
   ],
   "source": [
    "valY[12]"
   ]
  },
  {
   "cell_type": "code",
   "execution_count": 553,
   "metadata": {},
   "outputs": [
    {
     "data": {
      "text/plain": [
       "array([[211.,   1.,   1.,   8.,   0.,   0.,  27.,   0.,   2.,   0.],\n",
       "       [  0., 239.,   2.,   6.,   0.,   0.,   2.,   0.,   1.,   0.],\n",
       "       [  5.,   0., 206.,   3.,  19.,   0.,  13.,   0.,   4.,   0.],\n",
       "       [  5.,   0.,   0., 229.,   6.,   0.,   9.,   0.,   1.,   0.],\n",
       "       [  1.,   1.,  23.,   8., 201.,   0.,  15.,   0.,   1.,   0.],\n",
       "       [  0.,   0.,   0.,   1.,   0., 240.,   0.,   2.,   1.,   6.],\n",
       "       [ 32.,   0.,  27.,   4.,  20.,   0., 166.,   0.,   1.,   0.],\n",
       "       [  0.,   0.,   0.,   0.,   0.,   8.,   0., 230.,   1.,  11.],\n",
       "       [  0.,   0.,   1.,   1.,   1.,   0.,   1.,   2., 244.,   0.],\n",
       "       [  0.,   0.,   0.,   0.,   0.,   5.,   0.,   8.,   1., 236.]])"
      ]
     },
     "execution_count": 553,
     "metadata": {},
     "output_type": "execute_result"
    }
   ],
   "source": [
    "confusion = confusionMatrix(valY,oneVonePredVal)\n",
    "confusion"
   ]
  },
  {
   "cell_type": "code",
   "execution_count": 556,
   "metadata": {},
   "outputs": [
    {
     "data": {
      "text/plain": [
       "<matplotlib.axes._subplots.AxesSubplot at 0x7fcc3fa5a550>"
      ]
     },
     "execution_count": 556,
     "metadata": {},
     "output_type": "execute_result"
    },
    {
     "data": {
      "image/png": "[encoded data removed]",
      "text/plain": [
       "<Figure size 504x360 with 2 Axes>"
      ]
     },
     "metadata": {
      "needs_background": "light"
     },
     "output_type": "display_data"
    }
   ],
   "source": [
    "df_cm = pd.DataFrame(confusion.astype(int), index = [i for i in \"0123456789\"],\n",
    "                  columns = [i for i in \"0123456789\"])\n",
    "plt.figure(figsize = (7,5))\n",
    "sns.set(font_scale=1.4)\n",
    "sns.heatmap(df_cm,cmap=\"Blues\", annot=True,fmt=\"d\",linewidth=1,annot_kws={\"size\": 16})"
   ]
  },
  {
   "cell_type": "markdown",
   "metadata": {},
   "source": [
    "# 2(D)"
   ]
  },
  {
   "cell_type": "code",
   "execution_count": null,
   "metadata": {},
   "outputs": [],
   "source": []
  }
 ],
 "metadata": {
  "kernelspec": {
   "display_name": "Python 3",
   "language": "python",
   "name": "python3"
  },
  "language_info": {
   "codemirror_mode": {
    "name": "ipython",
    "version": 3
   },
   "file_extension": ".py",
   "mimetype": "text/x-python",
   "name": "python",
   "nbconvert_exporter": "python",
   "pygments_lexer": "ipython3",
   "version": "3.7.4"
  }
 },
 "nbformat": 4,
 "nbformat_minor": 4
}
