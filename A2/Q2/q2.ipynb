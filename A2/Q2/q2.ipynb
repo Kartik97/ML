{
 "cells": [
  {
   "cell_type": "markdown",
   "metadata": {},
   "source": [
    "## 1(A)"
   ]
  },
  {
   "cell_type": "code",
   "execution_count": 1,
   "metadata": {},
   "outputs": [],
   "source": [
    "import numpy as np\n",
    "import pandas as pd\n",
    "import cvxopt\n",
    "from cvxopt import solvers,matrix\n",
    "from sklearn.svm import SVC\n",
    "import math\n",
    "from tqdm import tqdm\n",
    "import multiprocessing as mp\n",
    "from multiprocessing import Pool\n",
    "import itertools\n",
    "import threading\n",
    "import pickle\n",
    "from joblib import Parallel, delayed\n",
    "import time\n",
    "from scipy.spatial import distance\n",
    "import matplotlib.pyplot as plt\n",
    "import seaborn as sns\n",
    "from sklearn.model_selection import KFold,cross_val_score,StratifiedKFold"
   ]
  },
  {
   "cell_type": "code",
   "execution_count": 2,
   "metadata": {},
   "outputs": [],
   "source": [
    "def init():\n",
    "    train = pd.read_csv(\"fashion_mnist/train.csv\",header=None)\n",
    "    val = pd.read_csv(\"fashion_mnist/val.csv\",header=None)\n",
    "    test = pd.read_csv(\"fashion_mnist/test.csv\",header=None)\n",
    "    return train,val,test"
   ]
  },
  {
   "cell_type": "code",
   "execution_count": 3,
   "metadata": {},
   "outputs": [],
   "source": [
    "train,val,test = init()\n",
    "c1=3\n",
    "c2=4"
   ]
  },
  {
   "cell_type": "code",
   "execution_count": 4,
   "metadata": {},
   "outputs": [],
   "source": [
    "def stripData(data,c1,c2):\n",
    "    data = data[data[784]==c1].append(data[data[784]==c2])\n",
    "    data.loc[data[784]==c1,784]=-1\n",
    "    data.loc[data[784]==c2,784]=1\n",
    "    Y = np.reshape(np.array(data[784]),(-1,1))\n",
    "    pos = data[data[784]==1]\n",
    "    neg = data[data[784]==-1]\n",
    "    data = np.array(data.drop(columns=[784]))/255\n",
    "    return data,Y,pos,neg"
   ]
  },
  {
   "cell_type": "code",
   "execution_count": 5,
   "metadata": {},
   "outputs": [],
   "source": [
    "train = train[train[784]==c1].append(train[train[784]==c2])"
   ]
  },
  {
   "cell_type": "code",
   "execution_count": 6,
   "metadata": {},
   "outputs": [],
   "source": [
    "train.loc[train[784]==c1,784]=-1\n",
    "train.loc[train[784]==c2,784]=1\n",
    "pos = train[train[784]==1]\n",
    "neg = train[train[784]==-1]\n",
    "Y = np.array(train[784])\n",
    "trainD = np.array(train.drop(columns=[784]))/255"
   ]
  },
  {
   "cell_type": "code",
   "execution_count": 7,
   "metadata": {},
   "outputs": [],
   "source": [
    "Y = Y.reshape((Y.shape[0],1))"
   ]
  },
  {
   "cell_type": "code",
   "execution_count": 8,
   "metadata": {},
   "outputs": [
    {
     "data": {
      "text/plain": [
       "(4500, 784)"
      ]
     },
     "execution_count": 8,
     "metadata": {},
     "output_type": "execute_result"
    }
   ],
   "source": [
    "trainD.shape"
   ]
  },
  {
   "cell_type": "code",
   "execution_count": 5,
   "metadata": {},
   "outputs": [],
   "source": [
    "def createPq(data,out):\n",
    "    P = (out@out.T)*(data@data.T)\n",
    "    q = (-1)*np.ones((P.shape[0],1))\n",
    "    return matrix(P),matrix(q)\n",
    "\n",
    "def createGh(m):\n",
    "    u = np.identity(m)\n",
    "    d = (-1)*np.identity(m)\n",
    "    G = np.append(u,d,axis=0)\n",
    "    h = np.append(np.ones((m,1)),np.zeros((m,1)),axis=0)\n",
    "    return matrix(G),matrix(h)\n",
    "\n",
    "def createAb(out):\n",
    "    m = out.shape[0]\n",
    "    A = out.copy()\n",
    "    A = A.T\n",
    "    b = 0\n",
    "    return matrix(A,(1,m),'d'),matrix(b,(1,1),'d')"
   ]
  },
  {
   "cell_type": "code",
   "execution_count": 10,
   "metadata": {},
   "outputs": [],
   "source": [
    "P,q = createPq(trainD,Y)\n",
    "G,h = createGh(trainD.shape[0])\n",
    "A,B = createAb(Y)"
   ]
  },
  {
   "cell_type": "code",
   "execution_count": 11,
   "metadata": {},
   "outputs": [
    {
     "name": "stdout",
     "output_type": "stream",
     "text": [
      "     pcost       dcost       gap    pres   dres\n",
      " 0: -7.6996e+02 -9.4221e+03  5e+04  3e+00  2e-11\n",
      " 1: -5.0971e+02 -5.5267e+03  1e+04  4e-01  2e-11\n",
      " 2: -3.4948e+02 -1.8871e+03  3e+03  1e-01  2e-11\n",
      " 3: -2.7529e+02 -9.4339e+02  1e+03  4e-02  1e-11\n",
      " 4: -2.3683e+02 -5.8695e+02  6e+02  2e-02  1e-11\n",
      " 5: -2.1335e+02 -3.9050e+02  3e+02  6e-03  1e-11\n",
      " 6: -2.1473e+02 -2.5858e+02  6e+01  9e-04  1e-11\n",
      " 7: -2.1941e+02 -2.3321e+02  2e+01  2e-04  1e-11\n",
      " 8: -2.2236e+02 -2.2552e+02  3e+00  2e-05  1e-11\n",
      " 9: -2.2339e+02 -2.2362e+02  2e-01  6e-07  1e-11\n",
      "10: -2.2348e+02 -2.2349e+02  1e-02  3e-08  1e-11\n",
      "11: -2.2348e+02 -2.2348e+02  2e-04  5e-10  1e-11\n",
      "Optimal solution found.\n"
     ]
    }
   ],
   "source": [
    "sol=solvers.qp(P, q, G, h, A, B)"
   ]
  },
  {
   "cell_type": "code",
   "execution_count": 12,
   "metadata": {},
   "outputs": [],
   "source": [
    "alpha = np.array(sol['x'])"
   ]
  },
  {
   "cell_type": "code",
   "execution_count": 13,
   "metadata": {},
   "outputs": [
    {
     "data": {
      "text/plain": [
       "0.9999999952478656"
      ]
     },
     "execution_count": 13,
     "metadata": {},
     "output_type": "execute_result"
    }
   ],
   "source": [
    "alpha.max()"
   ]
  },
  {
   "cell_type": "code",
   "execution_count": 6,
   "metadata": {},
   "outputs": [],
   "source": [
    "def stripAlpha(alpha,E):\n",
    "    index = alpha < E\n",
    "    alpha[index] = 0\n",
    "    return alpha"
   ]
  },
  {
   "cell_type": "code",
   "execution_count": 15,
   "metadata": {},
   "outputs": [],
   "source": [
    "alpha = stripAlpha(alpha,1e-4)"
   ]
  },
  {
   "cell_type": "code",
   "execution_count": 16,
   "metadata": {},
   "outputs": [
    {
     "data": {
      "text/plain": [
       "494"
      ]
     },
     "execution_count": 16,
     "metadata": {},
     "output_type": "execute_result"
    }
   ],
   "source": [
    "index = alpha != 0\n",
    "index.sum()"
   ]
  },
  {
   "cell_type": "code",
   "execution_count": 7,
   "metadata": {},
   "outputs": [],
   "source": [
    "def calwb(alpha,X,Y,pos,neg):\n",
    "    w = X.T@(alpha*Y)\n",
    "    x = (np.array(pos.drop(columns=[784]))/255)\n",
    "    y = (np.array(neg.drop(columns=[784]))/255)\n",
    "    b = (-1)*((x@w).min()+(y@w).max())/2\n",
    "    return w,b"
   ]
  },
  {
   "cell_type": "code",
   "execution_count": 18,
   "metadata": {},
   "outputs": [],
   "source": [
    "w,b = calwb(alpha,trainD,Y,pos,neg)"
   ]
  },
  {
   "cell_type": "code",
   "execution_count": 8,
   "metadata": {},
   "outputs": [],
   "source": [
    "def predClasses(w,b,data):\n",
    "    pred = []\n",
    "    for i in data:\n",
    "        temp = i.reshape((1,-1))@w+b\n",
    "        if temp<0:\n",
    "            pred.append(-1)\n",
    "        else:\n",
    "            pred.append(1)\n",
    "    return pred"
   ]
  },
  {
   "cell_type": "code",
   "execution_count": 20,
   "metadata": {},
   "outputs": [],
   "source": [
    "predictionTrain = predClasses(w,b,trainD)"
   ]
  },
  {
   "cell_type": "code",
   "execution_count": 9,
   "metadata": {},
   "outputs": [],
   "source": [
    "def checkAccuracy(y,pred):\n",
    "    y = np.array(y).reshape((-1,1))\n",
    "    pred = np.array(pred).reshape((-1,1))\n",
    "    check = (y==pred)\n",
    "    t=0\n",
    "    f=0\n",
    "    for i in check:\n",
    "        if i:\n",
    "            t=t+1\n",
    "        else:\n",
    "            f=f+1\n",
    "    print(t/(t+f))"
   ]
  },
  {
   "cell_type": "code",
   "execution_count": 22,
   "metadata": {},
   "outputs": [
    {
     "name": "stdout",
     "output_type": "stream",
     "text": [
      "0.9862222222222222\n"
     ]
    }
   ],
   "source": [
    "checkAccuracy(train[784],predictionTrain)"
   ]
  },
  {
   "cell_type": "code",
   "execution_count": 23,
   "metadata": {},
   "outputs": [],
   "source": [
    "testX,testY,_,_ = stripData(test,c1,c2)\n",
    "valX,valY,_,_ = stripData(val,c1,c2)"
   ]
  },
  {
   "cell_type": "code",
   "execution_count": 24,
   "metadata": {},
   "outputs": [
    {
     "name": "stdout",
     "output_type": "stream",
     "text": [
      "0.945\n"
     ]
    }
   ],
   "source": [
    "predictionTest = predClasses(w,b,testX)\n",
    "checkAccuracy(testY,np.array(predictionTest))"
   ]
  },
  {
   "cell_type": "code",
   "execution_count": 25,
   "metadata": {},
   "outputs": [
    {
     "data": {
      "text/plain": [
       "(1000, 784)"
      ]
     },
     "execution_count": 25,
     "metadata": {},
     "output_type": "execute_result"
    }
   ],
   "source": [
    "testX.shape"
   ]
  },
  {
   "cell_type": "code",
   "execution_count": 26,
   "metadata": {},
   "outputs": [
    {
     "name": "stdout",
     "output_type": "stream",
     "text": [
      "0.936\n"
     ]
    }
   ],
   "source": [
    "predictionVal = predClasses(w,b,valX)\n",
    "checkAccuracy(valY,predictionVal)"
   ]
  },
  {
   "cell_type": "markdown",
   "metadata": {},
   "source": [
    "## 1(B)"
   ]
  },
  {
   "cell_type": "code",
   "execution_count": 10,
   "metadata": {},
   "outputs": [],
   "source": [
    "def K(x,z,gamma=0.05):\n",
    "    norm = np.reshape((x-z),(1,-1))\n",
    "    norm = norm@norm.T\n",
    "    return math.exp((-gamma)*norm)"
   ]
  },
  {
   "cell_type": "code",
   "execution_count": 11,
   "metadata": {},
   "outputs": [],
   "source": [
    "def gaussianPq(data,out):\n",
    "    m = data.shape[0]\n",
    "    kernelMatrix=np.exp((-0.05)*np.square(distance.cdist(data,data,'euclidean')))\n",
    "    P = (out@out.T)*kernelMatrix\n",
    "    q = (-1)*np.ones((P.shape[0],1))\n",
    "    return matrix(P),matrix(q)"
   ]
  },
  {
   "cell_type": "code",
   "execution_count": null,
   "metadata": {},
   "outputs": [],
   "source": [
    "P,q = gaussianPq(trainD,Y)\n",
    "G,h = createGh(trainD.shape[0])\n",
    "A,B = createAb(Y)"
   ]
  },
  {
   "cell_type": "code",
   "execution_count": null,
   "metadata": {},
   "outputs": [],
   "source": [
    "sol=solvers.qp(P, q, G, h, A, B)"
   ]
  },
  {
   "cell_type": "code",
   "execution_count": null,
   "metadata": {},
   "outputs": [],
   "source": [
    "alpha = np.array(sol['x'])"
   ]
  },
  {
   "cell_type": "code",
   "execution_count": null,
   "metadata": {},
   "outputs": [],
   "source": [
    "# 1e-2 = 98.997 96.3 96.2\n",
    "# 1e-3 = 99.1 96.1 96\n",
    "alpha = stripAlpha(alpha,1e-4)"
   ]
  },
  {
   "cell_type": "code",
   "execution_count": null,
   "metadata": {},
   "outputs": [],
   "source": [
    "index = alpha != 0\n",
    "index.sum()"
   ]
  },
  {
   "cell_type": "code",
   "execution_count": 12,
   "metadata": {},
   "outputs": [],
   "source": [
    "def calb(alpha,X,Y,pos,neg):\n",
    "    x = (np.array(pos.drop(columns=[784]))/255)\n",
    "    y = (np.array(neg.drop(columns=[784]))/255)\n",
    "    Y.reshape((-1,1))\n",
    "    p = ((alpha*Y)*(np.exp((-0.05)*np.square(distance.cdist(X,x,'euclidean'))))).sum(axis=0).min()\n",
    "    n = ((alpha*Y)*(np.exp((-0.05)*np.square(distance.cdist(X,y,'euclidean'))))).sum(axis=0).max()\n",
    "    b = (-1)*(p+n)/2\n",
    "    return b"
   ]
  },
  {
   "cell_type": "code",
   "execution_count": null,
   "metadata": {},
   "outputs": [],
   "source": [
    "b = calb(alpha,trainD,Y,pos,neg)"
   ]
  },
  {
   "cell_type": "code",
   "execution_count": null,
   "metadata": {},
   "outputs": [],
   "source": [
    "b"
   ]
  },
  {
   "cell_type": "code",
   "execution_count": 13,
   "metadata": {},
   "outputs": [],
   "source": [
    "def predGaussianClasses(alpha,b,X,Y,data,return_score=False):\n",
    "    pred=[]\n",
    "    pred = ((alpha*Y)*(np.exp((-0.05)*np.square(distance.cdist(X,data,'euclidean'))))).sum(axis=0)\n",
    "    pred = pred+b\n",
    "    if(return_score):\n",
    "        return pred\n",
    "    index = pred < 0\n",
    "    pred[index]=-1\n",
    "    index = pred >= 0\n",
    "    pred[index]=1\n",
    "    return pred"
   ]
  },
  {
   "cell_type": "code",
   "execution_count": null,
   "metadata": {},
   "outputs": [],
   "source": [
    "predictionTrain = predGaussianClasses(alpha,b,trainD,Y,trainD)\n",
    "predictionTest = predGaussianClasses(alpha,b,trainD,Y,testX)\n",
    "predictionVal = predGaussianClasses(alpha,b,trainD,Y,valX)"
   ]
  },
  {
   "cell_type": "code",
   "execution_count": null,
   "metadata": {},
   "outputs": [],
   "source": [
    "checkAccuracy(Y,predictionTrain)\n",
    "checkAccuracy(testY,predictionTest)\n",
    "checkAccuracy(valY,predictionVal)"
   ]
  },
  {
   "cell_type": "markdown",
   "metadata": {},
   "source": [
    "## 1(C)"
   ]
  },
  {
   "cell_type": "code",
   "execution_count": null,
   "metadata": {},
   "outputs": [],
   "source": [
    "clfLinear = SVC(C=1.0,kernel='linear')\n",
    "clfGaussian = SVC(C=1.0,kernel='rbf',gamma=0.05)"
   ]
  },
  {
   "cell_type": "code",
   "execution_count": null,
   "metadata": {},
   "outputs": [],
   "source": [
    "clfLinear.fit(trainD, train[784])\n",
    "clfGaussian.fit(trainD, train[784])"
   ]
  },
  {
   "cell_type": "code",
   "execution_count": null,
   "metadata": {},
   "outputs": [],
   "source": [
    "print(clfLinear.support_vectors_.shape)\n",
    "print(clfGaussian.support_vectors_.shape)"
   ]
  },
  {
   "cell_type": "code",
   "execution_count": null,
   "metadata": {},
   "outputs": [],
   "source": [
    "testX,testY,_,_ = stripData(test,c1,c2)\n",
    "valX,valY,_,_ = stripData(val,c1,c2)"
   ]
  },
  {
   "cell_type": "code",
   "execution_count": null,
   "metadata": {},
   "outputs": [],
   "source": [
    "predictionTrain = clfLinear.predict(trainD)\n",
    "predictionTest = clfLinear.predict(testX)\n",
    "predictionVal = clfLinear.predict(valX)"
   ]
  },
  {
   "cell_type": "code",
   "execution_count": null,
   "metadata": {},
   "outputs": [],
   "source": [
    "checkAccuracy(train[784],predictionTrain)\n",
    "checkAccuracy(valY,predictionVal)\n",
    "checkAccuracy(testY,predictionTest)"
   ]
  },
  {
   "cell_type": "code",
   "execution_count": null,
   "metadata": {},
   "outputs": [],
   "source": [
    "predictionTrain = clfGaussian.predict(trainD)\n",
    "predictionTest = clfGaussian.predict(testX)\n",
    "predictionVal = clfGaussian.predict(valX)"
   ]
  },
  {
   "cell_type": "code",
   "execution_count": null,
   "metadata": {},
   "outputs": [],
   "source": [
    "checkAccuracy(train[784],predictionTrain)\n",
    "checkAccuracy(valY,predictionVal)\n",
    "checkAccuracy(testY,predictionTest)"
   ]
  },
  {
   "cell_type": "markdown",
   "metadata": {},
   "source": [
    "## 2(A)"
   ]
  },
  {
   "cell_type": "code",
   "execution_count": 14,
   "metadata": {},
   "outputs": [],
   "source": [
    "globalTrain,globalVal,globalTest = init()"
   ]
  },
  {
   "cell_type": "code",
   "execution_count": 15,
   "metadata": {},
   "outputs": [],
   "source": [
    "def createClf(data,classes):\n",
    "    c1 = classes[0]\n",
    "    c2 = classes[1]\n",
    "    filteredX,filteredY,pos,neg = stripData(data,c1,c2)\n",
    "\n",
    "    P,q = gaussianPq(filteredX,filteredY)\n",
    "    G,h = createGh(filteredX.shape[0])\n",
    "    A,b = createAb(filteredY)\n",
    "    sol=solvers.qp(P, q, G, h, A, B)\n",
    "    alpha = np.array(sol['x'])\n",
    "    alpha = stripAlpha(alpha,1e-4)\n",
    "    print(\"Alpha Done.\")\n",
    "    b = calb(alpha,filteredX,filteredY,pos,neg)\n",
    "    print(\"b Done.\")\n",
    "    return (alpha,b,c1,c2)"
   ]
  },
  {
   "cell_type": "code",
   "execution_count": 16,
   "metadata": {},
   "outputs": [],
   "source": [
    "l = list(itertools.combinations([0,1,2,3,4,5,6,7,8,9], 2))"
   ]
  },
  {
   "cell_type": "code",
   "execution_count": null,
   "metadata": {},
   "outputs": [],
   "source": [
    "pickle_in = open(\"oneVone.pickle\",\"rb\")\n",
    "paraList = pickle.load(pickle_in)"
   ]
  },
  {
   "cell_type": "code",
   "execution_count": null,
   "metadata": {},
   "outputs": [],
   "source": [
    "# st = time.time()\n",
    "# temp = Parallel(n_jobs=-2)(delayed(createClf)(globalTrain,i) for i in l)\n",
    "# print(time.time()-st)"
   ]
  },
  {
   "cell_type": "code",
   "execution_count": null,
   "metadata": {},
   "outputs": [],
   "source": [
    "# with open('oneVone.pickle', 'wb') as f:\n",
    "#     pickle.dump(temp, f)"
   ]
  },
  {
   "cell_type": "code",
   "execution_count": 17,
   "metadata": {},
   "outputs": [],
   "source": [
    "def classify(paraList,X,data):\n",
    "    pred=[]\n",
    "    for i in tqdm(paraList):\n",
    "        filteredX,filteredY,pos,neg = stripData(X,i[2],i[3])\n",
    "        pred.append(predGaussianClasses(i[0],i[1],filteredX,filteredY,data,return_score=True))\n",
    "    return pred"
   ]
  },
  {
   "cell_type": "code",
   "execution_count": null,
   "metadata": {},
   "outputs": [],
   "source": [
    "# globalTrain = np.array(globalTrain.drop(columns=[784]))/255\n",
    "# globalVal = np.array(globalVal.drop(columns=[784]))/255\n",
    "# globalTest = np.array(globalTest.drop(columns=[784]))/255"
   ]
  },
  {
   "cell_type": "code",
   "execution_count": null,
   "metadata": {},
   "outputs": [],
   "source": [
    "testY = globalTest[784]\n",
    "testX = np.array(globalTest.drop(columns=[784]))/255"
   ]
  },
  {
   "cell_type": "code",
   "execution_count": null,
   "metadata": {},
   "outputs": [],
   "source": [
    "testY.shape"
   ]
  },
  {
   "cell_type": "code",
   "execution_count": null,
   "metadata": {},
   "outputs": [],
   "source": [
    "predictions = classify(paraList,globalTrain,testX)"
   ]
  },
  {
   "cell_type": "code",
   "execution_count": null,
   "metadata": {},
   "outputs": [],
   "source": [
    "len(predictions)"
   ]
  },
  {
   "cell_type": "code",
   "execution_count": 18,
   "metadata": {},
   "outputs": [],
   "source": [
    "def findMajorityClass(predictions,l,calculations='cal'):\n",
    "    pred = []\n",
    "    n = len(predictions)\n",
    "    m = len(predictions[0])\n",
    "    for i in tqdm(range(m)):\n",
    "        temp = np.zeros((10,2))\n",
    "        for j in range(n):\n",
    "            if(calculations==\"cal\"):\n",
    "                if(predictions[j][i]<0):\n",
    "                    temp[l[j][0],0]+=1\n",
    "                    temp[l[j][0],1]+=abs(predictions[j][i])\n",
    "                else:\n",
    "                    temp[l[j][1],0]+=1\n",
    "                    temp[l[j][1],1]+=abs(predictions[j][i])\n",
    "            elif(calculations==\"SVC\"):\n",
    "                if(predictions[j][i][0]>predictions[j][i][1]):\n",
    "                    temp[l[j][0],0]+=1\n",
    "                    temp[l[j][0],1]+=abs(predictions[j][i][0])\n",
    "                else:\n",
    "                    temp[l[j][1],0]+=1\n",
    "                    temp[l[j][1],1]+=abs(predictions[j][i][1])\n",
    "        m=max(temp[:,0])\n",
    "        index=0\n",
    "        score=-1\n",
    "        for i in range(10):\n",
    "            if(temp[i][0]==m and temp[i][1]>score):\n",
    "                index=i\n",
    "                score=temp[i][1]\n",
    "        pred.append(index)\n",
    "    return pred"
   ]
  },
  {
   "cell_type": "code",
   "execution_count": null,
   "metadata": {},
   "outputs": [],
   "source": [
    "oneVonePred = findMajorityClass(predictions,l)"
   ]
  },
  {
   "cell_type": "code",
   "execution_count": null,
   "metadata": {},
   "outputs": [],
   "source": [
    "checkAccuracy(testY,oneVonePred)"
   ]
  },
  {
   "cell_type": "code",
   "execution_count": null,
   "metadata": {},
   "outputs": [],
   "source": [
    "valY = globalVal[784]\n",
    "valX = np.array(globalVal.drop(columns=[784]))/255"
   ]
  },
  {
   "cell_type": "code",
   "execution_count": null,
   "metadata": {},
   "outputs": [],
   "source": [
    "valX.shape"
   ]
  },
  {
   "cell_type": "code",
   "execution_count": null,
   "metadata": {},
   "outputs": [],
   "source": [
    "predictionsVal = classify(paraList,globalTrain,valX)"
   ]
  },
  {
   "cell_type": "code",
   "execution_count": null,
   "metadata": {},
   "outputs": [],
   "source": [
    "oneVonePredVal = findMajorityClass(predictionsVal,l)\n",
    "checkAccuracy(valY,oneVonePredVal)"
   ]
  },
  {
   "cell_type": "code",
   "execution_count": null,
   "metadata": {},
   "outputs": [],
   "source": [
    "trainY = globalTrain[784]\n",
    "trainX = np.array(globalTrain.drop(columns=[784]))/255"
   ]
  },
  {
   "cell_type": "code",
   "execution_count": null,
   "metadata": {},
   "outputs": [],
   "source": [
    "# predictionsTrain = classify(paraList,globalTrain,trainX)"
   ]
  },
  {
   "cell_type": "code",
   "execution_count": null,
   "metadata": {},
   "outputs": [],
   "source": [
    "# oneVonePredTrain = findMajorityClass(predictionsTrain,l)\n",
    "# checkAccuracy(trainY,oneVonePredTrain)"
   ]
  },
  {
   "cell_type": "markdown",
   "metadata": {},
   "source": [
    "## 2(B)"
   ]
  },
  {
   "cell_type": "code",
   "execution_count": 19,
   "metadata": {},
   "outputs": [],
   "source": [
    "def createSVMs(data,classes):\n",
    "    c1 = classes[0]\n",
    "    c2 = classes[1]\n",
    "    filteredX,filteredY,pos,neg = stripData(data,c1,c2)\n",
    "    filteredY.reshape((1,-1))\n",
    "    clf = SVC(C=1.0,kernel='rbf',gamma=0.05,probability=True)\n",
    "    clf.fit(filteredX,filteredY.ravel())\n",
    "    print(\"Done\")\n",
    "    return clf\n",
    "\n",
    "def allPredictions(clfList,data):\n",
    "    pred = []\n",
    "    for i in tqdm(clfList):\n",
    "        x = i.predict_proba(data)\n",
    "        pred.append(x)\n",
    "    return pred"
   ]
  },
  {
   "cell_type": "code",
   "execution_count": null,
   "metadata": {},
   "outputs": [],
   "source": [
    "# st = time.time()\n",
    "# temp = Parallel(n_jobs=-2)(delayed(createSVMs)(globalTrain,i) for i in l)\n",
    "# print(time.time()-st)"
   ]
  },
  {
   "cell_type": "code",
   "execution_count": null,
   "metadata": {},
   "outputs": [],
   "source": [
    "# with open('oneVoneSVM.pickle', 'wb') as f:\n",
    "#     pickle.dump(temp, f)"
   ]
  },
  {
   "cell_type": "code",
   "execution_count": 20,
   "metadata": {},
   "outputs": [],
   "source": [
    "pickle_in = open(\"oneVoneSVM.pickle\",\"rb\")\n",
    "clfList = pickle.load(pickle_in)"
   ]
  },
  {
   "cell_type": "code",
   "execution_count": null,
   "metadata": {},
   "outputs": [],
   "source": [
    "testY = globalTest[784]\n",
    "testX = np.array(globalTest.drop(columns=[784]))/255"
   ]
  },
  {
   "cell_type": "code",
   "execution_count": null,
   "metadata": {
    "scrolled": true
   },
   "outputs": [],
   "source": [
    "predictionsTest = allPredictions(clfList,testX)"
   ]
  },
  {
   "cell_type": "code",
   "execution_count": null,
   "metadata": {},
   "outputs": [],
   "source": [
    "oneVonePredSVC = findMajorityClass(predictionsTest,l,calculations=\"SVC\")"
   ]
  },
  {
   "cell_type": "code",
   "execution_count": null,
   "metadata": {},
   "outputs": [],
   "source": [
    "checkAccuracy(testY,oneVonePredSVC)"
   ]
  },
  {
   "cell_type": "code",
   "execution_count": null,
   "metadata": {},
   "outputs": [],
   "source": [
    "valY = globalVal[784]\n",
    "valX = np.array(globalVal.drop(columns=[784]))/255"
   ]
  },
  {
   "cell_type": "code",
   "execution_count": null,
   "metadata": {
    "scrolled": true
   },
   "outputs": [],
   "source": [
    "predictionsVal = allPredictions(clfList,valX)"
   ]
  },
  {
   "cell_type": "code",
   "execution_count": null,
   "metadata": {},
   "outputs": [],
   "source": [
    "oneVonePredVal = findMajorityClass(predictionsVal,l,calculations=\"SVC\")\n",
    "checkAccuracy(valY,oneVonePredVal)"
   ]
  },
  {
   "cell_type": "markdown",
   "metadata": {},
   "source": [
    "# 2(C)"
   ]
  },
  {
   "cell_type": "code",
   "execution_count": 21,
   "metadata": {},
   "outputs": [],
   "source": [
    "def confusionMatrix(test,prediction):\n",
    "    mat = np.zeros((10,10))\n",
    "    index=0\n",
    "    for i in range(len(prediction)):\n",
    "        mat[int(test[i]),int(prediction[i])] += 1\n",
    "    return mat"
   ]
  },
  {
   "cell_type": "code",
   "execution_count": null,
   "metadata": {},
   "outputs": [],
   "source": [
    "valY[12]"
   ]
  },
  {
   "cell_type": "code",
   "execution_count": null,
   "metadata": {},
   "outputs": [],
   "source": [
    "confusion = confusionMatrix(valY,oneVonePredVal)\n",
    "confusion"
   ]
  },
  {
   "cell_type": "code",
   "execution_count": 22,
   "metadata": {},
   "outputs": [],
   "source": [
    "def draw(confusion):\n",
    "    df_cm = pd.DataFrame(confusion.astype(int), index = [i for i in \"0123456789\"],\n",
    "                      columns = [i for i in \"0123456789\"])\n",
    "    plt.figure(figsize = (10,8))\n",
    "    sns.set(font_scale=1.2)\n",
    "    sns.heatmap(df_cm,cmap=\"Blues\", annot=True,fmt=\"d\",linewidth=1,annot_kws={\"size\": 14})\n",
    "    plt.show()"
   ]
  },
  {
   "cell_type": "markdown",
   "metadata": {},
   "source": [
    "# 2(D)"
   ]
  },
  {
   "cell_type": "code",
   "execution_count": 23,
   "metadata": {},
   "outputs": [],
   "source": [
    "trainY = globalTrain[784]\n",
    "trainX = np.array(globalTrain.drop(columns=[784]))/255\n",
    "\n",
    "testY = globalTest[784]\n",
    "testX = np.array(globalTest.drop(columns=[784]))/255"
   ]
  },
  {
   "cell_type": "code",
   "execution_count": 36,
   "metadata": {},
   "outputs": [],
   "source": [
    "def findAccuracyParallel(data,c):\n",
    "    clf = SVC(C=c,kernel='rbf',gamma=0.05)\n",
    "    clf.fit(data[0],data[1])\n",
    "    print(\"Done\")\n",
    "    \n",
    "    v = clf.score(data[2],data[3])\n",
    "    t = clf.score(data[4],data[5])\n",
    "    return (v,t,c)\n",
    "    \n",
    "\n",
    "def verifyKfold(trainX,trainY,testX,testY):\n",
    "    C = [1e-5,1e-3,1,5,10]\n",
    "    accuracies = []\n",
    "    skf = StratifiedKFold(n_splits=5)\n",
    "    C = [1e-5,1e-3,1,5,10]\n",
    "    loopTime = time.time()\n",
    "    accuracies=[]\n",
    "    for trainId,testId in skf.split(trainX,trainY):\n",
    "        X_train, X_val = trainX[trainId], trainX[testId]\n",
    "        Y_train, Y_val = trainY[trainId], trainY[testId]\n",
    "        \n",
    "        st = time.time()\n",
    "        data = [X_train,Y_train,X_val,Y_val,testX,testY]\n",
    "        \n",
    "        temp = Parallel(n_jobs=-2)(delayed(findAccuracyParallel)(data,i) for i in C)\n",
    "        print(time.time()-st)\n",
    "        print(temp)\n",
    "        accuracies.append(temp)\n",
    "    print(time.time()-loopTime)\n",
    "    return accuracies"
   ]
  },
  {
   "cell_type": "code",
   "execution_count": 37,
   "metadata": {},
   "outputs": [
    {
     "name": "stdout",
     "output_type": "stream",
     "text": [
      "784.3307180404663\n",
      "[(0.5586666666666666, 0.5726, 1e-05), (0.5586666666666666, 0.5726, 0.001), (0.878, 0.876, 1), (0.8804444444444445, 0.8784, 5), (0.8788888888888889, 0.877, 10)]\n",
      "822.957213640213\n",
      "[(0.5537777777777778, 0.5612, 1e-05), (0.5537777777777778, 0.5612, 0.001), (0.8768888888888889, 0.874, 1), (0.884, 0.8776, 5), (0.884, 0.8772, 10)]\n",
      "856.4111366271973\n",
      "[(0.5771111111111111, 0.5828, 1e-05), (0.5771111111111111, 0.5828, 0.001), (0.8848888888888888, 0.8758, 1), (0.8908888888888888, 0.8814, 5), (0.8908888888888888, 0.8802, 10)]\n",
      "752.4715030193329\n",
      "[(0.5762222222222222, 0.5758, 1e-05), (0.5762222222222222, 0.5758, 0.001), (0.8724444444444445, 0.873, 1), (0.8842222222222222, 0.8786, 5), (0.8842222222222222, 0.8788, 10)]\n",
      "796.1141457557678\n",
      "[(0.5664444444444444, 0.5686, 1e-05), (0.5664444444444444, 0.5686, 0.001), (0.8813333333333333, 0.8738, 1), (0.8824444444444445, 0.8794, 5), (0.8833333333333333, 0.8786, 10)]\n",
      "4027.885692834854\n"
     ]
    }
   ],
   "source": [
    "Kfold = verifyKfold(trainX,trainY,testX,testY)"
   ]
  },
  {
   "cell_type": "code",
   "execution_count": 38,
   "metadata": {},
   "outputs": [],
   "source": [
    "with open('StkFold.pickle', 'wb') as f:\n",
    "    pickle.dump(Kfold, f)"
   ]
  },
  {
   "cell_type": "code",
   "execution_count": 51,
   "metadata": {},
   "outputs": [],
   "source": [
    "# pickle_in = open(\"kFold.pickle\",\"rb\")\n",
    "# accList = pickle.load(pickle_in)"
   ]
  }
 ],
 "metadata": {
  "kernelspec": {
   "display_name": "Python 3",
   "language": "python",
   "name": "python3"
  },
  "language_info": {
   "codemirror_mode": {
    "name": "ipython",
    "version": 3
   },
   "file_extension": ".py",
   "mimetype": "text/x-python",
   "name": "python",
   "nbconvert_exporter": "python",
   "pygments_lexer": "ipython3",
   "version": "3.7.4"
  }
 },
 "nbformat": 4,
 "nbformat_minor": 4
}
