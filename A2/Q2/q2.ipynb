{
 "cells": [
  {
   "cell_type": "markdown",
   "metadata": {},
   "source": [
    "## 1(A)"
   ]
  },
  {
   "cell_type": "code",
   "execution_count": 87,
   "metadata": {},
   "outputs": [],
   "source": [
    "import numpy as np\n",
    "import pandas as pd\n",
    "import cvxopt\n",
    "from cvxopt import solvers,matrix\n",
    "from sklearn.svm import SVC\n",
    "import math\n",
    "from tqdm import tqdm\n",
    "import multiprocessing as mp\n",
    "from multiprocessing import Pool\n",
    "import itertools\n",
    "import threading\n",
    "import pickle\n",
    "from joblib import Parallel, delayed\n",
    "import time\n",
    "from scipy.spatial import distance\n",
    "import matplotlib.pyplot as plt\n",
    "import seaborn as sns\n",
    "from sklearn.model_selection import KFold"
   ]
  },
  {
   "cell_type": "code",
   "execution_count": 2,
   "metadata": {},
   "outputs": [],
   "source": [
    "def init():\n",
    "    train = pd.read_csv(\"fashion_mnist/train.csv\",header=None)\n",
    "    val = pd.read_csv(\"fashion_mnist/val.csv\",header=None)\n",
    "    test = pd.read_csv(\"fashion_mnist/test.csv\",header=None)\n",
    "    return train,val,test"
   ]
  },
  {
   "cell_type": "code",
   "execution_count": 101,
   "metadata": {},
   "outputs": [],
   "source": [
    "train,val,test = init()\n",
    "c1=6\n",
    "c2=7"
   ]
  },
  {
   "cell_type": "code",
   "execution_count": 102,
   "metadata": {},
   "outputs": [],
   "source": [
    "def stripData(data,c1,c2):\n",
    "    data = data[data[784]==c1].append(data[data[784]==c2])\n",
    "    data.loc[data[784]==c1,784]=-1\n",
    "    data.loc[data[784]==c2,784]=1\n",
    "    Y = np.reshape(np.array(data[784]),(-1,1))\n",
    "    pos = data[data[784]==1]\n",
    "    neg = data[data[784]==-1]\n",
    "    data = np.array(data.drop(columns=[784]))/255\n",
    "    return data,Y,pos,neg"
   ]
  },
  {
   "cell_type": "code",
   "execution_count": 103,
   "metadata": {},
   "outputs": [],
   "source": [
    "train = train[train[784]==c1].append(train[train[784]==c2])"
   ]
  },
  {
   "cell_type": "code",
   "execution_count": 104,
   "metadata": {},
   "outputs": [],
   "source": [
    "train.loc[train[784]==c1,784]=-1\n",
    "train.loc[train[784]==c2,784]=1\n",
    "pos = train[train[784]==1]\n",
    "neg = train[train[784]==-1]\n",
    "Y = np.array(train[784])\n",
    "trainD = np.array(train.drop(columns=[784]))/255"
   ]
  },
  {
   "cell_type": "code",
   "execution_count": 105,
   "metadata": {},
   "outputs": [],
   "source": [
    "Y = Y.reshape((Y.shape[0],1))"
   ]
  },
  {
   "cell_type": "code",
   "execution_count": 106,
   "metadata": {},
   "outputs": [
    {
     "data": {
      "text/plain": [
       "(4500, 784)"
      ]
     },
     "execution_count": 106,
     "metadata": {},
     "output_type": "execute_result"
    }
   ],
   "source": [
    "trainD.shape"
   ]
  },
  {
   "cell_type": "code",
   "execution_count": 107,
   "metadata": {},
   "outputs": [],
   "source": [
    "def createPq(data,out):\n",
    "    P = (out@out.T)*(data@data.T)\n",
    "    q = (-1)*np.ones((P.shape[0],1))\n",
    "    return matrix(P),matrix(q)\n",
    "\n",
    "def createGh(m):\n",
    "    u = np.identity(m)\n",
    "    d = (-1)*np.identity(m)\n",
    "    G = np.append(u,d,axis=0)\n",
    "    h = np.append(np.ones((m,1)),np.zeros((m,1)),axis=0)\n",
    "    return matrix(G),matrix(h)\n",
    "\n",
    "def createAb(out):\n",
    "    m = out.shape[0]\n",
    "    A = out.copy()\n",
    "    A = A.T\n",
    "    b = 0\n",
    "    return matrix(A,(1,m),'d'),matrix(b,(1,1),'d')"
   ]
  },
  {
   "cell_type": "code",
   "execution_count": 108,
   "metadata": {},
   "outputs": [],
   "source": [
    "t = time.time()\n",
    "P,q = createPq(trainD,Y)\n",
    "G,h = createGh(trainD.shape[0])\n",
    "A,B = createAb(Y)"
   ]
  },
  {
   "cell_type": "code",
   "execution_count": 109,
   "metadata": {},
   "outputs": [
    {
     "name": "stdout",
     "output_type": "stream",
     "text": [
      "     pcost       dcost       gap    pres   dres\n",
      " 0: -1.8559e+02 -7.3411e+03  4e+04  2e+00  1e-12\n",
      " 1: -1.0512e+02 -3.6276e+03  7e+03  3e-01  1e-12\n",
      " 2: -3.0675e+01 -8.9272e+02  1e+03  6e-02  5e-13\n",
      " 3: -5.5085e+00 -2.2083e+02  3e+02  1e-02  2e-13\n",
      " 4: -1.4249e+00 -4.5788e+01  7e+01  2e-03  6e-14\n",
      " 5: -2.9569e-01 -1.3553e+01  2e+01  5e-04  3e-14\n",
      " 6: -2.0996e-01 -3.9259e+00  5e+00  1e-04  2e-14\n",
      " 7: -1.0278e-01 -3.5936e+00  4e+00  8e-05  1e-14\n",
      " 8: -2.5356e-01 -2.0088e+00  2e+00  3e-05  1e-14\n",
      " 9: -2.0734e-01 -1.6993e+00  2e+00  1e-05  1e-14\n",
      "10: -4.0852e-01 -1.0189e+00  6e-01  3e-06  1e-14\n",
      "11: -4.8680e-01 -7.8876e-01  3e-01  2e-16  2e-14\n",
      "12: -5.3127e-01 -7.1798e-01  2e-01  2e-16  1e-14\n",
      "13: -5.9184e-01 -6.2963e-01  4e-02  7e-16  2e-14\n",
      "14: -6.0475e-01 -6.1102e-01  6e-03  7e-16  2e-14\n",
      "15: -6.0763e-01 -6.0779e-01  2e-04  1e-15  2e-14\n",
      "16: -6.0771e-01 -6.0771e-01  2e-06  2e-16  2e-14\n",
      "17: -6.0771e-01 -6.0771e-01  3e-08  2e-15  2e-14\n",
      "Optimal solution found.\n"
     ]
    }
   ],
   "source": [
    "sol=solvers.qp(P, q, G, h, A, B)"
   ]
  },
  {
   "cell_type": "code",
   "execution_count": 110,
   "metadata": {},
   "outputs": [],
   "source": [
    "alpha = np.array(sol['x'])"
   ]
  },
  {
   "cell_type": "code",
   "execution_count": 111,
   "metadata": {},
   "outputs": [
    {
     "data": {
      "text/plain": [
       "0.10604363191646979"
      ]
     },
     "execution_count": 111,
     "metadata": {},
     "output_type": "execute_result"
    }
   ],
   "source": [
    "alpha.max()"
   ]
  },
  {
   "cell_type": "code",
   "execution_count": 112,
   "metadata": {},
   "outputs": [],
   "source": [
    "def stripAlpha(alpha,E):\n",
    "    index = alpha < E\n",
    "    alpha[index] = 0\n",
    "    return alpha"
   ]
  },
  {
   "cell_type": "code",
   "execution_count": 113,
   "metadata": {},
   "outputs": [],
   "source": [
    "alpha = stripAlpha(alpha,1e-4)"
   ]
  },
  {
   "cell_type": "code",
   "execution_count": 114,
   "metadata": {},
   "outputs": [
    {
     "data": {
      "text/plain": [
       "0.0"
      ]
     },
     "execution_count": 114,
     "metadata": {},
     "output_type": "execute_result"
    }
   ],
   "source": [
    "alpha.min()"
   ]
  },
  {
   "cell_type": "code",
   "execution_count": 115,
   "metadata": {},
   "outputs": [],
   "source": [
    "def calwb(alpha,X,Y,pos,neg):\n",
    "    w = X.T@(alpha*Y)\n",
    "    x = (np.array(pos.drop(columns=[784]))/255)\n",
    "    y = (np.array(neg.drop(columns=[784]))/255)\n",
    "    b = (-1)*((x@w).min()+(y@w).max())/2\n",
    "    return w,b"
   ]
  },
  {
   "cell_type": "code",
   "execution_count": 116,
   "metadata": {},
   "outputs": [],
   "source": [
    "w,b = calwb(alpha,trainD,Y,pos,neg)"
   ]
  },
  {
   "cell_type": "code",
   "execution_count": 117,
   "metadata": {},
   "outputs": [
    {
     "name": "stdout",
     "output_type": "stream",
     "text": [
      "38.64110827445984\n"
     ]
    }
   ],
   "source": [
    "print(time.time()-t)"
   ]
  },
  {
   "cell_type": "code",
   "execution_count": 118,
   "metadata": {},
   "outputs": [],
   "source": [
    "def predClasses(w,b,data):\n",
    "    pred = []\n",
    "    for i in data:\n",
    "        temp = i.reshape((1,-1))@w+b\n",
    "        if temp<0:\n",
    "            pred.append(-1)\n",
    "        else:\n",
    "            pred.append(1)\n",
    "    return pred"
   ]
  },
  {
   "cell_type": "code",
   "execution_count": 119,
   "metadata": {},
   "outputs": [],
   "source": [
    "predictionTrain = predClasses(w,b,trainD)"
   ]
  },
  {
   "cell_type": "code",
   "execution_count": 120,
   "metadata": {},
   "outputs": [],
   "source": [
    "def checkAccuracy(y,pred):\n",
    "    y = np.array(y).reshape((-1,1))\n",
    "    pred = np.array(pred).reshape((-1,1))\n",
    "    check = (y==pred)\n",
    "    t=0\n",
    "    f=0\n",
    "    for i in check:\n",
    "        if i:\n",
    "            t=t+1\n",
    "        else:\n",
    "            f=f+1\n",
    "    print(t/(t+f))"
   ]
  },
  {
   "cell_type": "code",
   "execution_count": 121,
   "metadata": {},
   "outputs": [
    {
     "name": "stdout",
     "output_type": "stream",
     "text": [
      "1.0\n"
     ]
    }
   ],
   "source": [
    "checkAccuracy(train[784],predictionTrain)"
   ]
  },
  {
   "cell_type": "code",
   "execution_count": 122,
   "metadata": {},
   "outputs": [],
   "source": [
    "testX,testY,_,_ = stripData(test,c1,c2)\n",
    "valX,valY,_,_ = stripData(val,c1,c2)"
   ]
  },
  {
   "cell_type": "code",
   "execution_count": 123,
   "metadata": {},
   "outputs": [
    {
     "name": "stdout",
     "output_type": "stream",
     "text": [
      "1.0\n"
     ]
    }
   ],
   "source": [
    "predictionTest = predClasses(w,b,testX)\n",
    "checkAccuracy(testY,np.array(predictionTest))"
   ]
  },
  {
   "cell_type": "code",
   "execution_count": 124,
   "metadata": {},
   "outputs": [
    {
     "data": {
      "text/plain": [
       "(1000, 784)"
      ]
     },
     "execution_count": 124,
     "metadata": {},
     "output_type": "execute_result"
    }
   ],
   "source": [
    "testX.shape"
   ]
  },
  {
   "cell_type": "code",
   "execution_count": 125,
   "metadata": {},
   "outputs": [
    {
     "name": "stdout",
     "output_type": "stream",
     "text": [
      "1.0\n"
     ]
    }
   ],
   "source": [
    "predictionVal = predClasses(w,b,valX)\n",
    "checkAccuracy(valY,predictionVal)"
   ]
  },
  {
   "cell_type": "markdown",
   "metadata": {},
   "source": [
    "## 1(B)"
   ]
  },
  {
   "cell_type": "code",
   "execution_count": 126,
   "metadata": {},
   "outputs": [],
   "source": [
    "def K(x,z,gamma=0.05):\n",
    "#     norm = np.linalg.norm(x-z,ord=2)**2\n",
    "    norm = np.reshape((x-z),(1,-1))\n",
    "    norm = norm@norm.T\n",
    "    return math.exp((-gamma)*norm)"
   ]
  },
  {
   "cell_type": "code",
   "execution_count": 127,
   "metadata": {},
   "outputs": [],
   "source": [
    "def gaussianPq(data,out):\n",
    "    m = data.shape[0]\n",
    "#     kernelMatrix = np.zeros((m,m))\n",
    "#     for i in tqdm(range(m)):\n",
    "#         for j in range(m):\n",
    "#             kernelMatrix[i,j] = K(data[i,:],data[j,:])\n",
    "    kernelMatrix=np.exp((-0.05)*np.square(distance.cdist(data,data,'euclidean')))\n",
    "    P = (out@out.T)*kernelMatrix\n",
    "    q = (-1)*np.ones((P.shape[0],1))\n",
    "    return matrix(P),matrix(q)"
   ]
  },
  {
   "cell_type": "code",
   "execution_count": 128,
   "metadata": {},
   "outputs": [],
   "source": [
    "P,q = gaussianPq(trainD,Y)\n",
    "G,h = createGh(trainD.shape[0])\n",
    "A,B = createAb(Y)"
   ]
  },
  {
   "cell_type": "code",
   "execution_count": 129,
   "metadata": {},
   "outputs": [
    {
     "name": "stdout",
     "output_type": "stream",
     "text": [
      "     pcost       dcost       gap    pres   dres\n",
      " 0: -1.1028e+02 -7.5103e+03  4e+04  2e+00  5e-15\n",
      " 1: -5.6897e+01 -3.8143e+03  7e+03  3e-01  3e-15\n",
      " 2: -1.3830e+01 -9.2363e+02  1e+03  4e-02  7e-15\n",
      " 3: -3.9528e+01 -1.9616e+02  2e+02  4e-03  4e-15\n",
      " 4: -5.5680e+01 -1.2195e+02  7e+01  2e-03  3e-15\n",
      " 5: -6.4887e+01 -8.8241e+01  2e+01  1e-04  2e-15\n",
      " 6: -6.9418e+01 -7.6829e+01  7e+00  2e-05  2e-15\n",
      " 7: -7.1201e+01 -7.3118e+01  2e+00  2e-06  2e-15\n",
      " 8: -7.1797e+01 -7.2062e+01  3e-01  1e-07  2e-15\n",
      " 9: -7.1900e+01 -7.1908e+01  8e-03  2e-09  2e-15\n",
      "10: -7.1903e+01 -7.1903e+01  1e-04  3e-11  2e-15\n",
      "11: -7.1903e+01 -7.1903e+01  2e-06  3e-13  2e-15\n",
      "Optimal solution found.\n"
     ]
    }
   ],
   "source": [
    "sol=solvers.qp(P, q, G, h, A, B)"
   ]
  },
  {
   "cell_type": "code",
   "execution_count": 130,
   "metadata": {},
   "outputs": [],
   "source": [
    "alpha = np.array(sol['x'])"
   ]
  },
  {
   "cell_type": "code",
   "execution_count": 131,
   "metadata": {},
   "outputs": [],
   "source": [
    "# 1e-2 = 98.997 96.3 96.2\n",
    "# 1e-3 = 99.1 96.1 96\n",
    "alpha = stripAlpha(alpha,1e-4)"
   ]
  },
  {
   "cell_type": "code",
   "execution_count": 132,
   "metadata": {},
   "outputs": [
    {
     "name": "stdout",
     "output_type": "stream",
     "text": [
      "0.9999999998220996 0.0\n"
     ]
    }
   ],
   "source": [
    "print(alpha.max(),alpha.min())"
   ]
  },
  {
   "cell_type": "code",
   "execution_count": 133,
   "metadata": {},
   "outputs": [],
   "source": [
    "def calb(alpha,X,Y,pos,neg):\n",
    "    x = (np.array(pos.drop(columns=[784]))/255)\n",
    "    y = (np.array(neg.drop(columns=[784]))/255)\n",
    "    Y.reshape((-1,1))\n",
    "    p = ((alpha*Y)*(np.exp((-0.05)*np.square(distance.cdist(X,x,'euclidean'))))).sum(axis=0).min()\n",
    "    n = ((alpha*Y)*(np.exp((-0.05)*np.square(distance.cdist(X,y,'euclidean'))))).sum(axis=0).max()\n",
    "    b = (-1)*(p+n)/2\n",
    "    return b"
   ]
  },
  {
   "cell_type": "code",
   "execution_count": 134,
   "metadata": {},
   "outputs": [],
   "source": [
    "b = calb(alpha,trainD,Y,pos,neg)"
   ]
  },
  {
   "cell_type": "code",
   "execution_count": 135,
   "metadata": {},
   "outputs": [
    {
     "data": {
      "text/plain": [
       "-0.6041708942410082"
      ]
     },
     "execution_count": 135,
     "metadata": {},
     "output_type": "execute_result"
    }
   ],
   "source": [
    "b"
   ]
  },
  {
   "cell_type": "code",
   "execution_count": 136,
   "metadata": {},
   "outputs": [],
   "source": [
    "def predGaussianClasses(alpha,b,X,Y,data,return_score=False):\n",
    "    pred=[]\n",
    "    pred = ((alpha*Y)*(np.exp((-0.05)*np.square(distance.cdist(X,data,'euclidean'))))).sum(axis=0)\n",
    "    pred = pred+b\n",
    "    if(return_score):\n",
    "        return pred\n",
    "    index = pred < 0\n",
    "    pred[index]=-1\n",
    "    index = pred >= 0\n",
    "    pred[index]=1\n",
    "    return pred"
   ]
  },
  {
   "cell_type": "code",
   "execution_count": 137,
   "metadata": {},
   "outputs": [],
   "source": [
    "predictionTrain = predGaussianClasses(alpha,b,trainD,Y,trainD)\n",
    "predictionTest = predGaussianClasses(alpha,b,trainD,Y,testX)\n",
    "predictionVal = predGaussianClasses(alpha,b,trainD,Y,valX)"
   ]
  },
  {
   "cell_type": "code",
   "execution_count": 138,
   "metadata": {},
   "outputs": [
    {
     "name": "stdout",
     "output_type": "stream",
     "text": [
      "1.0\n",
      "0.999\n",
      "0.992\n"
     ]
    }
   ],
   "source": [
    "checkAccuracy(Y,predictionTrain)\n",
    "checkAccuracy(testY,predictionTest)\n",
    "checkAccuracy(valY,predictionVal)"
   ]
  },
  {
   "cell_type": "markdown",
   "metadata": {},
   "source": [
    "## 1(C)"
   ]
  },
  {
   "cell_type": "code",
   "execution_count": 41,
   "metadata": {},
   "outputs": [],
   "source": [
    "clfLinear = SVC(C=1.0,kernel='linear')\n",
    "clfGaussian = SVC(C=1.0,kernel='rbf',gamma=0.05)"
   ]
  },
  {
   "cell_type": "code",
   "execution_count": 158,
   "metadata": {},
   "outputs": [
    {
     "data": {
      "text/plain": [
       "SVC(C=1, break_ties=False, cache_size=200, class_weight=None, coef0=0.0,\n",
       "    decision_function_shape='ovr', degree=3, gamma=0.05, kernel='rbf',\n",
       "    max_iter=-1, probability=False, random_state=None, shrinking=True,\n",
       "    tol=0.001, verbose=False)"
      ]
     },
     "execution_count": 158,
     "metadata": {},
     "output_type": "execute_result"
    }
   ],
   "source": [
    "clfLinear.fit(trainD, train[784])\n",
    "clfGaussian.fit(trainD, train[784])"
   ]
  },
  {
   "cell_type": "code",
   "execution_count": 150,
   "metadata": {},
   "outputs": [],
   "source": [
    "testX,testY,_,_ = stripData(test,c1,c2)\n",
    "valX,valY,_,_ = stripData(val,c1,c2)"
   ]
  },
  {
   "cell_type": "code",
   "execution_count": 44,
   "metadata": {},
   "outputs": [],
   "source": [
    "predictionTrain = clfLinear.predict(trainD)\n",
    "predictionTest = clfLinear.predict(testX)\n",
    "predictionVal = clfLinear.predict(valX)"
   ]
  },
  {
   "cell_type": "code",
   "execution_count": 45,
   "metadata": {},
   "outputs": [
    {
     "name": "stdout",
     "output_type": "stream",
     "text": [
      "1.0\n",
      "0.996\n",
      "0.998\n"
     ]
    }
   ],
   "source": [
    "checkAccuracy(train[784],predictionTrain)\n",
    "checkAccuracy(valY,predictionVal)\n",
    "checkAccuracy(testY,predictionTest)"
   ]
  },
  {
   "cell_type": "code",
   "execution_count": 46,
   "metadata": {},
   "outputs": [],
   "source": [
    "predictionTrain = clfGaussian.predict(trainD)\n",
    "predictionTest = clfGaussian.predict(testX)\n",
    "predictionVal = clfGaussian.predict(valX)"
   ]
  },
  {
   "cell_type": "code",
   "execution_count": 47,
   "metadata": {},
   "outputs": [
    {
     "name": "stdout",
     "output_type": "stream",
     "text": [
      "1.0\n",
      "0.996\n",
      "0.996\n"
     ]
    }
   ],
   "source": [
    "checkAccuracy(train[784],predictionTrain)\n",
    "checkAccuracy(valY,predictionVal)\n",
    "checkAccuracy(testY,predictionTest)"
   ]
  },
  {
   "cell_type": "markdown",
   "metadata": {},
   "source": [
    "## 2(A)"
   ]
  },
  {
   "cell_type": "code",
   "execution_count": 48,
   "metadata": {},
   "outputs": [],
   "source": [
    "globalTrain,globalVal,globalTest = init()"
   ]
  },
  {
   "cell_type": "code",
   "execution_count": 49,
   "metadata": {},
   "outputs": [],
   "source": [
    "def createClf(data,classes):\n",
    "    c1 = classes[0]\n",
    "    c2 = classes[1]\n",
    "    filteredX,filteredY,pos,neg = stripData(data,c1,c2)\n",
    "\n",
    "    P,q = gaussianPq(filteredX,filteredY)\n",
    "    G,h = createGh(filteredX.shape[0])\n",
    "    A,b = createAb(filteredY)\n",
    "    sol=solvers.qp(P, q, G, h, A, B)\n",
    "    alpha = np.array(sol['x'])\n",
    "    alpha = stripAlpha(alpha,1e-4)\n",
    "    print(\"Alpha Done.\")\n",
    "    b = calb(alpha,filteredX,filteredY,pos,neg)\n",
    "    print(\"b Done.\")\n",
    "    return (alpha,b,c1,c2)"
   ]
  },
  {
   "cell_type": "code",
   "execution_count": 50,
   "metadata": {},
   "outputs": [],
   "source": [
    "l = list(itertools.combinations([0,1,2,3,4,5,6,7,8,9], 2))"
   ]
  },
  {
   "cell_type": "code",
   "execution_count": 51,
   "metadata": {},
   "outputs": [],
   "source": [
    "pickle_in = open(\"oneVone.pickle\",\"rb\")\n",
    "paraList = pickle.load(pickle_in)"
   ]
  },
  {
   "cell_type": "code",
   "execution_count": 52,
   "metadata": {},
   "outputs": [],
   "source": [
    "# st = time.time()\n",
    "# temp = Parallel(n_jobs=-2)(delayed(createClf)(globalTrain,i) for i in l)\n",
    "# print(time.time()-st)"
   ]
  },
  {
   "cell_type": "code",
   "execution_count": 53,
   "metadata": {},
   "outputs": [],
   "source": [
    "# with open('oneVone.pickle', 'wb') as f:\n",
    "#     pickle.dump(temp, f)"
   ]
  },
  {
   "cell_type": "code",
   "execution_count": 54,
   "metadata": {},
   "outputs": [],
   "source": [
    "def classify(paraList,X,data):\n",
    "    pred=[]\n",
    "    for i in tqdm(paraList):\n",
    "        filteredX,filteredY,pos,neg = stripData(X,i[2],i[3])\n",
    "        pred.append(predGaussianClasses(i[0],i[1],filteredX,filteredY,data,return_score=True))\n",
    "    return pred"
   ]
  },
  {
   "cell_type": "code",
   "execution_count": 55,
   "metadata": {},
   "outputs": [],
   "source": [
    "# globalTrain = np.array(globalTrain.drop(columns=[784]))/255\n",
    "# globalVal = np.array(globalVal.drop(columns=[784]))/255\n",
    "# globalTest = np.array(globalTest.drop(columns=[784]))/255"
   ]
  },
  {
   "cell_type": "code",
   "execution_count": 56,
   "metadata": {},
   "outputs": [],
   "source": [
    "testY = globalTest[784]\n",
    "testX = np.array(globalTest.drop(columns=[784]))/255"
   ]
  },
  {
   "cell_type": "code",
   "execution_count": 57,
   "metadata": {},
   "outputs": [
    {
     "data": {
      "text/plain": [
       "(5000,)"
      ]
     },
     "execution_count": 57,
     "metadata": {},
     "output_type": "execute_result"
    }
   ],
   "source": [
    "testY.shape"
   ]
  },
  {
   "cell_type": "code",
   "execution_count": 58,
   "metadata": {},
   "outputs": [
    {
     "name": "stderr",
     "output_type": "stream",
     "text": [
      "100%|██████████| 45/45 [07:01<00:00,  9.36s/it]\n"
     ]
    }
   ],
   "source": [
    "predictions = classify(paraList,globalTrain,testX)"
   ]
  },
  {
   "cell_type": "code",
   "execution_count": 59,
   "metadata": {},
   "outputs": [
    {
     "data": {
      "text/plain": [
       "45"
      ]
     },
     "execution_count": 59,
     "metadata": {},
     "output_type": "execute_result"
    }
   ],
   "source": [
    "len(predictions)"
   ]
  },
  {
   "cell_type": "code",
   "execution_count": 60,
   "metadata": {},
   "outputs": [],
   "source": [
    "def findMajorityClass(predictions,l,calculations='cal'):\n",
    "    pred = []\n",
    "    n = len(predictions)\n",
    "    m = len(predictions[0])\n",
    "    for i in tqdm(range(m)):\n",
    "        temp = np.zeros((10,2))\n",
    "        for j in range(n):\n",
    "            if(calculations==\"cal\"):\n",
    "                if(predictions[j][i]<0):\n",
    "                    temp[l[j][0],0]+=1\n",
    "                    temp[l[j][0],1]+=abs(predictions[j][i])\n",
    "                else:\n",
    "                    temp[l[j][1],0]+=1\n",
    "                    temp[l[j][1],1]+=abs(predictions[j][i])\n",
    "            elif(calculations==\"SVC\"):\n",
    "                if(predictions[j][i][0]>predictions[j][i][1]):\n",
    "                    temp[l[j][0],0]+=1\n",
    "                    temp[l[j][0],1]+=abs(predictions[j][i][0])\n",
    "                else:\n",
    "                    temp[l[j][1],0]+=1\n",
    "                    temp[l[j][1],1]+=abs(predictions[j][i][1])\n",
    "        m=max(temp[:,0])\n",
    "        index=0\n",
    "        score=-1\n",
    "        for i in range(10):\n",
    "            if(temp[i][0]==m and temp[i][1]>score):\n",
    "                index=i\n",
    "                score=temp[i][1]\n",
    "        pred.append(index)\n",
    "    return pred"
   ]
  },
  {
   "cell_type": "code",
   "execution_count": 61,
   "metadata": {},
   "outputs": [
    {
     "name": "stderr",
     "output_type": "stream",
     "text": [
      "100%|██████████| 5000/5000 [00:00<00:00, 14468.64it/s]\n"
     ]
    }
   ],
   "source": [
    "oneVonePred = findMajorityClass(predictions,l)"
   ]
  },
  {
   "cell_type": "code",
   "execution_count": 62,
   "metadata": {},
   "outputs": [
    {
     "name": "stdout",
     "output_type": "stream",
     "text": [
      "0.8508\n"
     ]
    }
   ],
   "source": [
    "checkAccuracy(testY,oneVonePred)"
   ]
  },
  {
   "cell_type": "code",
   "execution_count": 63,
   "metadata": {},
   "outputs": [],
   "source": [
    "valY = globalVal[784]\n",
    "valX = np.array(globalVal.drop(columns=[784]))/255"
   ]
  },
  {
   "cell_type": "code",
   "execution_count": 64,
   "metadata": {},
   "outputs": [
    {
     "data": {
      "text/plain": [
       "(2500, 784)"
      ]
     },
     "execution_count": 64,
     "metadata": {},
     "output_type": "execute_result"
    }
   ],
   "source": [
    "valX.shape"
   ]
  },
  {
   "cell_type": "code",
   "execution_count": 65,
   "metadata": {},
   "outputs": [
    {
     "name": "stderr",
     "output_type": "stream",
     "text": [
      "100%|██████████| 45/45 [03:21<00:00,  4.47s/it]\n"
     ]
    }
   ],
   "source": [
    "predictionsVal = classify(paraList,globalTrain,valX)"
   ]
  },
  {
   "cell_type": "code",
   "execution_count": 66,
   "metadata": {},
   "outputs": [
    {
     "name": "stderr",
     "output_type": "stream",
     "text": [
      "100%|██████████| 2500/2500 [00:00<00:00, 13825.70it/s]"
     ]
    },
    {
     "name": "stdout",
     "output_type": "stream",
     "text": [
      "0.8496\n"
     ]
    },
    {
     "name": "stderr",
     "output_type": "stream",
     "text": [
      "\n"
     ]
    }
   ],
   "source": [
    "oneVonePredVal = findMajorityClass(predictionsVal,l)\n",
    "checkAccuracy(valY,oneVonePredVal)"
   ]
  },
  {
   "cell_type": "code",
   "execution_count": 67,
   "metadata": {},
   "outputs": [],
   "source": [
    "trainY = globalTrain[784]\n",
    "trainX = np.array(globalTrain.drop(columns=[784]))/255"
   ]
  },
  {
   "cell_type": "code",
   "execution_count": 84,
   "metadata": {},
   "outputs": [],
   "source": [
    "# predictionsTrain = classify(paraList,globalTrain,trainX)"
   ]
  },
  {
   "cell_type": "code",
   "execution_count": 85,
   "metadata": {},
   "outputs": [],
   "source": [
    "# oneVonePredTrain = findMajorityClass(predictionsTrain,l)\n",
    "# checkAccuracy(trainY,oneVonePredTrain)"
   ]
  },
  {
   "cell_type": "markdown",
   "metadata": {},
   "source": [
    "## 2(B)"
   ]
  },
  {
   "cell_type": "code",
   "execution_count": 69,
   "metadata": {},
   "outputs": [],
   "source": [
    "def createSVMs(data,classes):\n",
    "    c1 = classes[0]\n",
    "    c2 = classes[1]\n",
    "    filteredX,filteredY,pos,neg = stripData(data,c1,c2)\n",
    "    filteredY.reshape((1,-1))\n",
    "    clf = SVC(C=1.0,kernel='rbf',gamma=0.05,probability=True)\n",
    "    clf.fit(filteredX,filteredY.ravel())\n",
    "    print(\"Done\")\n",
    "    return clf\n",
    "\n",
    "def allPredictions(clfList,data):\n",
    "    pred = []\n",
    "    for i in tqdm(clfList):\n",
    "        x = i.predict_proba(data)\n",
    "        pred.append(x)\n",
    "    return pred"
   ]
  },
  {
   "cell_type": "code",
   "execution_count": 70,
   "metadata": {},
   "outputs": [],
   "source": [
    "# st = time.time()\n",
    "# temp = Parallel(n_jobs=-2)(delayed(createSVMs)(globalTrain,i) for i in l)\n",
    "# print(time.time()-st)"
   ]
  },
  {
   "cell_type": "code",
   "execution_count": 71,
   "metadata": {},
   "outputs": [],
   "source": [
    "# with open('oneVoneSVM.pickle', 'wb') as f:\n",
    "#     pickle.dump(temp, f)"
   ]
  },
  {
   "cell_type": "code",
   "execution_count": 72,
   "metadata": {},
   "outputs": [],
   "source": [
    "pickle_in = open(\"oneVoneSVM.pickle\",\"rb\")\n",
    "clfList = pickle.load(pickle_in)"
   ]
  },
  {
   "cell_type": "code",
   "execution_count": 73,
   "metadata": {},
   "outputs": [],
   "source": [
    "testY = globalTest[784]\n",
    "testX = np.array(globalTest.drop(columns=[784]))/255"
   ]
  },
  {
   "cell_type": "code",
   "execution_count": 74,
   "metadata": {
    "scrolled": true
   },
   "outputs": [
    {
     "name": "stderr",
     "output_type": "stream",
     "text": [
      "\n",
      "  0%|          | 0/45 [00:00<?, ?it/s]\u001b[A\n",
      "  2%|▏         | 1/45 [00:02<01:55,  2.62s/it]\u001b[A\n",
      "  4%|▍         | 2/45 [00:06<02:13,  3.09s/it]\u001b[A\n",
      "  7%|▋         | 3/45 [00:11<02:34,  3.69s/it]\u001b[A\n",
      "  9%|▉         | 4/45 [00:15<02:31,  3.70s/it]\u001b[A\n",
      " 11%|█         | 5/45 [00:18<02:23,  3.58s/it]\u001b[A\n",
      " 13%|█▎        | 6/45 [00:26<03:10,  4.89s/it]\u001b[A\n",
      " 16%|█▌        | 7/45 [00:28<02:32,  4.02s/it]\u001b[A\n",
      " 18%|█▊        | 8/45 [00:33<02:31,  4.10s/it]\u001b[A\n",
      " 20%|██        | 9/45 [00:35<02:11,  3.66s/it]\u001b[A\n",
      " 22%|██▏       | 10/45 [00:38<01:56,  3.34s/it]\u001b[A\n",
      " 24%|██▍       | 11/45 [00:41<01:50,  3.24s/it]\u001b[A\n",
      " 27%|██▋       | 12/45 [00:43<01:38,  2.98s/it]\u001b[A\n",
      " 29%|██▉       | 13/45 [00:46<01:30,  2.82s/it]\u001b[A\n",
      " 31%|███       | 14/45 [00:49<01:28,  2.86s/it]\u001b[A\n",
      " 33%|███▎      | 15/45 [00:50<01:11,  2.38s/it]\u001b[A\n",
      " 36%|███▌      | 16/45 [00:53<01:14,  2.58s/it]\u001b[A\n",
      " 38%|███▊      | 17/45 [00:55<01:07,  2.40s/it]\u001b[A\n",
      " 40%|████      | 18/45 [00:58<01:13,  2.73s/it]\u001b[A\n",
      " 42%|████▏     | 19/45 [01:06<01:50,  4.24s/it]\u001b[A\n",
      " 44%|████▍     | 20/45 [01:10<01:39,  3.96s/it]\u001b[A\n",
      " 47%|████▋     | 21/45 [01:18<02:06,  5.27s/it]\u001b[A\n",
      " 49%|████▉     | 22/45 [01:20<01:38,  4.28s/it]\u001b[A\n",
      " 51%|█████     | 23/45 [01:24<01:36,  4.37s/it]\u001b[A\n",
      " 53%|█████▎    | 24/45 [01:27<01:21,  3.88s/it]\u001b[A\n",
      " 56%|█████▌    | 25/45 [01:31<01:18,  3.95s/it]\u001b[A\n",
      " 58%|█████▊    | 26/45 [01:34<01:09,  3.64s/it]\u001b[A\n",
      " 60%|██████    | 27/45 [01:40<01:14,  4.16s/it]\u001b[A\n",
      " 62%|██████▏   | 28/45 [01:41<00:58,  3.41s/it]\u001b[A\n",
      " 64%|██████▍   | 29/45 [01:45<00:56,  3.56s/it]\u001b[A\n",
      " 67%|██████▋   | 30/45 [01:47<00:48,  3.21s/it]\u001b[A\n",
      " 69%|██████▉   | 31/45 [01:51<00:44,  3.19s/it]\u001b[A\n",
      " 71%|███████   | 32/45 [01:59<00:59,  4.60s/it]\u001b[A\n",
      " 73%|███████▎  | 33/45 [02:00<00:45,  3.77s/it]\u001b[A\n",
      " 76%|███████▌  | 34/45 [02:05<00:43,  3.95s/it]\u001b[A\n",
      " 78%|███████▊  | 35/45 [02:07<00:35,  3.53s/it]\u001b[A\n",
      " 80%|████████  | 36/45 [02:11<00:31,  3.55s/it]\u001b[A\n",
      " 82%|████████▏ | 37/45 [02:16<00:31,  3.88s/it]\u001b[A\n",
      " 84%|████████▍ | 38/45 [02:21<00:29,  4.23s/it]\u001b[A\n",
      " 87%|████████▋ | 39/45 [02:25<00:25,  4.25s/it]\u001b[A\n",
      " 89%|████████▉ | 40/45 [02:27<00:18,  3.62s/it]\u001b[A\n",
      " 91%|█████████ | 41/45 [02:32<00:16,  4.07s/it]\u001b[A\n",
      " 93%|█████████▎| 42/45 [02:35<00:11,  3.72s/it]\u001b[A\n",
      " 96%|█████████▌| 43/45 [02:38<00:07,  3.60s/it]\u001b[A\n",
      " 98%|█████████▊| 44/45 [02:42<00:03,  3.71s/it]\u001b[A\n",
      "100%|██████████| 45/45 [02:46<00:00,  3.71s/it]\u001b[A\n"
     ]
    }
   ],
   "source": [
    "predictionsTest = allPredictions(clfList,testX)"
   ]
  },
  {
   "cell_type": "code",
   "execution_count": 75,
   "metadata": {},
   "outputs": [
    {
     "name": "stderr",
     "output_type": "stream",
     "text": [
      "\n",
      "  0%|          | 0/5000 [00:00<?, ?it/s]\u001b[A\n",
      " 21%|██        | 1040/5000 [00:00<00:00, 10391.19it/s]\u001b[A\n",
      " 42%|████▏     | 2101/5000 [00:00<00:00, 10455.19it/s]\u001b[A\n",
      " 63%|██████▎   | 3150/5000 [00:00<00:00, 10463.45it/s]\u001b[A\n",
      "100%|██████████| 5000/5000 [00:00<00:00, 10474.99it/s]\u001b[A\n"
     ]
    }
   ],
   "source": [
    "oneVonePredSVC = findMajorityClass(predictionsTest,l,calculations=\"SVC\")"
   ]
  },
  {
   "cell_type": "code",
   "execution_count": 76,
   "metadata": {},
   "outputs": [
    {
     "name": "stdout",
     "output_type": "stream",
     "text": [
      "0.8814\n"
     ]
    }
   ],
   "source": [
    "checkAccuracy(testY,oneVonePredSVC)"
   ]
  },
  {
   "cell_type": "code",
   "execution_count": 77,
   "metadata": {},
   "outputs": [],
   "source": [
    "valY = globalVal[784]\n",
    "valX = np.array(globalVal.drop(columns=[784]))/255"
   ]
  },
  {
   "cell_type": "code",
   "execution_count": 78,
   "metadata": {
    "scrolled": true
   },
   "outputs": [
    {
     "name": "stderr",
     "output_type": "stream",
     "text": [
      "\n",
      "  0%|          | 0/45 [00:00<?, ?it/s]\u001b[A\n",
      "  2%|▏         | 1/45 [00:01<00:56,  1.29s/it]\u001b[A\n",
      "  4%|▍         | 2/45 [00:03<01:06,  1.54s/it]\u001b[A\n",
      "  7%|▋         | 3/45 [00:05<01:16,  1.83s/it]\u001b[A\n",
      "  9%|▉         | 4/45 [00:07<01:13,  1.80s/it]\u001b[A\n",
      " 11%|█         | 5/45 [00:09<01:09,  1.75s/it]\u001b[A\n",
      " 13%|█▎        | 6/45 [00:13<01:33,  2.39s/it]\u001b[A\n",
      " 16%|█▌        | 7/45 [00:14<01:14,  1.96s/it]\u001b[A\n",
      " 18%|█▊        | 8/45 [00:16<01:14,  2.01s/it]\u001b[A\n",
      " 20%|██        | 9/45 [00:17<01:05,  1.81s/it]\u001b[A\n",
      " 22%|██▏       | 10/45 [00:18<00:58,  1.67s/it]\u001b[A\n",
      " 24%|██▍       | 11/45 [00:20<00:55,  1.63s/it]\u001b[A\n",
      " 27%|██▋       | 12/45 [00:21<00:49,  1.50s/it]\u001b[A\n",
      " 29%|██▉       | 13/45 [00:22<00:45,  1.42s/it]\u001b[A\n",
      " 31%|███       | 14/45 [00:24<00:44,  1.43s/it]\u001b[A\n",
      " 33%|███▎      | 15/45 [00:24<00:35,  1.19s/it]\u001b[A\n",
      " 36%|███▌      | 16/45 [00:26<00:37,  1.30s/it]\u001b[A\n",
      " 38%|███▊      | 17/45 [00:27<00:33,  1.20s/it]\u001b[A\n",
      " 40%|████      | 18/45 [00:29<00:36,  1.37s/it]\u001b[A\n",
      " 42%|████▏     | 19/45 [00:33<00:54,  2.12s/it]\u001b[A\n",
      " 44%|████▍     | 20/45 [00:34<00:49,  1.98s/it]\u001b[A\n",
      " 47%|████▋     | 21/45 [00:38<01:03,  2.63s/it]\u001b[A\n",
      " 49%|████▉     | 22/45 [00:39<00:49,  2.14s/it]\u001b[A\n",
      " 51%|█████     | 23/45 [00:42<00:48,  2.19s/it]\u001b[A\n",
      " 53%|█████▎    | 24/45 [00:43<00:40,  1.95s/it]\u001b[A\n",
      " 56%|█████▌    | 25/45 [00:45<00:39,  1.98s/it]\u001b[A\n",
      " 58%|█████▊    | 26/45 [00:47<00:34,  1.82s/it]\u001b[A\n",
      " 60%|██████    | 27/45 [00:49<00:37,  2.08s/it]\u001b[A\n",
      " 62%|██████▏   | 28/45 [00:50<00:29,  1.71s/it]\u001b[A\n",
      " 64%|██████▍   | 29/45 [00:52<00:28,  1.78s/it]\u001b[A\n",
      " 67%|██████▋   | 30/45 [00:53<00:24,  1.61s/it]\u001b[A\n",
      " 69%|██████▉   | 31/45 [00:55<00:22,  1.60s/it]\u001b[A\n",
      " 71%|███████   | 32/45 [00:59<00:29,  2.29s/it]\u001b[A\n",
      " 73%|███████▎  | 33/45 [01:00<00:22,  1.87s/it]\u001b[A\n",
      " 76%|███████▌  | 34/45 [01:02<00:21,  1.96s/it]\u001b[A\n",
      " 78%|███████▊  | 35/45 [01:03<00:17,  1.76s/it]\u001b[A\n",
      " 80%|████████  | 36/45 [01:05<00:15,  1.77s/it]\u001b[A\n",
      " 82%|████████▏ | 37/45 [01:07<00:15,  1.93s/it]\u001b[A\n",
      " 84%|████████▍ | 38/45 [01:10<00:14,  2.11s/it]\u001b[A\n",
      " 87%|████████▋ | 39/45 [01:12<00:12,  2.13s/it]\u001b[A\n",
      " 89%|████████▉ | 40/45 [01:13<00:09,  1.81s/it]\u001b[A\n",
      " 91%|█████████ | 41/45 [01:16<00:08,  2.05s/it]\u001b[A\n",
      " 93%|█████████▎| 42/45 [01:17<00:05,  1.88s/it]\u001b[A\n",
      " 96%|█████████▌| 43/45 [01:19<00:03,  1.81s/it]\u001b[A\n",
      " 98%|█████████▊| 44/45 [01:21<00:01,  1.86s/it]\u001b[A\n",
      "100%|██████████| 45/45 [01:23<00:00,  1.85s/it]\u001b[A\n"
     ]
    }
   ],
   "source": [
    "predictionsVal = allPredictions(clfList,valX)"
   ]
  },
  {
   "cell_type": "code",
   "execution_count": 79,
   "metadata": {},
   "outputs": [
    {
     "name": "stderr",
     "output_type": "stream",
     "text": [
      "\n",
      "  0%|          | 0/2500 [00:00<?, ?it/s]\u001b[A\n",
      " 42%|████▏     | 1045/2500 [00:00<00:00, 10443.11it/s]\u001b[A\n",
      "100%|██████████| 2500/2500 [00:00<00:00, 10401.97it/s]\u001b[A"
     ]
    },
    {
     "name": "stdout",
     "output_type": "stream",
     "text": [
      "0.8808\n"
     ]
    },
    {
     "name": "stderr",
     "output_type": "stream",
     "text": [
      "\n"
     ]
    }
   ],
   "source": [
    "oneVonePredVal = findMajorityClass(predictionsVal,l,calculations=\"SVC\")\n",
    "checkAccuracy(valY,oneVonePredVal)"
   ]
  },
  {
   "cell_type": "markdown",
   "metadata": {},
   "source": [
    "# 2(C)"
   ]
  },
  {
   "cell_type": "code",
   "execution_count": 80,
   "metadata": {},
   "outputs": [],
   "source": [
    "def confusionMatrix(test,prediction):\n",
    "    mat = np.zeros((10,10))\n",
    "    index=0\n",
    "    for i in range(len(prediction)):\n",
    "        mat[int(test[i]),int(prediction[i])] += 1\n",
    "    return mat"
   ]
  },
  {
   "cell_type": "code",
   "execution_count": 81,
   "metadata": {},
   "outputs": [
    {
     "data": {
      "text/plain": [
       "3.0"
      ]
     },
     "execution_count": 81,
     "metadata": {},
     "output_type": "execute_result"
    }
   ],
   "source": [
    "valY[12]"
   ]
  },
  {
   "cell_type": "code",
   "execution_count": 82,
   "metadata": {},
   "outputs": [
    {
     "data": {
      "text/plain": [
       "array([[211.,   1.,   1.,   8.,   0.,   0.,  27.,   0.,   2.,   0.],\n",
       "       [  0., 239.,   2.,   6.,   0.,   0.,   2.,   0.,   1.,   0.],\n",
       "       [  5.,   0., 206.,   3.,  19.,   0.,  13.,   0.,   4.,   0.],\n",
       "       [  5.,   0.,   0., 229.,   6.,   0.,   9.,   0.,   1.,   0.],\n",
       "       [  1.,   1.,  23.,   8., 201.,   0.,  15.,   0.,   1.,   0.],\n",
       "       [  0.,   0.,   0.,   1.,   0., 240.,   0.,   2.,   1.,   6.],\n",
       "       [ 32.,   0.,  27.,   4.,  20.,   0., 166.,   0.,   1.,   0.],\n",
       "       [  0.,   0.,   0.,   0.,   0.,   8.,   0., 230.,   1.,  11.],\n",
       "       [  0.,   0.,   1.,   1.,   1.,   0.,   1.,   2., 244.,   0.],\n",
       "       [  0.,   0.,   0.,   0.,   0.,   5.,   0.,   8.,   1., 236.]])"
      ]
     },
     "execution_count": 82,
     "metadata": {},
     "output_type": "execute_result"
    }
   ],
   "source": [
    "confusion = confusionMatrix(valY,oneVonePredVal)\n",
    "confusion"
   ]
  },
  {
   "cell_type": "code",
   "execution_count": 98,
   "metadata": {},
   "outputs": [
    {
     "data": {
      "text/plain": [
       "<matplotlib.axes._subplots.AxesSubplot at 0x7f0235f0c150>"
      ]
     },
     "execution_count": 98,
     "metadata": {},
     "output_type": "execute_result"
    },
    {
     "data": {
      "image/png": "[encoded data removed]",
      "text/plain": [
       "<Figure size 720x576 with 2 Axes>"
      ]
     },
     "metadata": {},
     "output_type": "display_data"
    }
   ],
   "source": [
    "df_cm = pd.DataFrame(confusion.astype(int), index = [i for i in \"0123456789\"],\n",
    "                  columns = [i for i in \"0123456789\"])\n",
    "plt.figure(figsize = (10,8))\n",
    "sns.set(font_scale=1.2)\n",
    "sns.heatmap(df_cm,cmap=\"Blues\", annot=True,fmt=\"d\",linewidth=1,annot_kws={\"size\": 14})"
   ]
  },
  {
   "cell_type": "markdown",
   "metadata": {},
   "source": [
    "# 2(D)"
   ]
  },
  {
   "cell_type": "code",
   "execution_count": 160,
   "metadata": {},
   "outputs": [],
   "source": [
    "trainY = globalTrain[784]\n",
    "trainX = np.array(globalTrain.drop(columns=[784]))/255\n",
    "\n",
    "testY = globalTest[784]\n",
    "testX = np.array(globalTest.drop(columns=[784]))/255"
   ]
  },
  {
   "cell_type": "code",
   "execution_count": 192,
   "metadata": {},
   "outputs": [],
   "source": [
    "def findAccuracyParallel(data,c):\n",
    "    clf = SVC(C=c,kernel='rbf',gamma=0.05)\n",
    "    clf.fit(data[0],data[1])\n",
    "    print(\"Done\")\n",
    "    \n",
    "    v = clf.score(data[2],data[3])\n",
    "    t = clf.score(data[4],data[5])\n",
    "    return (v,t,c)\n",
    "    \n",
    "\n",
    "def verifyKfold(trainX,trainY,testX,testY):\n",
    "    kf = KFold(n_splits=5)\n",
    "    kf.get_n_splits(trainX)\n",
    "    C = [1e-5,1e-3,1,5,10]\n",
    "    \n",
    "    for trainId,testId in kf.split(trainX):\n",
    "        X_train, X_val = trainX[trainId], trainX[testId]\n",
    "        Y_train, Y_val = trainY[trainId], trainY[testId]\n",
    "        \n",
    "        st = time.time()\n",
    "        data = [X_train,Y_train,X_val,Y_val,testX,testY]\n",
    "        temp = Parallel(n_jobs=-2)(delayed(findAccuracyParallel)(data,i) for i in C)\n",
    "        print(time.time()-st)\n",
    "        print(temp)\n",
    "#         clf = SVC(C=1.0,kernel='rbf',gamma=0.05)\n",
    "#         st=time.time()\n",
    "#         clf.fit(X_train,Y_train)\n",
    "#         print(time.time()-st)\n",
    "#         print(clf.score(X_val,Y_val))\n",
    "#         print()\n",
    "        \n",
    "        break"
   ]
  },
  {
   "cell_type": "code",
   "execution_count": null,
   "metadata": {},
   "outputs": [],
   "source": [
    "verifyKfold(trainX,trainY,testX,testY)"
   ]
  }
 ],
 "metadata": {
  "kernelspec": {
   "display_name": "Python 3",
   "language": "python",
   "name": "python3"
  },
  "language_info": {
   "codemirror_mode": {
    "name": "ipython",
    "version": 3
   },
   "file_extension": ".py",
   "mimetype": "text/x-python",
   "name": "python",
   "nbconvert_exporter": "python",
   "pygments_lexer": "ipython3",
   "version": "3.7.4"
  }
 },
 "nbformat": 4,
 "nbformat_minor": 4
}
