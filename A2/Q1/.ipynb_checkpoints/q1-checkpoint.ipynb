{
 "cells": [
  {
   "cell_type": "code",
   "execution_count": 11,
   "metadata": {},
   "outputs": [],
   "source": [
    "import numpy as np\n",
    "import pandas as pd\n",
    "import matplotlib.pyplot as plt\n",
    "from time import time\n",
    "from tqdm import tqdm\n",
    "import math\n",
    "import random\n",
    "from nltk.tokenize import TweetTokenizer,RegexpTokenizer,word_tokenize\n",
    "from nltk.stem.snowball import SnowballStemmer\n",
    "from nltk.stem import PorterStemmer\n",
    "from nltk.corpus import stopwords\n",
    "from string import punctuation\n",
    "import re\n",
    "import seaborn as sns\n",
    "from sklearn.feature_selection import SelectPercentile, chi2\n",
    "from sklearn.naive_bayes import GaussianNB,MultinomialNB\n",
    "from sklearn.feature_extraction.text import TfidfVectorizer\n",
    "from sklearn.metrics import roc_curve, auc,roc_auc_score\n",
    "from sklearn.preprocessing import label_binarize\n",
    "from sklearn.metrics import plot_confusion_matrix\n",
    "import pickle\n",
    "import emot\n",
    "import contractions"
   ]
  },
  {
   "cell_type": "code",
   "execution_count": 12,
   "metadata": {},
   "outputs": [],
   "source": [
    "def init():\n",
    "    train = pd.read_csv(\"data/train.csv\",encoding=\"iso-8859-1\",header=None)\n",
    "    test = pd.read_csv(\"data/test.csv\",encoding=\"iso-8859-1\",header=None)\n",
    "    return train,test"
   ]
  },
  {
   "cell_type": "code",
   "execution_count": 13,
   "metadata": {},
   "outputs": [],
   "source": [
    "train,test = init()"
   ]
  },
  {
   "cell_type": "markdown",
   "metadata": {},
   "source": [
    "# A"
   ]
  },
  {
   "cell_type": "code",
   "execution_count": 14,
   "metadata": {},
   "outputs": [
    {
     "data": {
      "text/html": [
       "<div>\n",
       "<style scoped>\n",
       "    .dataframe tbody tr th:only-of-type {\n",
       "        vertical-align: middle;\n",
       "    }\n",
       "\n",
       "    .dataframe tbody tr th {\n",
       "        vertical-align: top;\n",
       "    }\n",
       "\n",
       "    .dataframe thead th {\n",
       "        text-align: right;\n",
       "    }\n",
       "</style>\n",
       "<table border=\"1\" class=\"dataframe\">\n",
       "  <thead>\n",
       "    <tr style=\"text-align: right;\">\n",
       "      <th></th>\n",
       "      <th>0</th>\n",
       "      <th>1</th>\n",
       "      <th>2</th>\n",
       "      <th>3</th>\n",
       "      <th>4</th>\n",
       "      <th>5</th>\n",
       "    </tr>\n",
       "  </thead>\n",
       "  <tbody>\n",
       "    <tr>\n",
       "      <th>0</th>\n",
       "      <td>0</td>\n",
       "      <td>1467810369</td>\n",
       "      <td>Mon Apr 06 22:19:45 PDT 2009</td>\n",
       "      <td>NO_QUERY</td>\n",
       "      <td>_TheSpecialOne_</td>\n",
       "      <td>@switchfoot http://twitpic.com/2y1zl - Awww, t...</td>\n",
       "    </tr>\n",
       "    <tr>\n",
       "      <th>1</th>\n",
       "      <td>0</td>\n",
       "      <td>1467810672</td>\n",
       "      <td>Mon Apr 06 22:19:49 PDT 2009</td>\n",
       "      <td>NO_QUERY</td>\n",
       "      <td>scotthamilton</td>\n",
       "      <td>is upset that he can't update his Facebook by ...</td>\n",
       "    </tr>\n",
       "    <tr>\n",
       "      <th>2</th>\n",
       "      <td>0</td>\n",
       "      <td>1467810917</td>\n",
       "      <td>Mon Apr 06 22:19:53 PDT 2009</td>\n",
       "      <td>NO_QUERY</td>\n",
       "      <td>mattycus</td>\n",
       "      <td>@Kenichan I dived many times for the ball. Man...</td>\n",
       "    </tr>\n",
       "    <tr>\n",
       "      <th>3</th>\n",
       "      <td>0</td>\n",
       "      <td>1467811184</td>\n",
       "      <td>Mon Apr 06 22:19:57 PDT 2009</td>\n",
       "      <td>NO_QUERY</td>\n",
       "      <td>ElleCTF</td>\n",
       "      <td>my whole body feels itchy and like its on fire</td>\n",
       "    </tr>\n",
       "    <tr>\n",
       "      <th>4</th>\n",
       "      <td>0</td>\n",
       "      <td>1467811193</td>\n",
       "      <td>Mon Apr 06 22:19:57 PDT 2009</td>\n",
       "      <td>NO_QUERY</td>\n",
       "      <td>Karoli</td>\n",
       "      <td>@nationwideclass no, it's not behaving at all....</td>\n",
       "    </tr>\n",
       "  </tbody>\n",
       "</table>\n",
       "</div>"
      ],
      "text/plain": [
       "   0           1                             2         3                4  \\\n",
       "0  0  1467810369  Mon Apr 06 22:19:45 PDT 2009  NO_QUERY  _TheSpecialOne_   \n",
       "1  0  1467810672  Mon Apr 06 22:19:49 PDT 2009  NO_QUERY    scotthamilton   \n",
       "2  0  1467810917  Mon Apr 06 22:19:53 PDT 2009  NO_QUERY         mattycus   \n",
       "3  0  1467811184  Mon Apr 06 22:19:57 PDT 2009  NO_QUERY          ElleCTF   \n",
       "4  0  1467811193  Mon Apr 06 22:19:57 PDT 2009  NO_QUERY           Karoli   \n",
       "\n",
       "                                                   5  \n",
       "0  @switchfoot http://twitpic.com/2y1zl - Awww, t...  \n",
       "1  is upset that he can't update his Facebook by ...  \n",
       "2  @Kenichan I dived many times for the ball. Man...  \n",
       "3    my whole body feels itchy and like its on fire   \n",
       "4  @nationwideclass no, it's not behaving at all....  "
      ]
     },
     "execution_count": 14,
     "metadata": {},
     "output_type": "execute_result"
    }
   ],
   "source": [
    "train.head()"
   ]
  },
  {
   "cell_type": "code",
   "execution_count": 15,
   "metadata": {},
   "outputs": [
    {
     "data": {
      "text/plain": [
       "793506"
      ]
     },
     "execution_count": 15,
     "metadata": {},
     "output_type": "execute_result"
    }
   ],
   "source": [
    "train4 = train[train[0]==4]\n",
    "train0 = train[train[0]==0]\n",
    "len(train4[5].unique())"
   ]
  },
  {
   "cell_type": "code",
   "execution_count": 16,
   "metadata": {},
   "outputs": [],
   "source": [
    "# Pass data,column of text\n",
    "def getVocab(train,col):\n",
    "    vocab = {}\n",
    "    count=0\n",
    "#     data = []\n",
    "    data = train[col].unique()\n",
    "    for i in range(data.shape[0]):\n",
    "        x = []\n",
    "        words = data[i].replace(\".\",\" \").split(\" \")\n",
    "#         words = data[i].split(\" \")\n",
    "        if \" \" in words:\n",
    "            words.remove(\" \")\n",
    "        for j in words:\n",
    "            if(j not in vocab):\n",
    "                vocab[j]=count\n",
    "                count = count+1\n",
    "#             x.append(j)\n",
    "#                 x.append(vocab[j])\n",
    "#         data.append(x)\n",
    "#     train[1]=data\n",
    "    return vocab"
   ]
  },
  {
   "cell_type": "code",
   "execution_count": 17,
   "metadata": {},
   "outputs": [
    {
     "name": "stdout",
     "output_type": "stream",
     "text": [
      "7.239472389221191\n"
     ]
    }
   ],
   "source": [
    "st = time()\n",
    "vocab = getVocab(train,5)\n",
    "print(time()-st)"
   ]
  },
  {
   "cell_type": "code",
   "execution_count": 18,
   "metadata": {},
   "outputs": [
    {
     "data": {
      "text/plain": [
       "1133910"
      ]
     },
     "execution_count": 18,
     "metadata": {},
     "output_type": "execute_result"
    }
   ],
   "source": [
    "len(vocab)"
   ]
  },
  {
   "cell_type": "code",
   "execution_count": 19,
   "metadata": {},
   "outputs": [],
   "source": [
    "# 0 = Negative 4 = Positive 2 = Neutral\n",
    "\n",
    "# Pass the column of full data,column's number and vocabulary\n",
    "def findParamVocab(data,vocab,col):\n",
    "    v = vocab.fromkeys(vocab,1)\n",
    "    total = len(vocab)\n",
    "    data = data[col].unique()\n",
    "    for i in data:\n",
    "#         total=total+len(i.split(\" \"))\n",
    "        words = i.replace(\".\",\" \").split(\" \")\n",
    "#         words = i.split(\" \")\n",
    "        while \" \" in words:\n",
    "            words.remove(\" \")\n",
    "        while \"\" in words:\n",
    "            words.remove(\"\")\n",
    "        total = total+len(words)\n",
    "        for j in words:\n",
    "            v[j] = v[j]+1\n",
    "    for key in v:\n",
    "        v[key] = float(v[key]/total)\n",
    "    return v,total\n",
    "    \n",
    "def learnParam(train,vocab,col):\n",
    "    m=train.shape[0]\n",
    "    train4 = train[train[0]==4]\n",
    "    train0 = train[train[0]==0]\n",
    "    phi0 = (len(train0[col].unique()))/(m)\n",
    "    phi4 = (len(train4[col].unique()))/(m)\n",
    "#     phi0 = (train[train[0]==0].shape[0]+1)/(m+2)\n",
    "#     phi2 = (train[train[0]==2].shape[0]+1)/m\n",
    "#     phi4 = (train[train[0]==4].shape[0]+1)/(m+2)\n",
    "    param0,t0 = findParamVocab(train[train[0]==0],vocab,col)\n",
    "#     param2,t2 = findParamVocab(train[train[0]==2],vocab,col)\n",
    "    param4,t4 = findParamVocab(train[train[0]==4],vocab,col)\n",
    "#     return phi0,phi2,phi4,param0,param2,param4,t0,t2,t4\n",
    "    return phi0,phi4,param0,param4,t0,t4"
   ]
  },
  {
   "cell_type": "code",
   "execution_count": 20,
   "metadata": {},
   "outputs": [
    {
     "name": "stdout",
     "output_type": "stream",
     "text": [
      "12.837555646896362\n"
     ]
    }
   ],
   "source": [
    "st = time()\n",
    "phi0,phi4,theta0,theta4,t0,t4 = learnParam(train,vocab,5)\n",
    "print(time()-st)"
   ]
  },
  {
   "cell_type": "code",
   "execution_count": 21,
   "metadata": {},
   "outputs": [],
   "source": [
    "# Pass the column of text\n",
    "# def findClasses(data,phi0,phi1,phi2,theta0,theta2,theta4,t0,t2,t4):\n",
    "def findClasses(data,phi0,phi4,theta0,theta4,t0,t4):\n",
    "    pred = []\n",
    "    pred0 = []\n",
    "    pred4 = []\n",
    "    for i in data:\n",
    "        prob0 = 0\n",
    "        prob2 = 0\n",
    "        prob4 = 0\n",
    "        words = i.split(\" \")\n",
    "        if \" \" in words:\n",
    "            words.remove(\" \")\n",
    "        for j  in words:\n",
    "            try:\n",
    "                prob0 = prob0+(math.log(theta0[j]))\n",
    "            except:\n",
    "                prob0 = prob0+float(1/(t0+1))\n",
    "                \n",
    "#             if(j in theta2):\n",
    "#             try:\n",
    "#                 prob2 = prob2+(math.log(theta2[j]))\n",
    "#             except:\n",
    "#                 prob2 = prob2+float(1/(t2+1))\n",
    "                \n",
    "#             if(j in theta4):\n",
    "            try:\n",
    "                prob4 = prob4+(math.log(theta4[j]))\n",
    "            except:\n",
    "                prob4 = prob4+float(1/(t4+1))\n",
    "                \n",
    "        prob0 = prob0+(math.log(phi0))\n",
    "#         prob2 = prob2+(math.log(phi2))\n",
    "        prob4 = prob4+(math.log(phi4))\n",
    "        if(prob0>prob4):\n",
    "            pred.append(0)\n",
    "#         elif(prob2>prob0 and prob2>prob4):\n",
    "#             pred.append(2)\n",
    "        else:\n",
    "            pred.append(4)\n",
    "        pred0.append(prob0)\n",
    "        pred4.append(prob4)\n",
    "    return pred,pred0,pred4"
   ]
  },
  {
   "cell_type": "code",
   "execution_count": 22,
   "metadata": {},
   "outputs": [
    {
     "name": "stdout",
     "output_type": "stream",
     "text": [
      "23.378004789352417\n"
     ]
    }
   ],
   "source": [
    "st = time()\n",
    "# predictionTrain = findClasses(train[5],phi0,phi2,phi4,theta0,theta2,theta4,t0,t2,t4)\n",
    "predictionTrain,pred0,pred4 = findClasses(train[5],phi0,phi4,theta0,theta4,t0,t4)\n",
    "print(time()-st)"
   ]
  },
  {
   "cell_type": "code",
   "execution_count": 23,
   "metadata": {},
   "outputs": [],
   "source": [
    "check = (train[0]==predictionTrain)"
   ]
  },
  {
   "cell_type": "code",
   "execution_count": 24,
   "metadata": {},
   "outputs": [
    {
     "name": "stdout",
     "output_type": "stream",
     "text": [
      "0.845434375\n"
     ]
    }
   ],
   "source": [
    "t=0\n",
    "f=0\n",
    "for i in check:\n",
    "    if i:\n",
    "        t=t+1\n",
    "    else:\n",
    "        f=f+1\n",
    "print(t/(t+f))"
   ]
  },
  {
   "cell_type": "code",
   "execution_count": 25,
   "metadata": {},
   "outputs": [
    {
     "name": "stdout",
     "output_type": "stream",
     "text": [
      "0.012442588806152344\n"
     ]
    }
   ],
   "source": [
    "st = time()\n",
    "test = test[test[0]==0].append(test[test[0]==4])\n",
    "predictionTest,predTest0,predTest4 = findClasses(test[5],phi0,phi4,theta0,theta4,t0,t4)\n",
    "print(time()-st)"
   ]
  },
  {
   "cell_type": "code",
   "execution_count": 26,
   "metadata": {},
   "outputs": [
    {
     "name": "stdout",
     "output_type": "stream",
     "text": [
      "0.8050139275766016\n"
     ]
    }
   ],
   "source": [
    "check = (test[0]==predictionTest)\n",
    "t=0\n",
    "f=0\n",
    "for i in check:\n",
    "    if i:\n",
    "        t=t+1\n",
    "    else:\n",
    "        f=f+1\n",
    "print(t/(t+f))"
   ]
  },
  {
   "cell_type": "markdown",
   "metadata": {},
   "source": [
    "# B"
   ]
  },
  {
   "cell_type": "code",
   "execution_count": 27,
   "metadata": {},
   "outputs": [],
   "source": [
    "def randomGuess(data):\n",
    "    choices=[0,4]\n",
    "    pred=[]\n",
    "    for i in data:\n",
    "        pred.append(random.choice(choices))\n",
    "    return pred"
   ]
  },
  {
   "cell_type": "code",
   "execution_count": 28,
   "metadata": {},
   "outputs": [
    {
     "name": "stdout",
     "output_type": "stream",
     "text": [
      "0.0005991458892822266\n"
     ]
    }
   ],
   "source": [
    "st = time()\n",
    "predictionRandom = randomGuess(test[5])\n",
    "print(time()-st)"
   ]
  },
  {
   "cell_type": "code",
   "execution_count": 29,
   "metadata": {},
   "outputs": [
    {
     "name": "stdout",
     "output_type": "stream",
     "text": [
      "0.4986072423398329\n"
     ]
    }
   ],
   "source": [
    "check = (test[0]==predictionRandom)\n",
    "t=0\n",
    "f=0\n",
    "for i in check:\n",
    "    if i:\n",
    "        t=t+1\n",
    "    else:\n",
    "        f=f+1\n",
    "print(t/(t+f))"
   ]
  },
  {
   "cell_type": "code",
   "execution_count": 30,
   "metadata": {},
   "outputs": [],
   "source": [
    "def majorityGuess(train,test):\n",
    "    c0 = train[train[0]==0][5].unique().shape[0]\n",
    "#     c2 = train[train[0]==2].shape[0]\n",
    "    c4 = train[train[0]==4][5].unique().shape[0]\n",
    "    m=0\n",
    "    if(c0>c4):\n",
    "        m=0\n",
    "#     elif(c2>c0 and c2>c4):\n",
    "#         m=2\n",
    "    else:\n",
    "        m=4\n",
    "        \n",
    "    pred=[]\n",
    "    for i in test[5]:\n",
    "        pred.append(m)\n",
    "    return pred"
   ]
  },
  {
   "cell_type": "code",
   "execution_count": 31,
   "metadata": {},
   "outputs": [
    {
     "name": "stdout",
     "output_type": "stream",
     "text": [
      "0.7554473876953125\n"
     ]
    }
   ],
   "source": [
    "st = time()\n",
    "predictionMajority = majorityGuess(train,test)\n",
    "print(time()-st)"
   ]
  },
  {
   "cell_type": "code",
   "execution_count": 32,
   "metadata": {},
   "outputs": [
    {
     "name": "stdout",
     "output_type": "stream",
     "text": [
      "0.5069637883008357\n"
     ]
    }
   ],
   "source": [
    "check = (test[0]==predictionMajority)\n",
    "t=0\n",
    "f=0\n",
    "for i in check:\n",
    "    if i:\n",
    "        t=t+1\n",
    "    else:\n",
    "        f=f+1\n",
    "print(t/(t+f))"
   ]
  },
  {
   "cell_type": "markdown",
   "metadata": {},
   "source": [
    "# C"
   ]
  },
  {
   "cell_type": "code",
   "execution_count": 34,
   "metadata": {},
   "outputs": [],
   "source": [
    "def confusionMatrix(test,prediction):\n",
    "    mat = np.zeros((2,2))\n",
    "    index=0\n",
    "    for i in test[0]:\n",
    "        mat[int(i/4)][int(prediction[index]/4)] = mat[int(i/4)][int(prediction[index]/4)]+1\n",
    "        index=index+1\n",
    "    return mat"
   ]
  },
  {
   "cell_type": "code",
   "execution_count": 35,
   "metadata": {},
   "outputs": [
    {
     "data": {
      "text/plain": [
       "array([[144.,  33.],\n",
       "       [ 37., 145.]])"
      ]
     },
     "execution_count": 35,
     "metadata": {},
     "output_type": "execute_result"
    }
   ],
   "source": [
    "matrix = confusionMatrix(test,predictionTest)\n",
    "matrix"
   ]
  },
  {
   "cell_type": "code",
   "execution_count": 36,
   "metadata": {},
   "outputs": [
    {
     "data": {
      "image/png": "[encoded data removed]",
      "text/plain": [
       "<Figure size 504x360 with 2 Axes>"
      ]
     },
     "metadata": {
      "needs_background": "light"
     },
     "output_type": "display_data"
    }
   ],
   "source": [
    "def drawMatrix(matrix):\n",
    "    df_cm = pd.DataFrame(matrix.astype(int), index = [i for i in \"04\"],\n",
    "                      columns = [i for i in \"04\"])\n",
    "    plt.figure(figsize = (7,5))\n",
    "    sns.set(font_scale=1.4)\n",
    "    sns.heatmap(df_cm,cmap=\"Blues\", annot=True,fmt=\"d\",linewidth=1,annot_kws={\"size\": 16})\n",
    "    plt.show()\n",
    "    \n",
    "drawMatrix(matrix)"
   ]
  },
  {
   "cell_type": "markdown",
   "metadata": {},
   "source": [
    "# D"
   ]
  },
  {
   "cell_type": "code",
   "execution_count": 37,
   "metadata": {},
   "outputs": [],
   "source": [
    "# stemmer = PorterStemmer()\n",
    "stemmer = SnowballStemmer(\"english\")\n",
    "# tknzr = TweetTokenizer(strip_handles=True, reduce_len=True)\n",
    "# tokenizer = RegexpTokenizer(r'[A-Za-z0-9]+')\n",
    "# tokenizer = RegexpTokenizer(r'\\w+')\n",
    "stop = set(stopwords.words('english'))"
   ]
  },
  {
   "cell_type": "code",
   "execution_count": 38,
   "metadata": {},
   "outputs": [
    {
     "data": {
      "text/plain": [
       "[':*', ':*', ':*']"
      ]
     },
     "execution_count": 38,
     "metadata": {},
     "output_type": "execute_result"
    }
   ],
   "source": [
    "s = \"@stustone Your show is whack. Way worse than whack, it's wiggety-whack.    :*(:*(:*(\"\n",
    "t = \"@switchfoot http://twitpic.com/2y1zl - Awww, that's a bummer.  You shoulda got David Carr of Third Day to do it. ;D \"\n",
    "# t = t.replace(\".\",\" \")\n",
    "s = contractions.fix(s.lower()).replace(\",\",\" \").replace(\";\",\" \").replace(\".\",\" \").replace(\"!\",\" \").split(\" \")\n",
    "s = \" \".join([stemmer.stem(j) for j in s if (stemmer.stem(j) not in stop and '@' not in j)])\n",
    "emot.emoticons(s)['value']\n",
    "# [stemmer.stem(j) for j in contractions.fix(t).split(\" \") if (j not in stop and j not in punctuation and '@' not in j)] \n"
   ]
  },
  {
   "cell_type": "code",
   "execution_count": 39,
   "metadata": {},
   "outputs": [],
   "source": [
    "# just pass the whole data\n",
    "# 81.89 = words = contractions.fix(i).replace(\",\",\" \").replace(\";\",\" \").replace(\".\",\" \").replace(\"!\",\" \").split(\" \")\n",
    "# 82.45 = words = (i.replace(\",\",\" \").replace(\";\",\" \").replace(\".\",\" \").replace(\"!\",\" \")).split(\" \")\n",
    "# 83.00 = words = (i.replace(\";\",\" \").replace(\".\",\" \").replace(\"!\",\" \")).split(\" \")\n",
    "# 83.28 = words = (i.replace(\".\",\" \").replace(\"!\",\" \")).split(\" \")\n",
    "def cleanText(data,col):\n",
    "    temp = []\n",
    "    for i in data[col]:\n",
    "        words = contractions.fix(i.lower()).replace(\",\",\" \").replace(\";\",\" \").replace(\".\",\" \").replace(\"!\",\" \").split(\" \")\n",
    "        temp.append(\" \".join([stemmer.stem(j) for j in words if (stemmer.stem(j) not in stop and '@' not in j)]))\n",
    "    data[6]=temp"
   ]
  },
  {
   "cell_type": "code",
   "execution_count": 40,
   "metadata": {},
   "outputs": [
    {
     "name": "stdout",
     "output_type": "stream",
     "text": [
      "463.0808870792389\n"
     ]
    }
   ],
   "source": [
    "st=time()\n",
    "cleanText(train,5)\n",
    "print(time()-st)"
   ]
  },
  {
   "cell_type": "code",
   "execution_count": 41,
   "metadata": {},
   "outputs": [
    {
     "name": "stdout",
     "output_type": "stream",
     "text": [
      "4.525238990783691\n"
     ]
    }
   ],
   "source": [
    "st = time()\n",
    "vocabClean = getVocab(train,6)\n",
    "print(time()-st)"
   ]
  },
  {
   "cell_type": "code",
   "execution_count": 42,
   "metadata": {},
   "outputs": [
    {
     "name": "stdout",
     "output_type": "stream",
     "text": [
      "8.951069355010986\n"
     ]
    }
   ],
   "source": [
    "st = time()\n",
    "Cphi0,Cphi4,Ctheta0,Ctheta4,Ct0,Ct4 = learnParam(train,vocabClean,6)\n",
    "print(time()-st)"
   ]
  },
  {
   "cell_type": "code",
   "execution_count": 43,
   "metadata": {},
   "outputs": [
    {
     "name": "stdout",
     "output_type": "stream",
     "text": [
      "0.15580368041992188\n"
     ]
    }
   ],
   "source": [
    "st = time()\n",
    "cleanText(test,5)\n",
    "predictionTestClean,CpredTest0,CpredTest4 = findClasses(test[6],Cphi0,Cphi4,Ctheta0,Ctheta4,Ct0,Ct4)\n",
    "print(time()-st)"
   ]
  },
  {
   "cell_type": "code",
   "execution_count": 44,
   "metadata": {},
   "outputs": [
    {
     "data": {
      "image/png": "[encoded data removed]",
      "text/plain": [
       "<Figure size 504x360 with 2 Axes>"
      ]
     },
     "metadata": {},
     "output_type": "display_data"
    }
   ],
   "source": [
    "matrix = confusionMatrix(test,predictionTestClean)\n",
    "drawMatrix(matrix)"
   ]
  },
  {
   "cell_type": "code",
   "execution_count": 45,
   "metadata": {},
   "outputs": [
    {
     "name": "stdout",
     "output_type": "stream",
     "text": [
      "0.83008356545961\n"
     ]
    }
   ],
   "source": [
    "check = (test[0]==predictionTestClean)\n",
    "t=0\n",
    "f=0\n",
    "for i in check:\n",
    "    if i:\n",
    "        t=t+1\n",
    "    else:\n",
    "        f=f+1\n",
    "print(t/(t+f))"
   ]
  },
  {
   "cell_type": "code",
   "execution_count": 46,
   "metadata": {
    "scrolled": true
   },
   "outputs": [
    {
     "name": "stdout",
     "output_type": "stream",
     "text": [
      "16.61243200302124\n"
     ]
    }
   ],
   "source": [
    "st = time()\n",
    "predictionTrainClean,CpredTrain0,CpredTrain4 = findClasses(train[6],Cphi0,Cphi4,Ctheta0,Ctheta4,Ct0,Ct4)\n",
    "print(time()-st)"
   ]
  },
  {
   "cell_type": "code",
   "execution_count": 47,
   "metadata": {},
   "outputs": [
    {
     "data": {
      "image/png": "[encoded data removed]",
      "text/plain": [
       "<Figure size 504x360 with 2 Axes>"
      ]
     },
     "metadata": {},
     "output_type": "display_data"
    }
   ],
   "source": [
    "matrix = confusionMatrix(train,predictionTrainClean)\n",
    "drawMatrix(matrix)"
   ]
  },
  {
   "cell_type": "code",
   "execution_count": 48,
   "metadata": {},
   "outputs": [
    {
     "name": "stdout",
     "output_type": "stream",
     "text": [
      "0.799695\n"
     ]
    }
   ],
   "source": [
    "check = (train[0]==predictionTrainClean)\n",
    "t=0\n",
    "f=0\n",
    "for i in check:\n",
    "    if i:\n",
    "        t=t+1\n",
    "    else:\n",
    "        f=f+1\n",
    "print(t/(t+f))"
   ]
  },
  {
   "cell_type": "markdown",
   "metadata": {},
   "source": [
    "# FEATURE"
   ]
  },
  {
   "cell_type": "code",
   "execution_count": 49,
   "metadata": {},
   "outputs": [],
   "source": [
    "# Pass data,column of text\n",
    "def getAddedVocab(train,col):\n",
    "    vocab = {}\n",
    "    emoji = {}\n",
    "    count=0\n",
    "    emojiCount=0\n",
    "#     data = []\n",
    "    data = train[col].unique()\n",
    "    for i in range(data.shape[0]):\n",
    "        x = []\n",
    "#         words = train[col][i].replace(';',' ').replace(\".\",\" \").replace(\",\",\" \").split(\" \")\n",
    "        words = data[i].split(\" \")\n",
    "        while \" \" in words:\n",
    "            words.remove(\" \")\n",
    "        while \"\" in words:\n",
    "            words.remove('')\n",
    "        for j in words:\n",
    "            if(j not in vocab):\n",
    "                vocab[j]=count\n",
    "                count = count+1\n",
    "        for j in range(0,len(words)-1):\n",
    "            if(words[j]+\" \"+words[j+1] not in vocab):\n",
    "                vocab[words[j]+\" \"+words[j+1]]=count\n",
    "                count = count+1\n",
    "        \n",
    "        try:\n",
    "            for j in emot.emoticons(data[i])['value']:\n",
    "                if(j not in emoji):\n",
    "                    emoji[j]=emojiCount\n",
    "                    emojiCount = emojiCount+1\n",
    "        except:\n",
    "            pass\n",
    "\n",
    "#             x.append(j)\n",
    "#                 x.append(vocab[j])\n",
    "#         data.append(x)\n",
    "#     train[1]=data\n",
    "    return vocab,emoji"
   ]
  },
  {
   "cell_type": "code",
   "execution_count": 52,
   "metadata": {},
   "outputs": [
    {
     "name": "stdout",
     "output_type": "stream",
     "text": [
      "101.43464660644531\n",
      "4443561\n"
     ]
    }
   ],
   "source": [
    "st = time()\n",
    "addedVocab,emojiVocab = getAddedVocab(train,6)\n",
    "print(time()-st)\n",
    "print(len(addedVocab))"
   ]
  },
  {
   "cell_type": "code",
   "execution_count": 53,
   "metadata": {},
   "outputs": [],
   "source": [
    "# 0 = Negative 4 = Positive 2 = Neutral\n",
    "\n",
    "# Pass the column of full data,column's number and vocabulary\n",
    "def findAddedParamVocab(data,vocab,col):\n",
    "    v = vocab.fromkeys(vocab,1)\n",
    "#     print(v)\n",
    "    total = len(vocab)\n",
    "    data = data[col].unique()\n",
    "    for i in data:\n",
    "#         total=total+len(i.split(\" \"))\n",
    "        words = i.split(\" \")\n",
    "        while \" \" in words:\n",
    "            words.remove(\" \")\n",
    "        while \"\" in words:\n",
    "            words.remove(\"\")\n",
    "        total = total+2*len(words)-1\n",
    "        for j in words:\n",
    "            v[j] = v[j]+1\n",
    "        for j in range(0,len(words)-1):\n",
    "            v[words[j]+\" \"+words[j+1]] = v[words[j]+\" \"+words[j+1]]+1\n",
    "    for key in v:\n",
    "        v[key] = float(v[key]/total)\n",
    "    v = {k: v for k, v in sorted(v.items(), key=lambda item: item[1],reverse=True)}\n",
    "    return v,total\n",
    "#     return v\n",
    "\n",
    "# def findTotalValues(param):\n",
    "#     sorted_x = {k: v for k, v in sorted(param.items(), key=lambda item: item[1])}\n",
    "#     sorted_x = dict(sorted(param.items(), key=operator.itemgetter(1),reverse=True))\n",
    "#     print(sorted_x[:50])\n",
    "\n",
    "def findEmojiVocab(data,vocab,col):\n",
    "    v = vocab.fromkeys(vocab,1)\n",
    "#     print(v)\n",
    "    total = len(vocab)\n",
    "    data = data[col].unique()\n",
    "    for i in data:\n",
    "        words = i.split(\" \")\n",
    "        while \" \" in words:\n",
    "            words.remove(\" \")\n",
    "        while \"\" in words:\n",
    "            words.remove(\"\")\n",
    "#         total = total+2*len(words)-1\n",
    "\n",
    "        try:\n",
    "            for j in emot.emoticons(data[i])['value']:\n",
    "                v[j]=v[j]+1\n",
    "        except:\n",
    "            pass\n",
    "\n",
    "    for key in v:\n",
    "        v[key] = float(v[key]/total)\n",
    "    return v,total\n",
    "\n",
    "    \n",
    "def learnAddedParam(train,vocab,emoji,col):\n",
    "    m=train.shape[0]\n",
    "    train4 = train[train[0]==4]\n",
    "    train0 = train[train[0]==0]\n",
    "    phi0 = (len(train0[col].unique()))/(m)\n",
    "#     phi2 = (train[train[0]==2].shape[0]+1)/m\n",
    "    phi4 = (len(train4[col].unique()))/(m)\n",
    "    param0,t0 = findAddedParamVocab(train[train[0]==0],vocab,col)\n",
    "    emoji0,e0 = findEmojiVocab(train[train[0]==0],emoji,col)\n",
    "#     print(param0)\n",
    "#     param2,t2 = findParamVocab(train[train[0]==2],vocab,col)\n",
    "    param4,t4 = findAddedParamVocab(train[train[0]==4],vocab,col)\n",
    "    emoji4,e4 = findEmojiVocab(train[train[0]==4],emoji,col)\n",
    "#     return phi0,phi2,phi4,param0,param\n",
    "    return phi0,phi4,param0,param4,t0,t4,emoji0,e0,emoji4,e4"
   ]
  },
  {
   "cell_type": "code",
   "execution_count": 54,
   "metadata": {},
   "outputs": [
    {
     "name": "stdout",
     "output_type": "stream",
     "text": [
      "68.28368878364563\n"
     ]
    }
   ],
   "source": [
    "st = time()\n",
    "phiF0,phiF4,thetaF0,thetaF4,tF0,tF4,emoji0,e0,emoji4,e4 = learnAddedParam(train,addedVocab,emojiVocab,6)\n",
    "print(time()-st)"
   ]
  },
  {
   "cell_type": "code",
   "execution_count": 55,
   "metadata": {},
   "outputs": [],
   "source": [
    "# Pass the column of text\n",
    "# def findClasses(data,phi0,phi1,phi2,theta0,theta2,theta4,t0,t2,t4):\n",
    "def findAddedClasses(data,phi0,phi4,theta0,theta4,t0,t4,emoji0,emoji4,e0,e4):\n",
    "    pred = []\n",
    "    pred0 = []\n",
    "    pred4 = []\n",
    "    l0=[]\n",
    "    count=0\n",
    "    for i in theta0.keys():\n",
    "        l0.append(i)\n",
    "        if(count>50):\n",
    "            break\n",
    "        count+=1\n",
    "    l4=[]\n",
    "    count=0\n",
    "    for i in theta4.keys():\n",
    "        l4.append(i)\n",
    "        if(count>50):\n",
    "            break\n",
    "        count+=1\n",
    "    \n",
    "    for i in data:\n",
    "        prob0 = 0\n",
    "        prob4 = 0\n",
    "        words = i.split(\" \")\n",
    "        while \" \" in words:\n",
    "            words.remove(\" \")\n",
    "        while \"\" in words:\n",
    "            words.remove(\"\")\n",
    "        count0=1\n",
    "        count4=1\n",
    "        for j  in words:\n",
    "            if j in l0:\n",
    "                count0+=1\n",
    "            try:\n",
    "                prob0 = prob0+(math.log(theta0[j]))\n",
    "            except:\n",
    "                prob0 = prob0+float(1/(t0+1))\n",
    "            if j in l4:\n",
    "                count4+=1\n",
    "            try:\n",
    "                prob4 = prob4+(math.log(theta4[j]))\n",
    "            except:\n",
    "                prob4 = prob4+float(1/(t4+1))\n",
    "                \n",
    "        for j in range(0,len(words)-1):\n",
    "            try:\n",
    "                prob0 = prob0+(math.log(theta0[words[j]+\" \"+words[j+1]]))\n",
    "            except:\n",
    "                prob0 = prob0+float(1/(t0+1))\n",
    "            try:\n",
    "                prob4 = prob4+(math.log(theta4[words[j]+\" \"+words[j+1]]))\n",
    "            except:\n",
    "                prob4 = prob4+float(1/(t4+1))\n",
    "        \n",
    "        flag=0\n",
    "        try:\n",
    "            for j in emot.emoticons(i)['value']:\n",
    "                flag=1\n",
    "                prob0=prob0+math.log(emoji0[j])\n",
    "                prob4=prob4+math.log(emoji4[j])\n",
    "        except:\n",
    "            pass\n",
    "    \n",
    "        if(flag==0):\n",
    "            prob0 = prob0+float(1/(e0+1))\n",
    "            prob4 = prob4+float(1/(e4+1))\n",
    "        \n",
    "        \n",
    "        prob0 = prob0+(math.log(phi0))\n",
    "#         prob2 = prob2+(math.log(phi2))\n",
    "        prob4 = prob4+(math.log(phi4))\n",
    "        if(prob0>prob4):\n",
    "            pred.append(0)\n",
    "#         elif(prob2>prob0 and prob2>prob4):\n",
    "#             pred.append(2)\n",
    "        else:\n",
    "            pred.append(4)\n",
    "        pred0.append(prob0)\n",
    "        pred4.append(prob4)\n",
    "    return pred,pred0,pred4"
   ]
  },
  {
   "cell_type": "code",
   "execution_count": 56,
   "metadata": {},
   "outputs": [
    {
     "name": "stdout",
     "output_type": "stream",
     "text": [
      "147.93985724449158\n"
     ]
    }
   ],
   "source": [
    "st = time()\n",
    "# predictionTrain = findClasses(train[5],phi0,phi2,phi4,theta0,theta2,theta4,t0,t2,t4)\n",
    "predictionAddedTrain,predAdded0,predAdded4 = findAddedClasses(train[6],phiF0,phiF4,thetaF0,thetaF4,tF0,tF4,emoji0,emoji4,e0,e4)\n",
    "print(time()-st)"
   ]
  },
  {
   "cell_type": "code",
   "execution_count": 57,
   "metadata": {},
   "outputs": [
    {
     "name": "stdout",
     "output_type": "stream",
     "text": [
      "0.904259375\n"
     ]
    }
   ],
   "source": [
    "check = (train[0]==predictionAddedTrain)\n",
    "t=0\n",
    "f=0\n",
    "for i in check:\n",
    "    if i:\n",
    "        t=t+1\n",
    "    else:\n",
    "        f=f+1\n",
    "print(t/(t+f))"
   ]
  },
  {
   "cell_type": "code",
   "execution_count": 58,
   "metadata": {},
   "outputs": [
    {
     "name": "stdout",
     "output_type": "stream",
     "text": [
      "0.06620216369628906\n"
     ]
    }
   ],
   "source": [
    "st = time()\n",
    "test = test[test[0]==0].append(test[test[0]==4])\n",
    "predictionAddedTest,predAddedTest0,predAddedTest4 = findAddedClasses(test[6],phiF0,phiF4,thetaF0,thetaF4,tF0,tF4,emoji0,emoji4,e0,e4)\n",
    "print(time()-st)"
   ]
  },
  {
   "cell_type": "code",
   "execution_count": 59,
   "metadata": {},
   "outputs": [
    {
     "name": "stdout",
     "output_type": "stream",
     "text": [
      "0.8245125348189415\n"
     ]
    }
   ],
   "source": [
    "check = (test[0]==predictionAddedTest)\n",
    "t=0\n",
    "f=0\n",
    "for i in check:\n",
    "    if i:\n",
    "        t=t+1\n",
    "    else:\n",
    "        f=f+1\n",
    "print(t/(t+f))"
   ]
  },
  {
   "cell_type": "code",
   "execution_count": 60,
   "metadata": {},
   "outputs": [
    {
     "data": {
      "image/png": "[encoded data removed]",
      "text/plain": [
       "<Figure size 504x360 with 2 Axes>"
      ]
     },
     "metadata": {},
     "output_type": "display_data"
    }
   ],
   "source": [
    "matrix = confusionMatrix(test,predictionAddedTest)\n",
    "drawMatrix(matrix)"
   ]
  },
  {
   "cell_type": "markdown",
   "metadata": {},
   "source": [
    "# TF-IDF"
   ]
  },
  {
   "cell_type": "code",
   "execution_count": 49,
   "metadata": {},
   "outputs": [],
   "source": [
    "tfidf = TfidfVectorizer(min_df=0.0007)\n",
    "clf = GaussianNB()\n",
    "multi = MultinomialNB()"
   ]
  },
  {
   "cell_type": "code",
   "execution_count": 116,
   "metadata": {
    "scrolled": true
   },
   "outputs": [
    {
     "data": {
      "text/html": [
       "<div>\n",
       "<style scoped>\n",
       "    .dataframe tbody tr th:only-of-type {\n",
       "        vertical-align: middle;\n",
       "    }\n",
       "\n",
       "    .dataframe tbody tr th {\n",
       "        vertical-align: top;\n",
       "    }\n",
       "\n",
       "    .dataframe thead th {\n",
       "        text-align: right;\n",
       "    }\n",
       "</style>\n",
       "<table border=\"1\" class=\"dataframe\">\n",
       "  <thead>\n",
       "    <tr style=\"text-align: right;\">\n",
       "      <th></th>\n",
       "      <th>0</th>\n",
       "      <th>1</th>\n",
       "      <th>2</th>\n",
       "      <th>3</th>\n",
       "      <th>4</th>\n",
       "      <th>5</th>\n",
       "      <th>6</th>\n",
       "    </tr>\n",
       "  </thead>\n",
       "  <tbody>\n",
       "    <tr>\n",
       "      <th>0</th>\n",
       "      <td>0</td>\n",
       "      <td>1467810369</td>\n",
       "      <td>Mon Apr 06 22:19:45 PDT 2009</td>\n",
       "      <td>NO_QUERY</td>\n",
       "      <td>_TheSpecialOne_</td>\n",
       "      <td>@switchfoot http://twitpic.com/2y1zl - Awww, t...</td>\n",
       "      <td>http://twitpic com/2y1zl - awww  bummer   shou...</td>\n",
       "    </tr>\n",
       "    <tr>\n",
       "      <th>1</th>\n",
       "      <td>0</td>\n",
       "      <td>1467810672</td>\n",
       "      <td>Mon Apr 06 22:19:49 PDT 2009</td>\n",
       "      <td>NO_QUERY</td>\n",
       "      <td>scotthamilton</td>\n",
       "      <td>is upset that he can't update his Facebook by ...</td>\n",
       "      <td>upset updat hi facebook text    might cri resu...</td>\n",
       "    </tr>\n",
       "    <tr>\n",
       "      <th>2</th>\n",
       "      <td>0</td>\n",
       "      <td>1467810917</td>\n",
       "      <td>Mon Apr 06 22:19:53 PDT 2009</td>\n",
       "      <td>NO_QUERY</td>\n",
       "      <td>mattycus</td>\n",
       "      <td>@Kenichan I dived many times for the ball. Man...</td>\n",
       "      <td>dive mani time ball  manag save 50%  rest go b...</td>\n",
       "    </tr>\n",
       "    <tr>\n",
       "      <th>3</th>\n",
       "      <td>0</td>\n",
       "      <td>1467811184</td>\n",
       "      <td>Mon Apr 06 22:19:57 PDT 2009</td>\n",
       "      <td>NO_QUERY</td>\n",
       "      <td>ElleCTF</td>\n",
       "      <td>my whole body feels itchy and like its on fire</td>\n",
       "      <td>whole bodi feel itchi like fire</td>\n",
       "    </tr>\n",
       "    <tr>\n",
       "      <th>4</th>\n",
       "      <td>0</td>\n",
       "      <td>1467811193</td>\n",
       "      <td>Mon Apr 06 22:19:57 PDT 2009</td>\n",
       "      <td>NO_QUERY</td>\n",
       "      <td>Karoli</td>\n",
       "      <td>@nationwideclass no, it's not behaving at all....</td>\n",
       "      <td>behav  I mad  whi here? becaus see</td>\n",
       "    </tr>\n",
       "    <tr>\n",
       "      <th>...</th>\n",
       "      <td>...</td>\n",
       "      <td>...</td>\n",
       "      <td>...</td>\n",
       "      <td>...</td>\n",
       "      <td>...</td>\n",
       "      <td>...</td>\n",
       "      <td>...</td>\n",
       "    </tr>\n",
       "    <tr>\n",
       "      <th>1599995</th>\n",
       "      <td>4</td>\n",
       "      <td>2193601966</td>\n",
       "      <td>Tue Jun 16 08:40:49 PDT 2009</td>\n",
       "      <td>NO_QUERY</td>\n",
       "      <td>AmandaMarie1028</td>\n",
       "      <td>Just woke up. Having no school is the best fee...</td>\n",
       "      <td>woke  school best feel ever</td>\n",
       "    </tr>\n",
       "    <tr>\n",
       "      <th>1599996</th>\n",
       "      <td>4</td>\n",
       "      <td>2193601969</td>\n",
       "      <td>Tue Jun 16 08:40:49 PDT 2009</td>\n",
       "      <td>NO_QUERY</td>\n",
       "      <td>TheWDBoards</td>\n",
       "      <td>TheWDB.com - Very cool to hear old Walt interv...</td>\n",
       "      <td>thewdb com - veri cool hear old walt interview...</td>\n",
       "    </tr>\n",
       "    <tr>\n",
       "      <th>1599997</th>\n",
       "      <td>4</td>\n",
       "      <td>2193601991</td>\n",
       "      <td>Tue Jun 16 08:40:49 PDT 2009</td>\n",
       "      <td>NO_QUERY</td>\n",
       "      <td>bpbabe</td>\n",
       "      <td>Are you ready for your MoJo Makeover? Ask me f...</td>\n",
       "      <td>readi mojo makeover? ask detail</td>\n",
       "    </tr>\n",
       "    <tr>\n",
       "      <th>1599998</th>\n",
       "      <td>4</td>\n",
       "      <td>2193602064</td>\n",
       "      <td>Tue Jun 16 08:40:49 PDT 2009</td>\n",
       "      <td>NO_QUERY</td>\n",
       "      <td>tinydiamondz</td>\n",
       "      <td>Happy 38th Birthday to my boo of alll time!!! ...</td>\n",
       "      <td>happi 38th birthday boo alll time    tupac ama...</td>\n",
       "    </tr>\n",
       "    <tr>\n",
       "      <th>1599999</th>\n",
       "      <td>4</td>\n",
       "      <td>2193602129</td>\n",
       "      <td>Tue Jun 16 08:40:50 PDT 2009</td>\n",
       "      <td>NO_QUERY</td>\n",
       "      <td>RyanTrevMorris</td>\n",
       "      <td>happy #charitytuesday @theNSPCC @SparksCharity...</td>\n",
       "      <td>happi #charitytuesday</td>\n",
       "    </tr>\n",
       "  </tbody>\n",
       "</table>\n",
       "<p>1600000 rows × 7 columns</p>\n",
       "</div>"
      ],
      "text/plain": [
       "         0           1                             2         3  \\\n",
       "0        0  1467810369  Mon Apr 06 22:19:45 PDT 2009  NO_QUERY   \n",
       "1        0  1467810672  Mon Apr 06 22:19:49 PDT 2009  NO_QUERY   \n",
       "2        0  1467810917  Mon Apr 06 22:19:53 PDT 2009  NO_QUERY   \n",
       "3        0  1467811184  Mon Apr 06 22:19:57 PDT 2009  NO_QUERY   \n",
       "4        0  1467811193  Mon Apr 06 22:19:57 PDT 2009  NO_QUERY   \n",
       "...     ..         ...                           ...       ...   \n",
       "1599995  4  2193601966  Tue Jun 16 08:40:49 PDT 2009  NO_QUERY   \n",
       "1599996  4  2193601969  Tue Jun 16 08:40:49 PDT 2009  NO_QUERY   \n",
       "1599997  4  2193601991  Tue Jun 16 08:40:49 PDT 2009  NO_QUERY   \n",
       "1599998  4  2193602064  Tue Jun 16 08:40:49 PDT 2009  NO_QUERY   \n",
       "1599999  4  2193602129  Tue Jun 16 08:40:50 PDT 2009  NO_QUERY   \n",
       "\n",
       "                       4                                                  5  \\\n",
       "0        _TheSpecialOne_  @switchfoot http://twitpic.com/2y1zl - Awww, t...   \n",
       "1          scotthamilton  is upset that he can't update his Facebook by ...   \n",
       "2               mattycus  @Kenichan I dived many times for the ball. Man...   \n",
       "3                ElleCTF    my whole body feels itchy and like its on fire    \n",
       "4                 Karoli  @nationwideclass no, it's not behaving at all....   \n",
       "...                  ...                                                ...   \n",
       "1599995  AmandaMarie1028  Just woke up. Having no school is the best fee...   \n",
       "1599996      TheWDBoards  TheWDB.com - Very cool to hear old Walt interv...   \n",
       "1599997           bpbabe  Are you ready for your MoJo Makeover? Ask me f...   \n",
       "1599998     tinydiamondz  Happy 38th Birthday to my boo of alll time!!! ...   \n",
       "1599999   RyanTrevMorris  happy #charitytuesday @theNSPCC @SparksCharity...   \n",
       "\n",
       "                                                         6  \n",
       "0        http://twitpic com/2y1zl - awww  bummer   shou...  \n",
       "1        upset updat hi facebook text    might cri resu...  \n",
       "2        dive mani time ball  manag save 50%  rest go b...  \n",
       "3                         whole bodi feel itchi like fire   \n",
       "4                     behav  I mad  whi here? becaus see    \n",
       "...                                                    ...  \n",
       "1599995                       woke  school best feel ever   \n",
       "1599996  thewdb com - veri cool hear old walt interview...  \n",
       "1599997                   readi mojo makeover? ask detail   \n",
       "1599998  happi 38th birthday boo alll time    tupac ama...  \n",
       "1599999                             happi #charitytuesday   \n",
       "\n",
       "[1600000 rows x 7 columns]"
      ]
     },
     "execution_count": 116,
     "metadata": {},
     "output_type": "execute_result"
    }
   ],
   "source": [
    "train"
   ]
  },
  {
   "cell_type": "code",
   "execution_count": 117,
   "metadata": {},
   "outputs": [
    {
     "name": "stdout",
     "output_type": "stream",
     "text": [
      "13.121570348739624\n"
     ]
    }
   ],
   "source": [
    "st=time()\n",
    "X = tfidf.fit_transform(train[6])\n",
    "print(time()-st)"
   ]
  },
  {
   "cell_type": "code",
   "execution_count": 119,
   "metadata": {},
   "outputs": [
    {
     "data": {
      "text/plain": [
       "(1600000, 1328)"
      ]
     },
     "execution_count": 119,
     "metadata": {},
     "output_type": "execute_result"
    }
   ],
   "source": [
    "X.shape"
   ]
  },
  {
   "cell_type": "code",
   "execution_count": 203,
   "metadata": {},
   "outputs": [],
   "source": [
    "def tfidfVectorizer(clf,X,data):\n",
    "    for i in tqdm(range(0,data.shape[0]//1000)):\n",
    "        clf.partial_fit(X[1000*i:1000*(i+1)].todense(),data[0][1000*i:1000*(i+1)],classes=np.array([0,4]))\n",
    "    return clf\n",
    "\n",
    "def tfidfMultiVectorizer(multi,X,data):\n",
    "    for i in tqdm(range(0,data.shape[0]//1000)):\n",
    "        multi.partial_fit(X[1000*i:1000*(i+1)].todense(),data[0][1000*i:1000*(i+1)],classes=np.array([0,4]))\n",
    "    return multi"
   ]
  },
  {
   "cell_type": "code",
   "execution_count": 204,
   "metadata": {},
   "outputs": [
    {
     "name": "stderr",
     "output_type": "stream",
     "text": [
      "100%|██████████| 1600/1600 [00:21<00:00, 73.69it/s]\n"
     ]
    }
   ],
   "source": [
    "clf = tfidfVectorizer(clf,X,train) "
   ]
  },
  {
   "cell_type": "code",
   "execution_count": 205,
   "metadata": {},
   "outputs": [],
   "source": [
    "# multi = tfidfMultiVectorizer(multi,train)\n",
    "# filename = 'tfidfClf.sav'\n",
    "# pickle.dump(clf, open(filename, 'wb'))\n",
    "loaded_model = pickle.load(open(\"tfidfClf.sav\", 'rb'))"
   ]
  },
  {
   "cell_type": "code",
   "execution_count": 206,
   "metadata": {},
   "outputs": [
    {
     "data": {
      "text/plain": [
       "MultinomialNB(alpha=1.0, class_prior=None, fit_prior=True)"
      ]
     },
     "execution_count": 206,
     "metadata": {},
     "output_type": "execute_result"
    }
   ],
   "source": [
    "demo = MultinomialNB()\n",
    "demo.fit(X,train[0])"
   ]
  },
  {
   "cell_type": "code",
   "execution_count": 207,
   "metadata": {},
   "outputs": [
    {
     "name": "stdout",
     "output_type": "stream",
     "text": [
      "0.006566047668457031\n"
     ]
    }
   ],
   "source": [
    "st=time()\n",
    "Y = tfidf.transform(test[6])\n",
    "testDense = Y.todense()\n",
    "print(time()-st)"
   ]
  },
  {
   "cell_type": "code",
   "execution_count": 208,
   "metadata": {},
   "outputs": [
    {
     "data": {
      "text/plain": [
       "(359, 1388)"
      ]
     },
     "execution_count": 208,
     "metadata": {},
     "output_type": "execute_result"
    }
   ],
   "source": [
    "testDense.shape"
   ]
  },
  {
   "cell_type": "code",
   "execution_count": 209,
   "metadata": {},
   "outputs": [],
   "source": [
    "predictionTestTfidf = clf.predict(testDense)"
   ]
  },
  {
   "cell_type": "code",
   "execution_count": 210,
   "metadata": {},
   "outputs": [
    {
     "name": "stdout",
     "output_type": "stream",
     "text": [
      "0.7743732590529248\n"
     ]
    }
   ],
   "source": [
    "check = (test[0]==predictionTestTfidf)\n",
    "t=0\n",
    "f=0\n",
    "for i in check:\n",
    "    if i:\n",
    "        t=t+1\n",
    "    else:\n",
    "        f=f+1\n",
    "print(t/(t+f))"
   ]
  },
  {
   "cell_type": "code",
   "execution_count": 164,
   "metadata": {},
   "outputs": [
    {
     "name": "stdout",
     "output_type": "stream",
     "text": [
      "0.7827298050139275\n"
     ]
    }
   ],
   "source": [
    "predMulti = demo.predict(Y)\n",
    "check = (test[0]==predMulti)\n",
    "t=0\n",
    "f=0\n",
    "for i in check:\n",
    "    if i:\n",
    "        t=t+1\n",
    "    else:\n",
    "        f=f+1\n",
    "print(t/(t+f))"
   ]
  },
  {
   "cell_type": "code",
   "execution_count": 165,
   "metadata": {},
   "outputs": [],
   "source": [
    "Y = train[0]\n",
    "percentile = SelectPercentile(chi2, percentile=10)\n",
    "selectedData = percentile.fit_transform(X,Y)"
   ]
  },
  {
   "cell_type": "code",
   "execution_count": 166,
   "metadata": {},
   "outputs": [
    {
     "name": "stderr",
     "output_type": "stream",
     "text": [
      "  1%|▏         | 21/1600 [00:06<08:26,  3.12it/s]\n"
     ]
    },
    {
     "ename": "KeyboardInterrupt",
     "evalue": "",
     "output_type": "error",
     "traceback": [
      "\u001b[0;31m---------------------------------------------------------------------------\u001b[0m",
      "\u001b[0;31mKeyboardInterrupt\u001b[0m                         Traceback (most recent call last)",
      "\u001b[0;32m<ipython-input-166-4ac836f83aae>\u001b[0m in \u001b[0;36m<module>\u001b[0;34m\u001b[0m\n\u001b[1;32m      1\u001b[0m \u001b[0mclf2\u001b[0m \u001b[0;34m=\u001b[0m \u001b[0mGaussianNB\u001b[0m\u001b[0;34m(\u001b[0m\u001b[0;34m)\u001b[0m\u001b[0;34m\u001b[0m\u001b[0;34m\u001b[0m\u001b[0m\n\u001b[0;32m----> 2\u001b[0;31m \u001b[0mper10\u001b[0m \u001b[0;34m=\u001b[0m \u001b[0mtfidfVectorizer\u001b[0m\u001b[0;34m(\u001b[0m\u001b[0mclf2\u001b[0m\u001b[0;34m,\u001b[0m\u001b[0mselectedData\u001b[0m\u001b[0;34m,\u001b[0m\u001b[0mtrain\u001b[0m\u001b[0;34m)\u001b[0m\u001b[0;34m\u001b[0m\u001b[0;34m\u001b[0m\u001b[0m\n\u001b[0m",
      "\u001b[0;32m<ipython-input-145-1937891daba3>\u001b[0m in \u001b[0;36mtfidfVectorizer\u001b[0;34m(clf, X, data)\u001b[0m\n\u001b[1;32m      1\u001b[0m \u001b[0;32mdef\u001b[0m \u001b[0mtfidfVectorizer\u001b[0m\u001b[0;34m(\u001b[0m\u001b[0mclf\u001b[0m\u001b[0;34m,\u001b[0m\u001b[0mX\u001b[0m\u001b[0;34m,\u001b[0m\u001b[0mdata\u001b[0m\u001b[0;34m)\u001b[0m\u001b[0;34m:\u001b[0m\u001b[0;34m\u001b[0m\u001b[0;34m\u001b[0m\u001b[0m\n\u001b[1;32m      2\u001b[0m     \u001b[0;32mfor\u001b[0m \u001b[0mi\u001b[0m \u001b[0;32min\u001b[0m \u001b[0mtqdm\u001b[0m\u001b[0;34m(\u001b[0m\u001b[0mrange\u001b[0m\u001b[0;34m(\u001b[0m\u001b[0;36m0\u001b[0m\u001b[0;34m,\u001b[0m\u001b[0mdata\u001b[0m\u001b[0;34m.\u001b[0m\u001b[0mshape\u001b[0m\u001b[0;34m[\u001b[0m\u001b[0;36m0\u001b[0m\u001b[0;34m]\u001b[0m\u001b[0;34m//\u001b[0m\u001b[0;36m1000\u001b[0m\u001b[0;34m)\u001b[0m\u001b[0;34m)\u001b[0m\u001b[0;34m:\u001b[0m\u001b[0;34m\u001b[0m\u001b[0;34m\u001b[0m\u001b[0m\n\u001b[0;32m----> 3\u001b[0;31m         \u001b[0mclf\u001b[0m\u001b[0;34m.\u001b[0m\u001b[0mpartial_fit\u001b[0m\u001b[0;34m(\u001b[0m\u001b[0mX\u001b[0m\u001b[0;34m[\u001b[0m\u001b[0;36m1000\u001b[0m\u001b[0;34m*\u001b[0m\u001b[0mi\u001b[0m\u001b[0;34m:\u001b[0m\u001b[0;36m1000\u001b[0m\u001b[0;34m*\u001b[0m\u001b[0;34m(\u001b[0m\u001b[0mi\u001b[0m\u001b[0;34m+\u001b[0m\u001b[0;36m1\u001b[0m\u001b[0;34m)\u001b[0m\u001b[0;34m]\u001b[0m\u001b[0;34m.\u001b[0m\u001b[0mtodense\u001b[0m\u001b[0;34m(\u001b[0m\u001b[0;34m)\u001b[0m\u001b[0;34m,\u001b[0m\u001b[0mdata\u001b[0m\u001b[0;34m[\u001b[0m\u001b[0;36m0\u001b[0m\u001b[0;34m]\u001b[0m\u001b[0;34m[\u001b[0m\u001b[0;36m1000\u001b[0m\u001b[0;34m*\u001b[0m\u001b[0mi\u001b[0m\u001b[0;34m:\u001b[0m\u001b[0;36m1000\u001b[0m\u001b[0;34m*\u001b[0m\u001b[0;34m(\u001b[0m\u001b[0mi\u001b[0m\u001b[0;34m+\u001b[0m\u001b[0;36m1\u001b[0m\u001b[0;34m)\u001b[0m\u001b[0;34m]\u001b[0m\u001b[0;34m,\u001b[0m\u001b[0mclasses\u001b[0m\u001b[0;34m=\u001b[0m\u001b[0mnp\u001b[0m\u001b[0;34m.\u001b[0m\u001b[0marray\u001b[0m\u001b[0;34m(\u001b[0m\u001b[0;34m[\u001b[0m\u001b[0;36m0\u001b[0m\u001b[0;34m,\u001b[0m\u001b[0;36m4\u001b[0m\u001b[0;34m]\u001b[0m\u001b[0;34m)\u001b[0m\u001b[0;34m)\u001b[0m\u001b[0;34m\u001b[0m\u001b[0;34m\u001b[0m\u001b[0m\n\u001b[0m\u001b[1;32m      4\u001b[0m     \u001b[0;32mreturn\u001b[0m \u001b[0mclf\u001b[0m\u001b[0;34m\u001b[0m\u001b[0;34m\u001b[0m\u001b[0m\n\u001b[1;32m      5\u001b[0m \u001b[0;34m\u001b[0m\u001b[0m\n",
      "\u001b[0;32m~/anaconda3/lib/python3.7/site-packages/sklearn/naive_bayes.py\u001b[0m in \u001b[0;36mpartial_fit\u001b[0;34m(self, X, y, classes, sample_weight)\u001b[0m\n\u001b[1;32m    326\u001b[0m         \"\"\"\n\u001b[1;32m    327\u001b[0m         return self._partial_fit(X, y, classes, _refit=False,\n\u001b[0;32m--> 328\u001b[0;31m                                  sample_weight=sample_weight)\n\u001b[0m\u001b[1;32m    329\u001b[0m \u001b[0;34m\u001b[0m\u001b[0m\n\u001b[1;32m    330\u001b[0m     def _partial_fit(self, X, y, classes=None, _refit=False,\n",
      "\u001b[0;32m~/anaconda3/lib/python3.7/site-packages/sklearn/naive_bayes.py\u001b[0m in \u001b[0;36m_partial_fit\u001b[0;34m(self, X, y, classes, _refit, sample_weight)\u001b[0m\n\u001b[1;32m    366\u001b[0m         \u001b[0;31m# boost the variance by epsilon, a small fraction of the standard\u001b[0m\u001b[0;34m\u001b[0m\u001b[0;34m\u001b[0m\u001b[0;34m\u001b[0m\u001b[0m\n\u001b[1;32m    367\u001b[0m         \u001b[0;31m# deviation of the largest dimension.\u001b[0m\u001b[0;34m\u001b[0m\u001b[0;34m\u001b[0m\u001b[0;34m\u001b[0m\u001b[0m\n\u001b[0;32m--> 368\u001b[0;31m         \u001b[0mself\u001b[0m\u001b[0;34m.\u001b[0m\u001b[0mepsilon_\u001b[0m \u001b[0;34m=\u001b[0m \u001b[0mself\u001b[0m\u001b[0;34m.\u001b[0m\u001b[0mvar_smoothing\u001b[0m \u001b[0;34m*\u001b[0m \u001b[0mnp\u001b[0m\u001b[0;34m.\u001b[0m\u001b[0mvar\u001b[0m\u001b[0;34m(\u001b[0m\u001b[0mX\u001b[0m\u001b[0;34m,\u001b[0m \u001b[0maxis\u001b[0m\u001b[0;34m=\u001b[0m\u001b[0;36m0\u001b[0m\u001b[0;34m)\u001b[0m\u001b[0;34m.\u001b[0m\u001b[0mmax\u001b[0m\u001b[0;34m(\u001b[0m\u001b[0;34m)\u001b[0m\u001b[0;34m\u001b[0m\u001b[0;34m\u001b[0m\u001b[0m\n\u001b[0m\u001b[1;32m    369\u001b[0m \u001b[0;34m\u001b[0m\u001b[0m\n\u001b[1;32m    370\u001b[0m         \u001b[0;32mif\u001b[0m \u001b[0m_refit\u001b[0m\u001b[0;34m:\u001b[0m\u001b[0;34m\u001b[0m\u001b[0;34m\u001b[0m\u001b[0m\n",
      "\u001b[0;32m<__array_function__ internals>\u001b[0m in \u001b[0;36mvar\u001b[0;34m(*args, **kwargs)\u001b[0m\n",
      "\u001b[0;32m~/anaconda3/lib/python3.7/site-packages/numpy/core/fromnumeric.py\u001b[0m in \u001b[0;36mvar\u001b[0;34m(a, axis, dtype, out, ddof, keepdims)\u001b[0m\n\u001b[1;32m   3582\u001b[0m \u001b[0;34m\u001b[0m\u001b[0m\n\u001b[1;32m   3583\u001b[0m     return _methods._var(a, axis=axis, dtype=dtype, out=out, ddof=ddof,\n\u001b[0;32m-> 3584\u001b[0;31m                          **kwargs)\n\u001b[0m\u001b[1;32m   3585\u001b[0m \u001b[0;34m\u001b[0m\u001b[0m\n\u001b[1;32m   3586\u001b[0m \u001b[0;34m\u001b[0m\u001b[0m\n",
      "\u001b[0;32m~/anaconda3/lib/python3.7/site-packages/numpy/core/_methods.py\u001b[0m in \u001b[0;36m_var\u001b[0;34m(a, axis, dtype, out, ddof, keepdims)\u001b[0m\n\u001b[1;32m    197\u001b[0m         \u001b[0mx\u001b[0m \u001b[0;34m=\u001b[0m \u001b[0mum\u001b[0m\u001b[0;34m.\u001b[0m\u001b[0mmultiply\u001b[0m\u001b[0;34m(\u001b[0m\u001b[0mx\u001b[0m\u001b[0;34m,\u001b[0m \u001b[0mum\u001b[0m\u001b[0;34m.\u001b[0m\u001b[0mconjugate\u001b[0m\u001b[0;34m(\u001b[0m\u001b[0mx\u001b[0m\u001b[0;34m)\u001b[0m\u001b[0;34m,\u001b[0m \u001b[0mout\u001b[0m\u001b[0;34m=\u001b[0m\u001b[0mx\u001b[0m\u001b[0;34m)\u001b[0m\u001b[0;34m.\u001b[0m\u001b[0mreal\u001b[0m\u001b[0;34m\u001b[0m\u001b[0;34m\u001b[0m\u001b[0m\n\u001b[1;32m    198\u001b[0m \u001b[0;34m\u001b[0m\u001b[0m\n\u001b[0;32m--> 199\u001b[0;31m     \u001b[0mret\u001b[0m \u001b[0;34m=\u001b[0m \u001b[0mumr_sum\u001b[0m\u001b[0;34m(\u001b[0m\u001b[0mx\u001b[0m\u001b[0;34m,\u001b[0m \u001b[0maxis\u001b[0m\u001b[0;34m,\u001b[0m \u001b[0mdtype\u001b[0m\u001b[0;34m,\u001b[0m \u001b[0mout\u001b[0m\u001b[0;34m,\u001b[0m \u001b[0mkeepdims\u001b[0m\u001b[0;34m)\u001b[0m\u001b[0;34m\u001b[0m\u001b[0;34m\u001b[0m\u001b[0m\n\u001b[0m\u001b[1;32m    200\u001b[0m \u001b[0;34m\u001b[0m\u001b[0m\n\u001b[1;32m    201\u001b[0m     \u001b[0;31m# Compute degrees of freedom and make sure it is not negative.\u001b[0m\u001b[0;34m\u001b[0m\u001b[0;34m\u001b[0m\u001b[0;34m\u001b[0m\u001b[0m\n",
      "\u001b[0;31mKeyboardInterrupt\u001b[0m: "
     ]
    }
   ],
   "source": [
    "clf2 = GaussianNB()\n",
    "per10 = tfidfVectorizer(clf2,selectedData,train)"
   ]
  },
  {
   "cell_type": "code",
   "execution_count": 73,
   "metadata": {},
   "outputs": [
    {
     "name": "stdout",
     "output_type": "stream",
     "text": [
      "0.17064595222473145\n"
     ]
    }
   ],
   "source": [
    "st=time()\n",
    "Y = tfidf.transform(test[6])\n",
    "testDense = Y.todense()\n",
    "testDense10per = percentile.transform(testDense)\n",
    "print(time()-st)"
   ]
  },
  {
   "cell_type": "code",
   "execution_count": 74,
   "metadata": {},
   "outputs": [],
   "source": [
    "prediction10per = clf2.predict(testDense10per)"
   ]
  },
  {
   "cell_type": "code",
   "execution_count": 75,
   "metadata": {},
   "outputs": [
    {
     "name": "stdout",
     "output_type": "stream",
     "text": [
      "0.5431754874651811\n"
     ]
    }
   ],
   "source": [
    "check = (test[0]==prediction10per)\n",
    "t=0\n",
    "f=0\n",
    "for i in check:\n",
    "    if i:\n",
    "        t=t+1\n",
    "    else:\n",
    "        f=f+1\n",
    "print(t/(t+f))"
   ]
  },
  {
   "cell_type": "markdown",
   "metadata": {},
   "source": [
    "# G"
   ]
  },
  {
   "cell_type": "code",
   "execution_count": 123,
   "metadata": {},
   "outputs": [],
   "source": [
    "def rocCurve(data,prob0,prob4):\n",
    "    y = label_binarize(data[0],classes=[0,4])\n",
    "    fpr = dict()\n",
    "    tpr = dict()\n",
    "    roc_auc = dict()\n",
    "    fpr[0], tpr[0], _ = roc_curve(y,prob0)\n",
    "    roc_auc[0] = auc(fpr[0], tpr[0])\n",
    "    fpr[1], tpr[1], _ = roc_curve(y,prob4)\n",
    "    roc_auc[1] = auc(fpr[1], tpr[1])\n",
    "\n",
    "    plt.figure()\n",
    "    lw = 2\n",
    "    plt.plot(fpr[0], tpr[0], color='darkorange',lw=lw, label='ROC curve for Class 0(area = %0.2f)' % roc_auc[0])\n",
    "    plt.plot(fpr[1], tpr[1], color='cyan',lw=lw, label='ROC curve for Class 1(area = %0.2f)' % roc_auc[1])\n",
    "    plt.plot([0, 1], [0, 1], color='navy', lw=lw, linestyle='--')\n",
    "    plt.xlim([0.0, 1.0])\n",
    "    plt.ylim([0.0, 1.05])\n",
    "    plt.xlabel('False Positive Rate')\n",
    "    plt.ylabel('True Positive Rate')\n",
    "    plt.title('Receiver operating characteristic')\n",
    "    plt.legend(loc=\"lower right\")\n",
    "    plt.show()"
   ]
  },
  {
   "cell_type": "code",
   "execution_count": 125,
   "metadata": {},
   "outputs": [
    {
     "data": {
      "image/png": "[encoded data removed]",
      "text/plain": [
       "<Figure size 432x288 with 1 Axes>"
      ]
     },
     "metadata": {},
     "output_type": "display_data"
    }
   ],
   "source": [
    "# probGaussian = loaded_model.predict_log_proba(testDense)\n",
    "# probMulti = demo.predict_log_proba(Y)\n",
    "# rocCurve(test,probGaussian[:,0],probGaussian[:,1])\n",
    "rocCurve(test,CpredTest0,CpredTest4)"
   ]
  }
 ],
 "metadata": {
  "kernelspec": {
   "display_name": "Python 3",
   "language": "python",
   "name": "python3"
  },
  "language_info": {
   "codemirror_mode": {
    "name": "ipython",
    "version": 3
   },
   "file_extension": ".py",
   "mimetype": "text/x-python",
   "name": "python",
   "nbconvert_exporter": "python",
   "pygments_lexer": "ipython3",
   "version": "3.7.4"
  }
 },
 "nbformat": 4,
 "nbformat_minor": 2
}
