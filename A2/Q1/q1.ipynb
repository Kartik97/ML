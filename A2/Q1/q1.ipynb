{
 "cells": [
  {
   "cell_type": "code",
   "execution_count": 1,
   "metadata": {},
   "outputs": [],
   "source": [
    "import numpy as np\n",
    "import pandas as pd\n",
    "import matplotlib.pyplot as plt\n",
    "from time import time\n",
    "from tqdm import tqdm\n",
    "import math\n",
    "import random\n",
    "from nltk.tokenize import TweetTokenizer,RegexpTokenizer,word_tokenize\n",
    "from nltk.stem.snowball import SnowballStemmer\n",
    "from nltk.stem import PorterStemmer\n",
    "from nltk.corpus import stopwords\n",
    "from string import punctuation\n",
    "import re\n",
    "import seaborn as sns\n",
    "from sklearn.feature_selection import SelectPercentile, chi2\n",
    "from sklearn.naive_bayes import GaussianNB,MultinomialNB\n",
    "from sklearn.feature_extraction.text import TfidfVectorizer\n",
    "from sklearn.metrics import roc_curve, auc,roc_auc_score\n",
    "from sklearn.preprocessing import label_binarize\n",
    "from sklearn.metrics import plot_confusion_matrix\n",
    "import pickle\n",
    "import emot\n",
    "import contractions"
   ]
  },
  {
   "cell_type": "code",
   "execution_count": 2,
   "metadata": {},
   "outputs": [],
   "source": [
    "def init():\n",
    "    train = pd.read_csv(\"data/train.csv\",encoding=\"iso-8859-1\",header=None)\n",
    "    test = pd.read_csv(\"data/test.csv\",encoding=\"iso-8859-1\",header=None)\n",
    "    return train,test"
   ]
  },
  {
   "cell_type": "code",
   "execution_count": 3,
   "metadata": {},
   "outputs": [],
   "source": [
    "train,test = init()"
   ]
  },
  {
   "cell_type": "markdown",
   "metadata": {},
   "source": [
    "# A"
   ]
  },
  {
   "cell_type": "code",
   "execution_count": 4,
   "metadata": {},
   "outputs": [
    {
     "data": {
      "text/html": [
       "<div>\n",
       "<style scoped>\n",
       "    .dataframe tbody tr th:only-of-type {\n",
       "        vertical-align: middle;\n",
       "    }\n",
       "\n",
       "    .dataframe tbody tr th {\n",
       "        vertical-align: top;\n",
       "    }\n",
       "\n",
       "    .dataframe thead th {\n",
       "        text-align: right;\n",
       "    }\n",
       "</style>\n",
       "<table border=\"1\" class=\"dataframe\">\n",
       "  <thead>\n",
       "    <tr style=\"text-align: right;\">\n",
       "      <th></th>\n",
       "      <th>0</th>\n",
       "      <th>1</th>\n",
       "      <th>2</th>\n",
       "      <th>3</th>\n",
       "      <th>4</th>\n",
       "      <th>5</th>\n",
       "    </tr>\n",
       "  </thead>\n",
       "  <tbody>\n",
       "    <tr>\n",
       "      <th>0</th>\n",
       "      <td>0</td>\n",
       "      <td>1467810369</td>\n",
       "      <td>Mon Apr 06 22:19:45 PDT 2009</td>\n",
       "      <td>NO_QUERY</td>\n",
       "      <td>_TheSpecialOne_</td>\n",
       "      <td>@switchfoot http://twitpic.com/2y1zl - Awww, t...</td>\n",
       "    </tr>\n",
       "    <tr>\n",
       "      <th>1</th>\n",
       "      <td>0</td>\n",
       "      <td>1467810672</td>\n",
       "      <td>Mon Apr 06 22:19:49 PDT 2009</td>\n",
       "      <td>NO_QUERY</td>\n",
       "      <td>scotthamilton</td>\n",
       "      <td>is upset that he can't update his Facebook by ...</td>\n",
       "    </tr>\n",
       "    <tr>\n",
       "      <th>2</th>\n",
       "      <td>0</td>\n",
       "      <td>1467810917</td>\n",
       "      <td>Mon Apr 06 22:19:53 PDT 2009</td>\n",
       "      <td>NO_QUERY</td>\n",
       "      <td>mattycus</td>\n",
       "      <td>@Kenichan I dived many times for the ball. Man...</td>\n",
       "    </tr>\n",
       "    <tr>\n",
       "      <th>3</th>\n",
       "      <td>0</td>\n",
       "      <td>1467811184</td>\n",
       "      <td>Mon Apr 06 22:19:57 PDT 2009</td>\n",
       "      <td>NO_QUERY</td>\n",
       "      <td>ElleCTF</td>\n",
       "      <td>my whole body feels itchy and like its on fire</td>\n",
       "    </tr>\n",
       "    <tr>\n",
       "      <th>4</th>\n",
       "      <td>0</td>\n",
       "      <td>1467811193</td>\n",
       "      <td>Mon Apr 06 22:19:57 PDT 2009</td>\n",
       "      <td>NO_QUERY</td>\n",
       "      <td>Karoli</td>\n",
       "      <td>@nationwideclass no, it's not behaving at all....</td>\n",
       "    </tr>\n",
       "  </tbody>\n",
       "</table>\n",
       "</div>"
      ],
      "text/plain": [
       "   0           1                             2         3                4  \\\n",
       "0  0  1467810369  Mon Apr 06 22:19:45 PDT 2009  NO_QUERY  _TheSpecialOne_   \n",
       "1  0  1467810672  Mon Apr 06 22:19:49 PDT 2009  NO_QUERY    scotthamilton   \n",
       "2  0  1467810917  Mon Apr 06 22:19:53 PDT 2009  NO_QUERY         mattycus   \n",
       "3  0  1467811184  Mon Apr 06 22:19:57 PDT 2009  NO_QUERY          ElleCTF   \n",
       "4  0  1467811193  Mon Apr 06 22:19:57 PDT 2009  NO_QUERY           Karoli   \n",
       "\n",
       "                                                   5  \n",
       "0  @switchfoot http://twitpic.com/2y1zl - Awww, t...  \n",
       "1  is upset that he can't update his Facebook by ...  \n",
       "2  @Kenichan I dived many times for the ball. Man...  \n",
       "3    my whole body feels itchy and like its on fire   \n",
       "4  @nationwideclass no, it's not behaving at all....  "
      ]
     },
     "execution_count": 4,
     "metadata": {},
     "output_type": "execute_result"
    }
   ],
   "source": [
    "train.head()"
   ]
  },
  {
   "cell_type": "code",
   "execution_count": 5,
   "metadata": {},
   "outputs": [
    {
     "data": {
      "text/plain": [
       "793506"
      ]
     },
     "execution_count": 5,
     "metadata": {},
     "output_type": "execute_result"
    }
   ],
   "source": [
    "train4 = train[train[0]==4]\n",
    "train0 = train[train[0]==0]\n",
    "len(train4[5].unique())"
   ]
  },
  {
   "cell_type": "code",
   "execution_count": 6,
   "metadata": {},
   "outputs": [],
   "source": [
    "# Pass data,column of text\n",
    "def getVocab(train,col):\n",
    "    vocab = {}\n",
    "    count=0\n",
    "#     data = []\n",
    "    data = train[col].unique()\n",
    "    for i in range(data.shape[0]):\n",
    "        x = []\n",
    "        words = data[i].replace(\".\",\" \").split(\" \")\n",
    "#         words = data[i].split(\" \")\n",
    "        if \" \" in words:\n",
    "            words.remove(\" \")\n",
    "        for j in words:\n",
    "            if(j not in vocab):\n",
    "                vocab[j]=count\n",
    "                count = count+1\n",
    "#             x.append(j)\n",
    "#                 x.append(vocab[j])\n",
    "#         data.append(x)\n",
    "#     train[1]=data\n",
    "    return vocab"
   ]
  },
  {
   "cell_type": "code",
   "execution_count": 7,
   "metadata": {},
   "outputs": [
    {
     "name": "stdout",
     "output_type": "stream",
     "text": [
      "6.269805431365967\n"
     ]
    }
   ],
   "source": [
    "st = time()\n",
    "vocab = getVocab(train,5)\n",
    "print(time()-st)"
   ]
  },
  {
   "cell_type": "code",
   "execution_count": 8,
   "metadata": {},
   "outputs": [
    {
     "data": {
      "text/plain": [
       "1133910"
      ]
     },
     "execution_count": 8,
     "metadata": {},
     "output_type": "execute_result"
    }
   ],
   "source": [
    "len(vocab)"
   ]
  },
  {
   "cell_type": "code",
   "execution_count": 9,
   "metadata": {},
   "outputs": [],
   "source": [
    "# 0 = Negative 4 = Positive 2 = Neutral\n",
    "\n",
    "# Pass the column of full data,column's number and vocabulary\n",
    "def findParamVocab(data,vocab,col):\n",
    "    v = vocab.fromkeys(vocab,1)\n",
    "    total = len(vocab)\n",
    "    data = data[col].unique()\n",
    "    for i in data:\n",
    "#         total=total+len(i.split(\" \"))\n",
    "        words = i.replace(\".\",\" \").split(\" \")\n",
    "#         words = i.split(\" \")\n",
    "        while \" \" in words:\n",
    "            words.remove(\" \")\n",
    "        while \"\" in words:\n",
    "            words.remove(\"\")\n",
    "        total = total+len(words)\n",
    "        for j in words:\n",
    "            v[j] = v[j]+1\n",
    "    for key in v:\n",
    "        v[key] = float(v[key]/total)\n",
    "    return v,total\n",
    "    \n",
    "def learnParam(train,vocab,col):\n",
    "    m=train.shape[0]\n",
    "    train4 = train[train[0]==4]\n",
    "    train0 = train[train[0]==0]\n",
    "    phi0 = (len(train0[col].unique()))/(m)\n",
    "    phi4 = (len(train4[col].unique()))/(m)\n",
    "#     phi0 = (train[train[0]==0].shape[0]+1)/(m+2)\n",
    "#     phi2 = (train[train[0]==2].shape[0]+1)/m\n",
    "#     phi4 = (train[train[0]==4].shape[0]+1)/(m+2)\n",
    "    param0,t0 = findParamVocab(train[train[0]==0],vocab,col)\n",
    "#     param2,t2 = findParamVocab(train[train[0]==2],vocab,col)\n",
    "    param4,t4 = findParamVocab(train[train[0]==4],vocab,col)\n",
    "#     return phi0,phi2,phi4,param0,param2,param4,t0,t2,t4\n",
    "    return phi0,phi4,param0,param4,t0,t4"
   ]
  },
  {
   "cell_type": "code",
   "execution_count": 10,
   "metadata": {},
   "outputs": [
    {
     "name": "stdout",
     "output_type": "stream",
     "text": [
      "10.702279567718506\n"
     ]
    }
   ],
   "source": [
    "st = time()\n",
    "phi0,phi4,theta0,theta4,t0,t4 = learnParam(train,vocab,5)\n",
    "print(time()-st)"
   ]
  },
  {
   "cell_type": "code",
   "execution_count": 11,
   "metadata": {},
   "outputs": [],
   "source": [
    "# Pass the column of text\n",
    "# def findClasses(data,phi0,phi1,phi2,theta0,theta2,theta4,t0,t2,t4):\n",
    "def findClasses(data,phi0,phi4,theta0,theta4,t0,t4):\n",
    "    pred = []\n",
    "    pred0 = []\n",
    "    pred4 = []\n",
    "    for i in data:\n",
    "        prob0 = 0\n",
    "        prob2 = 0\n",
    "        prob4 = 0\n",
    "        words = i.split(\" \")\n",
    "        if \" \" in words:\n",
    "            words.remove(\" \")\n",
    "        for j  in words:\n",
    "            try:\n",
    "                prob0 = prob0+(math.log(theta0[j]))\n",
    "            except:\n",
    "                prob0 = prob0+float(1/(t0+1))\n",
    "                \n",
    "#             if(j in theta2):\n",
    "#             try:\n",
    "#                 prob2 = prob2+(math.log(theta2[j]))\n",
    "#             except:\n",
    "#                 prob2 = prob2+float(1/(t2+1))\n",
    "                \n",
    "#             if(j in theta4):\n",
    "            try:\n",
    "                prob4 = prob4+(math.log(theta4[j]))\n",
    "            except:\n",
    "                prob4 = prob4+float(1/(t4+1))\n",
    "                \n",
    "        prob0 = prob0+(math.log(phi0))\n",
    "#         prob2 = prob2+(math.log(phi2))\n",
    "        prob4 = prob4+(math.log(phi4))\n",
    "        if(prob0>prob4):\n",
    "            pred.append(0)\n",
    "#         elif(prob2>prob0 and prob2>prob4):\n",
    "#             pred.append(2)\n",
    "        else:\n",
    "            pred.append(4)\n",
    "        pred0.append(prob0)\n",
    "        pred4.append(prob4)\n",
    "    return pred,pred0,pred4"
   ]
  },
  {
   "cell_type": "code",
   "execution_count": 12,
   "metadata": {},
   "outputs": [
    {
     "name": "stdout",
     "output_type": "stream",
     "text": [
      "21.775668144226074\n"
     ]
    }
   ],
   "source": [
    "st = time()\n",
    "# predictionTrain = findClasses(train[5],phi0,phi2,phi4,theta0,theta2,theta4,t0,t2,t4)\n",
    "predictionTrain,pred0,pred4 = findClasses(train[5],phi0,phi4,theta0,theta4,t0,t4)\n",
    "print(time()-st)"
   ]
  },
  {
   "cell_type": "code",
   "execution_count": 13,
   "metadata": {},
   "outputs": [],
   "source": [
    "check = (train[0]==predictionTrain)"
   ]
  },
  {
   "cell_type": "code",
   "execution_count": 14,
   "metadata": {},
   "outputs": [
    {
     "name": "stdout",
     "output_type": "stream",
     "text": [
      "0.845434375\n"
     ]
    }
   ],
   "source": [
    "t=0\n",
    "f=0\n",
    "for i in check:\n",
    "    if i:\n",
    "        t=t+1\n",
    "    else:\n",
    "        f=f+1\n",
    "print(t/(t+f))"
   ]
  },
  {
   "cell_type": "code",
   "execution_count": 15,
   "metadata": {},
   "outputs": [
    {
     "name": "stdout",
     "output_type": "stream",
     "text": [
      "0.010959863662719727\n"
     ]
    }
   ],
   "source": [
    "st = time()\n",
    "test = test[test[0]==0].append(test[test[0]==4])\n",
    "predictionTest,predTest0,predTest4 = findClasses(test[5],phi0,phi4,theta0,theta4,t0,t4)\n",
    "print(time()-st)"
   ]
  },
  {
   "cell_type": "code",
   "execution_count": 16,
   "metadata": {},
   "outputs": [
    {
     "name": "stdout",
     "output_type": "stream",
     "text": [
      "0.8050139275766016\n"
     ]
    }
   ],
   "source": [
    "check = (test[0]==predictionTest)\n",
    "t=0\n",
    "f=0\n",
    "for i in check:\n",
    "    if i:\n",
    "        t=t+1\n",
    "    else:\n",
    "        f=f+1\n",
    "print(t/(t+f))"
   ]
  },
  {
   "cell_type": "markdown",
   "metadata": {},
   "source": [
    "# B"
   ]
  },
  {
   "cell_type": "code",
   "execution_count": 17,
   "metadata": {},
   "outputs": [],
   "source": [
    "def randomGuess(data):\n",
    "    choices=[0,4]\n",
    "    pred=[]\n",
    "    for i in data:\n",
    "        pred.append(random.choice(choices))\n",
    "    return pred"
   ]
  },
  {
   "cell_type": "code",
   "execution_count": 18,
   "metadata": {},
   "outputs": [
    {
     "name": "stdout",
     "output_type": "stream",
     "text": [
      "0.00041103363037109375\n"
     ]
    }
   ],
   "source": [
    "st = time()\n",
    "predictionRandom = randomGuess(test[5])\n",
    "print(time()-st)"
   ]
  },
  {
   "cell_type": "code",
   "execution_count": 19,
   "metadata": {},
   "outputs": [
    {
     "name": "stdout",
     "output_type": "stream",
     "text": [
      "0.4401114206128134\n"
     ]
    }
   ],
   "source": [
    "check = (test[0]==predictionRandom)\n",
    "t=0\n",
    "f=0\n",
    "for i in check:\n",
    "    if i:\n",
    "        t=t+1\n",
    "    else:\n",
    "        f=f+1\n",
    "print(t/(t+f))"
   ]
  },
  {
   "cell_type": "code",
   "execution_count": 20,
   "metadata": {},
   "outputs": [],
   "source": [
    "def majorityGuess(train,test):\n",
    "    c0 = train[train[0]==0][5].unique().shape[0]\n",
    "#     c2 = train[train[0]==2].shape[0]\n",
    "    c4 = train[train[0]==4][5].unique().shape[0]\n",
    "    m=0\n",
    "    if(c0>c4):\n",
    "        m=0\n",
    "#     elif(c2>c0 and c2>c4):\n",
    "#         m=2\n",
    "    else:\n",
    "        m=4\n",
    "        \n",
    "    pred=[]\n",
    "    for i in test[5]:\n",
    "        pred.append(m)\n",
    "    return pred"
   ]
  },
  {
   "cell_type": "code",
   "execution_count": 21,
   "metadata": {},
   "outputs": [
    {
     "name": "stdout",
     "output_type": "stream",
     "text": [
      "0.6800661087036133\n"
     ]
    }
   ],
   "source": [
    "st = time()\n",
    "predictionMajority = majorityGuess(train,test)\n",
    "print(time()-st)"
   ]
  },
  {
   "cell_type": "code",
   "execution_count": 22,
   "metadata": {},
   "outputs": [
    {
     "name": "stdout",
     "output_type": "stream",
     "text": [
      "0.5069637883008357\n"
     ]
    }
   ],
   "source": [
    "check = (test[0]==predictionMajority)\n",
    "t=0\n",
    "f=0\n",
    "for i in check:\n",
    "    if i:\n",
    "        t=t+1\n",
    "    else:\n",
    "        f=f+1\n",
    "print(t/(t+f))"
   ]
  },
  {
   "cell_type": "markdown",
   "metadata": {},
   "source": [
    "# C"
   ]
  },
  {
   "cell_type": "code",
   "execution_count": 23,
   "metadata": {},
   "outputs": [],
   "source": [
    "def confusionMatrix(test,prediction):\n",
    "    mat = np.zeros((2,2))\n",
    "    index=0\n",
    "    for i in test[0]:\n",
    "        mat[int(i/4)][int(prediction[index]/4)] = mat[int(i/4)][int(prediction[index]/4)]+1\n",
    "        index=index+1\n",
    "    return mat"
   ]
  },
  {
   "cell_type": "code",
   "execution_count": 24,
   "metadata": {},
   "outputs": [
    {
     "data": {
      "text/plain": [
       "array([[144.,  33.],\n",
       "       [ 37., 145.]])"
      ]
     },
     "execution_count": 24,
     "metadata": {},
     "output_type": "execute_result"
    }
   ],
   "source": [
    "matrix = confusionMatrix(test,predictionTest)\n",
    "matrix"
   ]
  },
  {
   "cell_type": "code",
   "execution_count": 43,
   "metadata": {},
   "outputs": [
    {
     "data": {
      "image/png": "[encoded data removed]",
      "text/plain": [
       "<Figure size 504x360 with 2 Axes>"
      ]
     },
     "metadata": {},
     "output_type": "display_data"
    }
   ],
   "source": [
    "def drawMatrix(matrix):\n",
    "    df_cm = pd.DataFrame(matrix.astype(int), index = [i for i in \"04\"],\n",
    "                      columns = [i for i in \"04\"])\n",
    "    plt.figure(figsize = (7,5))\n",
    "    sns.set(font_scale=1.4)\n",
    "    sns.heatmap(df_cm,cmap=\"Blues\", annot=True,fmt=\"d\",linewidth=1,annot_kws={\"size\": 16})\n",
    "    plt.show()\n",
    "    \n",
    "drawMatrix(matrix)"
   ]
  },
  {
   "cell_type": "markdown",
   "metadata": {},
   "source": [
    "# D"
   ]
  },
  {
   "cell_type": "code",
   "execution_count": 26,
   "metadata": {},
   "outputs": [],
   "source": [
    "stemmer = PorterStemmer()\n",
    "# stemmer = SnowballStemmer(\"english\")\n",
    "# tknzr = TweetTokenizer(strip_handles=True, reduce_len=True)\n",
    "# tokenizer = RegexpTokenizer(r'[A-Za-z0-9]+')\n",
    "# tokenizer = RegexpTokenizer(r'\\w+')\n",
    "stop = set(stopwords.words('english'))"
   ]
  },
  {
   "cell_type": "code",
   "execution_count": 27,
   "metadata": {},
   "outputs": [
    {
     "data": {
      "text/plain": [
       "[':*', ':*', ':*']"
      ]
     },
     "execution_count": 27,
     "metadata": {},
     "output_type": "execute_result"
    }
   ],
   "source": [
    "s = \"@stustone Your show is whack. Way worse than whack, it's wiggety-whack.    :*(:*(:*(\"\n",
    "t = \"@switchfoot http://twitpic.com/2y1zl - Awww, that's a bummer.  You shoulda got David Carr of Third Day to do it. ;D \"\n",
    "# t = t.replace(\".\",\" \")\n",
    "s = contractions.fix(s.lower()).replace(\",\",\" \").replace(\";\",\" \").replace(\".\",\" \").replace(\"!\",\" \").split(\" \")\n",
    "s = \" \".join([stemmer.stem(j) for j in s if (stemmer.stem(j) not in stop and '@' not in j)])\n",
    "emot.emoticons(s)['value']\n",
    "# [stemmer.stem(j) for j in contractions.fix(t).split(\" \") if (j not in stop and j not in punctuation and '@' not in j)] \n"
   ]
  },
  {
   "cell_type": "code",
   "execution_count": 28,
   "metadata": {},
   "outputs": [],
   "source": [
    "# just pass the whole data\n",
    "# 81.89 = words = contractions.fix(i).replace(\",\",\" \").replace(\";\",\" \").replace(\".\",\" \").replace(\"!\",\" \").split(\" \")\n",
    "# 82.45 = words = (i.replace(\",\",\" \").replace(\";\",\" \").replace(\".\",\" \").replace(\"!\",\" \")).split(\" \")\n",
    "# 83.00 = words = (i.replace(\";\",\" \").replace(\".\",\" \").replace(\"!\",\" \")).split(\" \")\n",
    "# 83.28 = words = (i.replace(\".\",\" \").replace(\"!\",\" \")).split(\" \")\n",
    "def cleanText(data,col):\n",
    "    temp = []\n",
    "    for i in data[col]:\n",
    "        words = contractions.fix(i.lower()).replace(\",\",\" \").replace(\";\",\" \").replace(\".\",\" \").replace(\"!\",\" \").split(\" \")\n",
    "        temp.append(\" \".join([stemmer.stem(j) for j in words if (stemmer.stem(j) not in stop and '@' not in j)]))\n",
    "    data[6]=temp"
   ]
  },
  {
   "cell_type": "code",
   "execution_count": 29,
   "metadata": {},
   "outputs": [
    {
     "name": "stdout",
     "output_type": "stream",
     "text": [
      "472.3513445854187\n"
     ]
    }
   ],
   "source": [
    "st=time()\n",
    "cleanText(train,5)\n",
    "print(time()-st)"
   ]
  },
  {
   "cell_type": "code",
   "execution_count": 38,
   "metadata": {},
   "outputs": [
    {
     "name": "stdout",
     "output_type": "stream",
     "text": [
      "3.659123659133911\n"
     ]
    }
   ],
   "source": [
    "st = time()\n",
    "vocabClean = getVocab(train,6)\n",
    "print(time()-st)"
   ]
  },
  {
   "cell_type": "code",
   "execution_count": 39,
   "metadata": {},
   "outputs": [
    {
     "name": "stdout",
     "output_type": "stream",
     "text": [
      "6.471698045730591\n"
     ]
    }
   ],
   "source": [
    "st = time()\n",
    "Cphi0,Cphi4,Ctheta0,Ctheta4,Ct0,Ct4 = learnParam(train,vocabClean,6)\n",
    "print(time()-st)"
   ]
  },
  {
   "cell_type": "code",
   "execution_count": 40,
   "metadata": {},
   "outputs": [
    {
     "name": "stdout",
     "output_type": "stream",
     "text": [
      "0.13360810279846191\n"
     ]
    }
   ],
   "source": [
    "st = time()\n",
    "cleanText(test,5)\n",
    "predictionTestClean,CpredTest0,CpredTest4 = findClasses(test[6],Cphi0,Cphi4,Ctheta0,Ctheta4,Ct0,Ct4)\n",
    "print(time()-st)"
   ]
  },
  {
   "cell_type": "code",
   "execution_count": 44,
   "metadata": {},
   "outputs": [
    {
     "data": {
      "image/png": "[encoded data removed]",
      "text/plain": [
       "<Figure size 504x360 with 2 Axes>"
      ]
     },
     "metadata": {},
     "output_type": "display_data"
    }
   ],
   "source": [
    "matrix = confusionMatrix(test,predictionTestClean)\n",
    "drawMatrix(matrix)"
   ]
  },
  {
   "cell_type": "code",
   "execution_count": 45,
   "metadata": {},
   "outputs": [
    {
     "name": "stdout",
     "output_type": "stream",
     "text": [
      "0.8245125348189415\n"
     ]
    }
   ],
   "source": [
    "check = (test[0]==predictionTestClean)\n",
    "t=0\n",
    "f=0\n",
    "for i in check:\n",
    "    if i:\n",
    "        t=t+1\n",
    "    else:\n",
    "        f=f+1\n",
    "print(t/(t+f))"
   ]
  },
  {
   "cell_type": "code",
   "execution_count": 46,
   "metadata": {},
   "outputs": [
    {
     "name": "stdout",
     "output_type": "stream",
     "text": [
      "12.69439435005188\n"
     ]
    }
   ],
   "source": [
    "st = time()\n",
    "predictionTrainClean,CpredTrain0,CpredTrain4 = findClasses(train[6],Cphi0,Cphi4,Ctheta0,Ctheta4,Ct0,Ct4)\n",
    "print(time()-st)"
   ]
  },
  {
   "cell_type": "code",
   "execution_count": 47,
   "metadata": {},
   "outputs": [
    {
     "data": {
      "image/png": "[encoded data removed]",
      "text/plain": [
       "<Figure size 504x360 with 2 Axes>"
      ]
     },
     "metadata": {},
     "output_type": "display_data"
    }
   ],
   "source": [
    "matrix = confusionMatrix(train,predictionTrainClean)\n",
    "drawMatrix(matrix)"
   ]
  },
  {
   "cell_type": "code",
   "execution_count": 48,
   "metadata": {},
   "outputs": [
    {
     "name": "stdout",
     "output_type": "stream",
     "text": [
      "0.8008575\n"
     ]
    }
   ],
   "source": [
    "check = (train[0]==predictionTrainClean)\n",
    "t=0\n",
    "f=0\n",
    "for i in check:\n",
    "    if i:\n",
    "        t=t+1\n",
    "    else:\n",
    "        f=f+1\n",
    "print(t/(t+f))"
   ]
  },
  {
   "cell_type": "markdown",
   "metadata": {},
   "source": [
    "# FEATURE"
   ]
  },
  {
   "cell_type": "code",
   "execution_count": 52,
   "metadata": {},
   "outputs": [],
   "source": [
    "# Pass data,column of text\n",
    "def getAddedVocab(train,col):\n",
    "    vocab = {}\n",
    "    emoji = {}\n",
    "    count=0\n",
    "    emojiCount=0\n",
    "#     data = []\n",
    "    data = train[col].unique()\n",
    "    for i in range(data.shape[0]):\n",
    "        x = []\n",
    "#         words = train[col][i].replace(';',' ').replace(\".\",\" \").replace(\",\",\" \").split(\" \")\n",
    "        words = data[i].split(\" \")\n",
    "        while \" \" in words:\n",
    "            words.remove(\" \")\n",
    "        while \"\" in words:\n",
    "            words.remove('')\n",
    "        for j in words:\n",
    "            if(j not in vocab):\n",
    "                vocab[j]=count\n",
    "                count = count+1\n",
    "        for j in range(0,len(words)-1):\n",
    "            if(words[j]+\" \"+words[j+1] not in vocab):\n",
    "                vocab[words[j]+\" \"+words[j+1]]=count\n",
    "                count = count+1\n",
    "        \n",
    "        try:\n",
    "            for j in emot.emoticons(data[i])['value']:\n",
    "                if(j not in emoji):\n",
    "                    emoji[j]=emojiCount\n",
    "                    emojiCount = emojiCount+1\n",
    "        except:\n",
    "            pass\n",
    "\n",
    "#             x.append(j)\n",
    "#                 x.append(vocab[j])\n",
    "#         data.append(x)\n",
    "#     train[1]=data\n",
    "    return vocab,emoji"
   ]
  },
  {
   "cell_type": "code",
   "execution_count": 53,
   "metadata": {},
   "outputs": [
    {
     "data": {
      "text/html": [
       "<div>\n",
       "<style scoped>\n",
       "    .dataframe tbody tr th:only-of-type {\n",
       "        vertical-align: middle;\n",
       "    }\n",
       "\n",
       "    .dataframe tbody tr th {\n",
       "        vertical-align: top;\n",
       "    }\n",
       "\n",
       "    .dataframe thead th {\n",
       "        text-align: right;\n",
       "    }\n",
       "</style>\n",
       "<table border=\"1\" class=\"dataframe\">\n",
       "  <thead>\n",
       "    <tr style=\"text-align: right;\">\n",
       "      <th></th>\n",
       "      <th>0</th>\n",
       "      <th>1</th>\n",
       "      <th>2</th>\n",
       "      <th>3</th>\n",
       "      <th>4</th>\n",
       "      <th>5</th>\n",
       "      <th>6</th>\n",
       "    </tr>\n",
       "  </thead>\n",
       "  <tbody>\n",
       "    <tr>\n",
       "      <th>0</th>\n",
       "      <td>0</td>\n",
       "      <td>1467810369</td>\n",
       "      <td>Mon Apr 06 22:19:45 PDT 2009</td>\n",
       "      <td>NO_QUERY</td>\n",
       "      <td>_TheSpecialOne_</td>\n",
       "      <td>@switchfoot http://twitpic.com/2y1zl - Awww, t...</td>\n",
       "      <td>http://twitpic com/2y1zl - awww  bummer   shou...</td>\n",
       "    </tr>\n",
       "    <tr>\n",
       "      <th>1</th>\n",
       "      <td>0</td>\n",
       "      <td>1467810672</td>\n",
       "      <td>Mon Apr 06 22:19:49 PDT 2009</td>\n",
       "      <td>NO_QUERY</td>\n",
       "      <td>scotthamilton</td>\n",
       "      <td>is upset that he can't update his Facebook by ...</td>\n",
       "      <td>upset updat hi facebook text    might cri resu...</td>\n",
       "    </tr>\n",
       "    <tr>\n",
       "      <th>2</th>\n",
       "      <td>0</td>\n",
       "      <td>1467810917</td>\n",
       "      <td>Mon Apr 06 22:19:53 PDT 2009</td>\n",
       "      <td>NO_QUERY</td>\n",
       "      <td>mattycus</td>\n",
       "      <td>@Kenichan I dived many times for the ball. Man...</td>\n",
       "      <td>dive mani time ball  manag save 50%  rest go b...</td>\n",
       "    </tr>\n",
       "    <tr>\n",
       "      <th>3</th>\n",
       "      <td>0</td>\n",
       "      <td>1467811184</td>\n",
       "      <td>Mon Apr 06 22:19:57 PDT 2009</td>\n",
       "      <td>NO_QUERY</td>\n",
       "      <td>ElleCTF</td>\n",
       "      <td>my whole body feels itchy and like its on fire</td>\n",
       "      <td>whole bodi feel itchi like fire</td>\n",
       "    </tr>\n",
       "    <tr>\n",
       "      <th>4</th>\n",
       "      <td>0</td>\n",
       "      <td>1467811193</td>\n",
       "      <td>Mon Apr 06 22:19:57 PDT 2009</td>\n",
       "      <td>NO_QUERY</td>\n",
       "      <td>Karoli</td>\n",
       "      <td>@nationwideclass no, it's not behaving at all....</td>\n",
       "      <td>behav  I mad  whi here? becaus see</td>\n",
       "    </tr>\n",
       "    <tr>\n",
       "      <th>...</th>\n",
       "      <td>...</td>\n",
       "      <td>...</td>\n",
       "      <td>...</td>\n",
       "      <td>...</td>\n",
       "      <td>...</td>\n",
       "      <td>...</td>\n",
       "      <td>...</td>\n",
       "    </tr>\n",
       "    <tr>\n",
       "      <th>1599995</th>\n",
       "      <td>4</td>\n",
       "      <td>2193601966</td>\n",
       "      <td>Tue Jun 16 08:40:49 PDT 2009</td>\n",
       "      <td>NO_QUERY</td>\n",
       "      <td>AmandaMarie1028</td>\n",
       "      <td>Just woke up. Having no school is the best fee...</td>\n",
       "      <td>woke  school best feel ever</td>\n",
       "    </tr>\n",
       "    <tr>\n",
       "      <th>1599996</th>\n",
       "      <td>4</td>\n",
       "      <td>2193601969</td>\n",
       "      <td>Tue Jun 16 08:40:49 PDT 2009</td>\n",
       "      <td>NO_QUERY</td>\n",
       "      <td>TheWDBoards</td>\n",
       "      <td>TheWDB.com - Very cool to hear old Walt interv...</td>\n",
       "      <td>thewdb com - veri cool hear old walt interview...</td>\n",
       "    </tr>\n",
       "    <tr>\n",
       "      <th>1599997</th>\n",
       "      <td>4</td>\n",
       "      <td>2193601991</td>\n",
       "      <td>Tue Jun 16 08:40:49 PDT 2009</td>\n",
       "      <td>NO_QUERY</td>\n",
       "      <td>bpbabe</td>\n",
       "      <td>Are you ready for your MoJo Makeover? Ask me f...</td>\n",
       "      <td>readi mojo makeover? ask detail</td>\n",
       "    </tr>\n",
       "    <tr>\n",
       "      <th>1599998</th>\n",
       "      <td>4</td>\n",
       "      <td>2193602064</td>\n",
       "      <td>Tue Jun 16 08:40:49 PDT 2009</td>\n",
       "      <td>NO_QUERY</td>\n",
       "      <td>tinydiamondz</td>\n",
       "      <td>Happy 38th Birthday to my boo of alll time!!! ...</td>\n",
       "      <td>happi 38th birthday boo alll time    tupac ama...</td>\n",
       "    </tr>\n",
       "    <tr>\n",
       "      <th>1599999</th>\n",
       "      <td>4</td>\n",
       "      <td>2193602129</td>\n",
       "      <td>Tue Jun 16 08:40:50 PDT 2009</td>\n",
       "      <td>NO_QUERY</td>\n",
       "      <td>RyanTrevMorris</td>\n",
       "      <td>happy #charitytuesday @theNSPCC @SparksCharity...</td>\n",
       "      <td>happi #charitytuesday</td>\n",
       "    </tr>\n",
       "  </tbody>\n",
       "</table>\n",
       "<p>1600000 rows × 7 columns</p>\n",
       "</div>"
      ],
      "text/plain": [
       "         0           1                             2         3  \\\n",
       "0        0  1467810369  Mon Apr 06 22:19:45 PDT 2009  NO_QUERY   \n",
       "1        0  1467810672  Mon Apr 06 22:19:49 PDT 2009  NO_QUERY   \n",
       "2        0  1467810917  Mon Apr 06 22:19:53 PDT 2009  NO_QUERY   \n",
       "3        0  1467811184  Mon Apr 06 22:19:57 PDT 2009  NO_QUERY   \n",
       "4        0  1467811193  Mon Apr 06 22:19:57 PDT 2009  NO_QUERY   \n",
       "...     ..         ...                           ...       ...   \n",
       "1599995  4  2193601966  Tue Jun 16 08:40:49 PDT 2009  NO_QUERY   \n",
       "1599996  4  2193601969  Tue Jun 16 08:40:49 PDT 2009  NO_QUERY   \n",
       "1599997  4  2193601991  Tue Jun 16 08:40:49 PDT 2009  NO_QUERY   \n",
       "1599998  4  2193602064  Tue Jun 16 08:40:49 PDT 2009  NO_QUERY   \n",
       "1599999  4  2193602129  Tue Jun 16 08:40:50 PDT 2009  NO_QUERY   \n",
       "\n",
       "                       4                                                  5  \\\n",
       "0        _TheSpecialOne_  @switchfoot http://twitpic.com/2y1zl - Awww, t...   \n",
       "1          scotthamilton  is upset that he can't update his Facebook by ...   \n",
       "2               mattycus  @Kenichan I dived many times for the ball. Man...   \n",
       "3                ElleCTF    my whole body feels itchy and like its on fire    \n",
       "4                 Karoli  @nationwideclass no, it's not behaving at all....   \n",
       "...                  ...                                                ...   \n",
       "1599995  AmandaMarie1028  Just woke up. Having no school is the best fee...   \n",
       "1599996      TheWDBoards  TheWDB.com - Very cool to hear old Walt interv...   \n",
       "1599997           bpbabe  Are you ready for your MoJo Makeover? Ask me f...   \n",
       "1599998     tinydiamondz  Happy 38th Birthday to my boo of alll time!!! ...   \n",
       "1599999   RyanTrevMorris  happy #charitytuesday @theNSPCC @SparksCharity...   \n",
       "\n",
       "                                                         6  \n",
       "0        http://twitpic com/2y1zl - awww  bummer   shou...  \n",
       "1        upset updat hi facebook text    might cri resu...  \n",
       "2        dive mani time ball  manag save 50%  rest go b...  \n",
       "3                         whole bodi feel itchi like fire   \n",
       "4                     behav  I mad  whi here? becaus see    \n",
       "...                                                    ...  \n",
       "1599995                       woke  school best feel ever   \n",
       "1599996  thewdb com - veri cool hear old walt interview...  \n",
       "1599997                   readi mojo makeover? ask detail   \n",
       "1599998  happi 38th birthday boo alll time    tupac ama...  \n",
       "1599999                             happi #charitytuesday   \n",
       "\n",
       "[1600000 rows x 7 columns]"
      ]
     },
     "execution_count": 53,
     "metadata": {},
     "output_type": "execute_result"
    }
   ],
   "source": [
    "train"
   ]
  },
  {
   "cell_type": "code",
   "execution_count": 54,
   "metadata": {},
   "outputs": [
    {
     "name": "stdout",
     "output_type": "stream",
     "text": [
      "80.84684371948242\n",
      "4476580\n"
     ]
    }
   ],
   "source": [
    "st = time()\n",
    "addedVocab,emojiVocab = getAddedVocab(train,6)\n",
    "print(time()-st)\n",
    "print(len(addedVocab))"
   ]
  },
  {
   "cell_type": "code",
   "execution_count": 55,
   "metadata": {},
   "outputs": [
    {
     "data": {
      "text/plain": [
       "38"
      ]
     },
     "execution_count": 55,
     "metadata": {},
     "output_type": "execute_result"
    }
   ],
   "source": [
    "len(emojiVocab)"
   ]
  },
  {
   "cell_type": "code",
   "execution_count": 57,
   "metadata": {},
   "outputs": [
    {
     "data": {
      "text/plain": [
       "{'http://twitpic': 0,\n",
       " 'com/2y1zl': 1,\n",
       " '-': 2,\n",
       " 'awww': 3,\n",
       " 'bummer': 4,\n",
       " 'shoulda': 5,\n",
       " 'got': 6,\n",
       " 'david': 7,\n",
       " 'carr': 8,\n",
       " 'third': 9,\n",
       " 'day': 10,\n",
       " 'http://twitpic com/2y1zl': 11,\n",
       " 'com/2y1zl -': 12,\n",
       " '- awww': 13,\n",
       " 'awww bummer': 14,\n",
       " 'bummer shoulda': 15,\n",
       " 'shoulda got': 16,\n",
       " 'got david': 17,\n",
       " 'david carr': 18,\n",
       " 'carr third': 19,\n",
       " 'third day': 20,\n",
       " 'upset': 21,\n",
       " 'updat': 22,\n",
       " 'hi': 23,\n",
       " 'facebook': 24,\n",
       " 'text': 25,\n",
       " 'might': 26,\n",
       " 'cri': 27,\n",
       " 'result': 28,\n",
       " 'school': 29,\n",
       " 'today': 30,\n",
       " 'also': 31,\n",
       " 'blah': 32,\n",
       " 'upset updat': 33,\n",
       " 'updat hi': 34,\n",
       " 'hi facebook': 35,\n",
       " 'facebook text': 36,\n",
       " 'text might': 37,\n",
       " 'might cri': 38,\n",
       " 'cri result': 39,\n",
       " 'result school': 40,\n",
       " 'school today': 41,\n",
       " 'today also': 42,\n",
       " 'also blah': 43,\n",
       " 'dive': 44,\n",
       " 'mani': 45,\n",
       " 'time': 46,\n",
       " 'ball': 47,\n",
       " 'manag': 48,\n",
       " 'save': 49,\n",
       " '50%': 50,\n",
       " 'rest': 51,\n",
       " 'go': 52,\n",
       " 'bound': 53,\n",
       " 'dive mani': 54,\n",
       " 'mani time': 55,\n",
       " 'time ball': 56,\n",
       " 'ball manag': 57,\n",
       " 'manag save': 58,\n",
       " 'save 50%': 59,\n",
       " '50% rest': 60,\n",
       " 'rest go': 61,\n",
       " 'go bound': 62,\n",
       " 'whole': 63,\n",
       " 'bodi': 64,\n",
       " 'feel': 65,\n",
       " 'itchi': 66,\n",
       " 'like': 67,\n",
       " 'fire': 68,\n",
       " 'whole bodi': 69,\n",
       " 'bodi feel': 70,\n",
       " 'feel itchi': 71,\n",
       " 'itchi like': 72,\n",
       " 'like fire': 73,\n",
       " 'behav': 74,\n",
       " 'I': 75,\n",
       " 'mad': 76,\n",
       " 'whi': 77,\n",
       " 'here?': 78,\n",
       " 'becaus': 79,\n",
       " 'see': 80,\n",
       " 'behav I': 81,\n",
       " 'I mad': 82,\n",
       " 'mad whi': 83,\n",
       " 'whi here?': 84,\n",
       " 'here? becaus': 85,\n",
       " 'becaus see': 86,\n",
       " 'crew': 87,\n",
       " 'whole crew': 88,\n",
       " 'need': 89,\n",
       " 'hug': 90,\n",
       " 'need hug': 91,\n",
       " 'hey': 92,\n",
       " 'long': 93,\n",
       " 'ye': 94,\n",
       " 'rain': 95,\n",
       " 'bit': 96,\n",
       " 'onli': 97,\n",
       " 'lol': 98,\n",
       " 'fine': 99,\n",
       " 'thank': 100,\n",
       " '?': 101,\n",
       " 'hey long': 102,\n",
       " 'long time': 103,\n",
       " 'time see': 104,\n",
       " 'see ye': 105,\n",
       " 'ye rain': 106,\n",
       " 'rain bit': 107,\n",
       " 'bit onli': 108,\n",
       " 'onli bit': 109,\n",
       " 'bit lol': 110,\n",
       " 'lol I': 111,\n",
       " 'I fine': 112,\n",
       " 'fine thank': 113,\n",
       " 'thank ?': 114,\n",
       " 'nope': 115,\n",
       " 'que': 116,\n",
       " 'muera': 117,\n",
       " 'que muera': 118,\n",
       " 'muera ?': 119,\n",
       " 'spring': 120,\n",
       " 'break': 121,\n",
       " 'plain': 122,\n",
       " 'citi': 123,\n",
       " 'snow': 124,\n",
       " 'spring break': 125,\n",
       " 'break plain': 126,\n",
       " 'plain citi': 127,\n",
       " 'citi snow': 128,\n",
       " 're-pierc': 129,\n",
       " 'ear': 130,\n",
       " 're-pierc ear': 131,\n",
       " 'could': 132,\n",
       " 'bear': 133,\n",
       " 'watch': 134,\n",
       " 'thought': 135,\n",
       " 'ua': 136,\n",
       " 'loss': 137,\n",
       " 'wa': 138,\n",
       " 'embarrass': 139,\n",
       " 'could bear': 140,\n",
       " 'bear watch': 141,\n",
       " 'watch thought': 142,\n",
       " 'thought ua': 143,\n",
       " 'ua loss': 144,\n",
       " 'loss wa': 145,\n",
       " 'wa embarrass': 146,\n",
       " 'count': 147,\n",
       " 'idk': 148,\n",
       " 'either': 149,\n",
       " 'never': 150,\n",
       " 'talk': 151,\n",
       " 'anymor': 152,\n",
       " 'count idk': 153,\n",
       " 'idk whi': 154,\n",
       " 'whi either': 155,\n",
       " 'either never': 156,\n",
       " 'never talk': 157,\n",
       " 'talk anymor': 158,\n",
       " 'would': 159,\n",
       " 'first': 160,\n",
       " 'gun': 161,\n",
       " 'realli': 162,\n",
       " 'though': 163,\n",
       " 'zac': 164,\n",
       " \"snyder'\": 165,\n",
       " 'doucheclown': 166,\n",
       " 'would first': 167,\n",
       " 'first gun': 168,\n",
       " 'gun realli': 169,\n",
       " 'realli though': 170,\n",
       " 'though zac': 171,\n",
       " \"zac snyder'\": 172,\n",
       " \"snyder' doucheclown\": 173,\n",
       " 'wish': 174,\n",
       " 'miss': 175,\n",
       " 'premiere?': 176,\n",
       " 'wish got': 177,\n",
       " 'got watch': 178,\n",
       " 'watch miss': 179,\n",
       " 'miss wa': 180,\n",
       " 'wa premiere?': 181,\n",
       " \"hollis'\": 182,\n",
       " 'death': 183,\n",
       " 'scene': 184,\n",
       " 'hurt': 185,\n",
       " 'sever': 186,\n",
       " 'film': 187,\n",
       " 'wri': 188,\n",
       " 'director': 189,\n",
       " 'cut': 190,\n",
       " 'now?': 191,\n",
       " \"hollis' death\": 192,\n",
       " 'death scene': 193,\n",
       " 'scene hurt': 194,\n",
       " 'hurt sever': 195,\n",
       " 'sever watch': 196,\n",
       " 'watch film': 197,\n",
       " 'film wri': 198,\n",
       " 'wri director': 199,\n",
       " 'director cut': 200,\n",
       " 'cut now?': 201,\n",
       " 'file': 202,\n",
       " 'tax': 203,\n",
       " 'file tax': 204,\n",
       " 'ahh': 205,\n",
       " 'alway': 206,\n",
       " 'want': 207,\n",
       " 'rent': 208,\n",
       " 'love': 209,\n",
       " 'soundtrack': 210,\n",
       " 'ahh I': 211,\n",
       " 'I alway': 212,\n",
       " 'alway want': 213,\n",
       " 'want see': 214,\n",
       " 'see rent': 215,\n",
       " 'rent love': 216,\n",
       " 'love soundtrack': 217,\n",
       " 'oh': 218,\n",
       " 'dear': 219,\n",
       " 'drink': 220,\n",
       " 'forgotten': 221,\n",
       " 'tabl': 222,\n",
       " 'drinks?': 223,\n",
       " 'oh dear': 224,\n",
       " 'dear drink': 225,\n",
       " 'drink forgotten': 226,\n",
       " 'forgotten tabl': 227,\n",
       " 'tabl drinks?': 228,\n",
       " 'get': 229,\n",
       " 'much': 230,\n",
       " 'done': 231,\n",
       " 'wa day': 232,\n",
       " 'day get': 233,\n",
       " 'get much': 234,\n",
       " 'much done': 235,\n",
       " 'one': 236,\n",
       " 'friend': 237,\n",
       " 'call': 238,\n",
       " 'ask': 239,\n",
       " 'meet': 240,\n",
       " 'mid': 241,\n",
       " 'valley': 242,\n",
       " '*sigh*': 243,\n",
       " 'one friend': 244,\n",
       " 'friend call': 245,\n",
       " 'call ask': 246,\n",
       " 'ask meet': 247,\n",
       " 'meet mid': 248,\n",
       " 'mid valley': 249,\n",
       " 'valley today': 250,\n",
       " 'today I': 251,\n",
       " 'I time': 252,\n",
       " 'time *sigh*': 253,\n",
       " 'bake': 254,\n",
       " 'cake': 255,\n",
       " 'ate': 256,\n",
       " 'bake cake': 257,\n",
       " 'cake ate': 258,\n",
       " 'thi': 259,\n",
       " 'week': 260,\n",
       " 'hope': 261,\n",
       " 'thi week': 262,\n",
       " 'week go': 263,\n",
       " 'go hope': 264,\n",
       " 'blagh': 265,\n",
       " 'class': 266,\n",
       " '8': 267,\n",
       " 'tomorrow': 268,\n",
       " 'blagh class': 269,\n",
       " 'class 8': 270,\n",
       " '8 tomorrow': 271,\n",
       " 'hate': 272,\n",
       " 'wake': 273,\n",
       " 'peopl': 274,\n",
       " 'hate call': 275,\n",
       " 'call wake': 276,\n",
       " 'wake peopl': 277,\n",
       " 'sleep': 278,\n",
       " 'marley': 279,\n",
       " 'go cri': 280,\n",
       " 'cri sleep': 281,\n",
       " 'sleep watch': 282,\n",
       " 'watch marley': 283,\n",
       " 'sad': 284,\n",
       " 'lilli': 285,\n",
       " 'I sad': 286,\n",
       " 'sad miss': 287,\n",
       " 'miss lilli': 288,\n",
       " 'ooooh': 289,\n",
       " 'lesli': 290,\n",
       " 'ok': 291,\n",
       " 'ooooh lol': 292,\n",
       " 'lol lesli': 293,\n",
       " 'lesli ok': 294,\n",
       " 'ok lesli': 295,\n",
       " 'lesli get': 296,\n",
       " 'get mad': 297,\n",
       " 'meh': 298,\n",
       " 'almost': 299,\n",
       " 'lover': 300,\n",
       " 'except': 301,\n",
       " 'track': 302,\n",
       " 'depress': 303,\n",
       " 'everi': 304,\n",
       " 'meh almost': 305,\n",
       " 'almost lover': 306,\n",
       " 'lover except': 307,\n",
       " 'except thi': 308,\n",
       " 'thi track': 309,\n",
       " 'track get': 310,\n",
       " 'get depress': 311,\n",
       " 'depress everi': 312,\n",
       " 'everi time': 313,\n",
       " 'some1': 314,\n",
       " 'hack': 315,\n",
       " 'account': 316,\n",
       " 'aim': 317,\n",
       " 'make': 318,\n",
       " 'new': 319,\n",
       " 'some1 hack': 320,\n",
       " 'hack account': 321,\n",
       " 'account aim': 322,\n",
       " 'aim make': 323,\n",
       " 'make new': 324,\n",
       " 'new one': 325,\n",
       " 'promot': 326,\n",
       " 'gear': 327,\n",
       " 'groov': 328,\n",
       " 'unforn': 329,\n",
       " 'ride': 330,\n",
       " 'may': 331,\n",
       " 'b': 332,\n",
       " 'anaheim': 333,\n",
       " 'want go': 334,\n",
       " 'go promot': 335,\n",
       " 'promot gear': 336,\n",
       " 'gear groov': 337,\n",
       " 'groov unforn': 338,\n",
       " 'unforn ride': 339,\n",
       " 'ride may': 340,\n",
       " 'may b': 341,\n",
       " 'b go': 342,\n",
       " 'go one': 343,\n",
       " 'one anaheim': 344,\n",
       " 'anaheim may': 345,\n",
       " 'may though': 346,\n",
       " 'option': 347,\n",
       " 'realiz': 348,\n",
       " 'evalu': 349,\n",
       " 'morn': 350,\n",
       " 'work': 351,\n",
       " 'afternoon': 352,\n",
       " 'thought sleep': 353,\n",
       " 'sleep wa': 354,\n",
       " 'wa option': 355,\n",
       " 'option tomorrow': 356,\n",
       " 'tomorrow realiz': 357,\n",
       " 'realiz evalu': 358,\n",
       " 'evalu morn': 359,\n",
       " 'morn work': 360,\n",
       " 'work afternoon': 361,\n",
       " 'awe': 362,\n",
       " '1': 363,\n",
       " 'awe love': 364,\n",
       " 'love 1': 365,\n",
       " '1 miss': 366,\n",
       " 'asian': 367,\n",
       " 'eye': 368,\n",
       " 'night': 369,\n",
       " 'cri asian': 370,\n",
       " 'asian eye': 371,\n",
       " 'eye sleep': 372,\n",
       " 'sleep night': 373,\n",
       " 'sick': 374,\n",
       " 'spent': 375,\n",
       " 'hour': 376,\n",
       " 'sit': 377,\n",
       " 'shower': 378,\n",
       " 'stand': 379,\n",
       " 'held': 380,\n",
       " 'back': 381,\n",
       " 'puke': 382,\n",
       " 'champ': 383,\n",
       " 'bed': 384,\n",
       " 'ok I': 385,\n",
       " 'I sick': 386,\n",
       " 'sick spent': 387,\n",
       " 'spent hour': 388,\n",
       " 'hour sit': 389,\n",
       " 'sit shower': 390,\n",
       " 'shower becaus': 391,\n",
       " 'becaus wa': 392,\n",
       " 'wa sick': 393,\n",
       " 'sick stand': 394,\n",
       " 'stand held': 395,\n",
       " 'held back': 396,\n",
       " 'back puke': 397,\n",
       " 'puke like': 398,\n",
       " 'like champ': 399,\n",
       " 'champ bed': 400,\n",
       " 'tell': 401,\n",
       " 'ya': 402,\n",
       " 'stori': 403,\n",
       " 'later': 404,\n",
       " 'good': 405,\n",
       " 'workin': 406,\n",
       " 'three': 407,\n",
       " 'I tell': 408,\n",
       " 'tell ya': 409,\n",
       " 'ya stori': 410,\n",
       " 'stori later': 411,\n",
       " 'later good': 412,\n",
       " 'good day': 413,\n",
       " 'day I': 414,\n",
       " 'I workin': 415,\n",
       " 'workin like': 416,\n",
       " 'like three': 417,\n",
       " 'three hour': 418,\n",
       " 'sorri': 419,\n",
       " 'came': 420,\n",
       " '(gmt+1)': 421,\n",
       " 'http://i': 422,\n",
       " 'gd/fnge': 423,\n",
       " 'sorri bed': 424,\n",
       " 'bed time': 425,\n",
       " 'time came': 426,\n",
       " 'came (gmt+1)': 427,\n",
       " '(gmt+1) http://i': 428,\n",
       " 'http://i gd/fnge': 429,\n",
       " 'think': 430,\n",
       " 'even': 431,\n",
       " 'know': 432,\n",
       " 'kid': 433,\n",
       " 'suitcas': 434,\n",
       " 'either depress': 435,\n",
       " 'depress think': 436,\n",
       " 'think even': 437,\n",
       " 'even want': 438,\n",
       " 'want know': 439,\n",
       " 'know kid': 440,\n",
       " 'kid suitcas': 441,\n",
       " '8-12': 442,\n",
       " '12-3': 443,\n",
       " 'gym': 444,\n",
       " '3-5': 445,\n",
       " '6': 446,\n",
       " '6-10': 447,\n",
       " 'anoth': 448,\n",
       " 'fli': 449,\n",
       " 'girlfriend': 450,\n",
       " 'bed class': 451,\n",
       " 'class 8-12': 452,\n",
       " '8-12 work': 453,\n",
       " 'work 12-3': 454,\n",
       " '12-3 gym': 455,\n",
       " 'gym 3-5': 456,\n",
       " '3-5 6': 457,\n",
       " '6 class': 458,\n",
       " 'class 6-10': 459,\n",
       " '6-10 anoth': 460,\n",
       " 'anoth day': 461,\n",
       " 'day go': 462,\n",
       " 'go fli': 463,\n",
       " 'fli miss': 464,\n",
       " 'miss girlfriend': 465,\n",
       " 'studi': 466,\n",
       " 'practic': 467,\n",
       " 'exam': 468,\n",
       " 'realli feel': 469,\n",
       " 'feel like': 470,\n",
       " 'like get': 471,\n",
       " 'get today': 472,\n",
       " 'today got': 473,\n",
       " 'got studi': 474,\n",
       " 'studi tomorrow': 475,\n",
       " 'tomorrow practic': 476,\n",
       " 'practic exam': 477,\n",
       " 'reason': 478,\n",
       " 'teardrop': 479,\n",
       " 'guitar': 480,\n",
       " 'ha': 481,\n",
       " 'enough': 482,\n",
       " 'heart': 483,\n",
       " 'reason teardrop': 484,\n",
       " 'teardrop guitar': 485,\n",
       " 'guitar onli': 486,\n",
       " 'onli one': 487,\n",
       " 'one ha': 488,\n",
       " 'ha enough': 489,\n",
       " 'enough break': 490,\n",
       " 'break heart': 491,\n",
       " 'still': 492,\n",
       " 'sad sad': 493,\n",
       " 'sad know': 494,\n",
       " 'know whi': 495,\n",
       " 'whi hate': 496,\n",
       " 'hate thi': 497,\n",
       " 'thi feel': 498,\n",
       " 'feel want': 499,\n",
       " 'want sleep': 500,\n",
       " 'sleep still': 501,\n",
       " 'soo': 502,\n",
       " 'final': 503,\n",
       " 'comfort': 504,\n",
       " 'awww soo': 505,\n",
       " 'soo wish': 506,\n",
       " 'wish wa': 507,\n",
       " 'wa see': 508,\n",
       " 'see final': 509,\n",
       " 'final comfort': 510,\n",
       " 'comfort I': 511,\n",
       " 'fall': 512,\n",
       " 'asleep': 513,\n",
       " 'heard': 514,\n",
       " 'traci': 515,\n",
       " \"girl'\": 516,\n",
       " 'found': 517,\n",
       " 'famili': 518,\n",
       " 'fall asleep': 519,\n",
       " 'asleep heard': 520,\n",
       " 'heard traci': 521,\n",
       " \"traci girl'\": 522,\n",
       " \"girl' bodi\": 523,\n",
       " 'bodi found': 524,\n",
       " 'found sad': 525,\n",
       " 'sad heart': 526,\n",
       " 'heart break': 527,\n",
       " 'break famili': 528,\n",
       " 'yay': 529,\n",
       " 'happi': 530,\n",
       " 'job': 531,\n",
       " 'mean': 532,\n",
       " 'less': 533,\n",
       " 'yay I': 534,\n",
       " 'I happi': 535,\n",
       " 'happi job': 536,\n",
       " 'job also': 537,\n",
       " 'also mean': 538,\n",
       " 'mean less': 539,\n",
       " 'less time': 540,\n",
       " 'check': 541,\n",
       " 'user': 542,\n",
       " 'timelin': 543,\n",
       " 'blackberri': 544,\n",
       " 'look': 545,\n",
       " 'twank': 546,\n",
       " 'happen': 547,\n",
       " 'ppl': 548,\n",
       " 'prob': 549,\n",
       " 'w/': 550,\n",
       " 'bg': 551,\n",
       " 'uids?': 552,\n",
       " 'check user': 553,\n",
       " 'user timelin': 554,\n",
       " 'timelin blackberri': 555,\n",
       " 'blackberri look': 556,\n",
       " 'look like': 557,\n",
       " 'like twank': 558,\n",
       " 'twank still': 559,\n",
       " 'still happen': 560,\n",
       " 'happen ppl': 561,\n",
       " 'ppl still': 562,\n",
       " 'still prob': 563,\n",
       " 'prob w/': 564,\n",
       " 'w/ bg': 565,\n",
       " 'bg uids?': 566,\n",
       " 'man': 567,\n",
       " 'iron': 568,\n",
       " 'fave': 569,\n",
       " 'top': 570,\n",
       " 'wear': 571,\n",
       " 'burnt': 572,\n",
       " 'oh man': 573,\n",
       " 'man wa': 574,\n",
       " 'wa iron': 575,\n",
       " 'iron fave': 576,\n",
       " 'fave top': 577,\n",
       " 'top wear': 578,\n",
       " 'wear meet': 579,\n",
       " 'meet burnt': 580,\n",
       " 'strang': 581,\n",
       " 'lilo': 582,\n",
       " 'samro': 583,\n",
       " 'strang sad': 584,\n",
       " 'sad lilo': 585,\n",
       " 'lilo samro': 586,\n",
       " 'samro break': 587,\n",
       " 'befor': 588,\n",
       " 'retweet': 589,\n",
       " 'oh I': 590,\n",
       " 'I sorri': 591,\n",
       " 'sorri think': 592,\n",
       " 'think befor': 593,\n",
       " 'befor retweet': 594,\n",
       " 'broadband': 595,\n",
       " 'plan': 596,\n",
       " \"'a\": 597,\n",
       " 'massiv': 598,\n",
       " 'broken': 599,\n",
       " \"promise'\": 600,\n",
       " 'http://tinyurl': 601,\n",
       " 'com/dcuc33': 602,\n",
       " 'via': 603,\n",
       " 'www': 604,\n",
       " 'diigo': 605,\n",
       " 'com/~tautao': 606,\n",
       " 'wait': 607,\n",
       " 'broadband plan': 608,\n",
       " \"plan 'a\": 609,\n",
       " \"'a massiv\": 610,\n",
       " 'massiv broken': 611,\n",
       " \"broken promise'\": 612,\n",
       " \"promise' http://tinyurl\": 613,\n",
       " 'http://tinyurl com/dcuc33': 614,\n",
       " 'com/dcuc33 via': 615,\n",
       " 'via www': 616,\n",
       " 'www diigo': 617,\n",
       " 'diigo com/~tautao': 618,\n",
       " 'com/~tautao still': 619,\n",
       " 'still wait': 620,\n",
       " 'wait broadband': 621,\n",
       " 'wow': 622,\n",
       " 'ton': 623,\n",
       " 'repli': 624,\n",
       " 'unfollow': 625,\n",
       " \"friends'\": 626,\n",
       " 'tweet': 627,\n",
       " 'scroll': 628,\n",
       " 'feed': 629,\n",
       " 'lot': 630,\n",
       " 'wow ton': 631,\n",
       " 'ton repli': 632,\n",
       " 'repli may': 633,\n",
       " 'may unfollow': 634,\n",
       " 'unfollow see': 635,\n",
       " \"see friends'\": 636,\n",
       " \"friends' tweet\": 637,\n",
       " 'tweet scroll': 638,\n",
       " 'scroll feed': 639,\n",
       " 'feed lot': 640,\n",
       " 'duck': 641,\n",
       " 'chicken': 642,\n",
       " 'take': 643,\n",
       " 'wayyy': 644,\n",
       " 'hatch': 645,\n",
       " 'duck chicken': 646,\n",
       " 'chicken take': 647,\n",
       " 'take wayyy': 648,\n",
       " 'wayyy long': 649,\n",
       " 'long hatch': 650,\n",
       " 'put': 651,\n",
       " 'vacat': 652,\n",
       " 'photo': 653,\n",
       " 'onlin': 654,\n",
       " 'yr': 655,\n",
       " 'ago': 656,\n",
       " 'pc': 657,\n",
       " 'crash': 658,\n",
       " 'forget': 659,\n",
       " 'name': 660,\n",
       " 'site': 661,\n",
       " 'put vacat': 662,\n",
       " 'vacat photo': 663,\n",
       " 'photo onlin': 664,\n",
       " 'onlin yr': 665,\n",
       " 'yr ago': 666,\n",
       " 'ago pc': 667,\n",
       " 'pc crash': 668,\n",
       " 'crash forget': 669,\n",
       " 'forget name': 670,\n",
       " 'name site': 671,\n",
       " 'sure': 672,\n",
       " 'po': 673,\n",
       " 'trade': 674,\n",
       " 'away': 675,\n",
       " 'compani': 676,\n",
       " 'asset': 677,\n",
       " 'andi': 678,\n",
       " 'sure onli': 679,\n",
       " 'onli po': 680,\n",
       " 'po much': 681,\n",
       " 'much want': 682,\n",
       " 'want think': 683,\n",
       " 'think trade': 684,\n",
       " 'trade away': 685,\n",
       " 'away compani': 686,\n",
       " 'compani asset': 687,\n",
       " 'asset sorri': 688,\n",
       " 'sorri andi': 689,\n",
       " 'hate happen': 690,\n",
       " 'dalla': 691,\n",
       " 'show': 692,\n",
       " 'say': 693,\n",
       " 'use': 694,\n",
       " 'music': 695,\n",
       " 'game': 696,\n",
       " 'mmm': 697,\n",
       " 'sad feel': 698,\n",
       " 'feel dalla': 699,\n",
       " 'dalla go': 700,\n",
       " 'go show': 701,\n",
       " 'show got': 702,\n",
       " 'got say': 703,\n",
       " 'say though': 704,\n",
       " 'though would': 705,\n",
       " 'would think': 706,\n",
       " 'think show': 707,\n",
       " 'show would': 708,\n",
       " 'would use': 709,\n",
       " 'use music': 710,\n",
       " 'music game': 711,\n",
       " 'game mmm': 712,\n",
       " 'ugh': 713,\n",
       " '92': 714,\n",
       " 'degre': 715,\n",
       " 'ugh 92': 716,\n",
       " '92 degre': 717,\n",
       " 'degre tomorrow': 718,\n",
       " 'move': 719,\n",
       " 'to?': 720,\n",
       " 'alreadi': 721,\n",
       " 'sd': 722,\n",
       " '??': 723,\n",
       " 'hmmm': 724,\n",
       " 'random': 725,\n",
       " 'glad': 726,\n",
       " 'hear': 727,\n",
       " 'yer': 728,\n",
       " 'well': 729,\n",
       " 'move to?': 730,\n",
       " 'to? thought': 731,\n",
       " 'thought alreadi': 732,\n",
       " 'alreadi sd': 733,\n",
       " 'sd ??': 734,\n",
       " '?? hmmm': 735,\n",
       " 'hmmm random': 736,\n",
       " 'random found': 737,\n",
       " 'found glad': 738,\n",
       " 'glad hear': 739,\n",
       " 'hear yer': 740,\n",
       " 'yer well': 741,\n",
       " 'ps3': 742,\n",
       " 'commiss': 743,\n",
       " 'wutcha': 744,\n",
       " 'playing?': 745,\n",
       " 'cop': 746,\n",
       " \"'blood\": 747,\n",
       " \"sand'?\": 748,\n",
       " 'miss ps3': 749,\n",
       " 'ps3 commiss': 750,\n",
       " 'commiss wutcha': 751,\n",
       " 'wutcha playing?': 752,\n",
       " 'playing? cop': 753,\n",
       " \"cop 'blood\": 754,\n",
       " \"'blood sand'?\": 755,\n",
       " 'leav': 756,\n",
       " 'park': 757,\n",
       " 'leav park': 758,\n",
       " 'park lot': 759,\n",
       " 'lot work': 760,\n",
       " 'life': 761,\n",
       " 'cool': 762,\n",
       " 'life cool': 763,\n",
       " 'sadli': 764,\n",
       " 'gotten': 765,\n",
       " 'experi': 766,\n",
       " 'post': 767,\n",
       " 'coitu': 768,\n",
       " 'cigarett': 769,\n",
       " 'sadli though': 770,\n",
       " 'though I': 771,\n",
       " 'I never': 772,\n",
       " 'never gotten': 773,\n",
       " 'gotten experi': 774,\n",
       " 'experi post': 775,\n",
       " 'post coitu': 776,\n",
       " 'coitu cigarett': 777,\n",
       " 'cigarett befor': 778,\n",
       " 'befor never': 779,\n",
       " 'nice': 780,\n",
       " 'bad': 781,\n",
       " 'come': 782,\n",
       " '5am': 783,\n",
       " 'nice day': 784,\n",
       " 'day bad': 785,\n",
       " 'bad rain': 786,\n",
       " 'rain come': 787,\n",
       " 'come tomorrow': 788,\n",
       " 'tomorrow 5am': 789,\n",
       " 'around': 790,\n",
       " 'lost': 791,\n",
       " 'pay': 792,\n",
       " 'phone': 793,\n",
       " 'bill': 794,\n",
       " 'lmao': 795,\n",
       " 'aw': 796,\n",
       " 'shuck': 797,\n",
       " 'bad around': 798,\n",
       " 'around lost': 799,\n",
       " 'lost job': 800,\n",
       " 'job even': 801,\n",
       " 'even pay': 802,\n",
       " 'pay phone': 803,\n",
       " 'phone bill': 804,\n",
       " 'bill lmao': 805,\n",
       " 'lmao aw': 806,\n",
       " 'aw shuck': 807,\n",
       " 'damm': 808,\n",
       " 'damm back': 809,\n",
       " 'back school': 810,\n",
       " 'school tomorrow': 811,\n",
       " 'mo': 812,\n",
       " 'money': 813,\n",
       " 'hell': 814,\n",
       " 'min': 815,\n",
       " 'wage': 816,\n",
       " '4': 817,\n",
       " \"f'n\": 818,\n",
       " 'clam': 819,\n",
       " 'hour?': 820,\n",
       " 'mo job': 821,\n",
       " 'job money': 822,\n",
       " 'money hell': 823,\n",
       " 'hell min': 824,\n",
       " 'min wage': 825,\n",
       " 'wage 4': 826,\n",
       " \"4 f'n\": 827,\n",
       " \"f'n clam\": 828,\n",
       " 'clam hour?': 829,\n",
       " 'forev': 830,\n",
       " 'soon': 831,\n",
       " 'forev see': 832,\n",
       " 'see soon': 833,\n",
       " 'agre': 834,\n",
       " 'saw': 835,\n",
       " 'failwhal': 836,\n",
       " 'allllll': 837,\n",
       " 'agre saw': 838,\n",
       " 'saw failwhal': 839,\n",
       " 'failwhal allllll': 840,\n",
       " 'allllll day': 841,\n",
       " 'day today': 842,\n",
       " 'haha': 843,\n",
       " 'dude': 844,\n",
       " 'em': 845,\n",
       " 'unless': 846,\n",
       " 'someon': 847,\n",
       " 'ad': 848,\n",
       " 'terribl': 849,\n",
       " 'pop': 850,\n",
       " 'oh haha': 851,\n",
       " 'haha dude': 852,\n",
       " 'dude realli': 853,\n",
       " 'realli look': 854,\n",
       " 'look em': 855,\n",
       " 'em unless': 856,\n",
       " 'unless someon': 857,\n",
       " 'someon say': 858,\n",
       " 'say hey': 859,\n",
       " 'hey ad': 860,\n",
       " 'ad sorri': 861,\n",
       " 'sorri I': 862,\n",
       " 'I terribl': 863,\n",
       " 'terribl need': 864,\n",
       " 'need pop': 865,\n",
       " 'right': 866,\n",
       " 'start': 867,\n",
       " 'nikster': 868,\n",
       " 'jare': 869,\n",
       " 'least': 870,\n",
       " 'I sure': 871,\n",
       " 'sure right': 872,\n",
       " 'right need': 873,\n",
       " 'need start': 874,\n",
       " 'start work': 875,\n",
       " 'work nikster': 876,\n",
       " 'nikster jare': 877,\n",
       " 'jare least': 878,\n",
       " 'diss': 879,\n",
       " 'band': 880,\n",
       " 'trace': 881,\n",
       " 'clearli': 882,\n",
       " 'ugli': 883,\n",
       " 'realli hate': 884,\n",
       " 'hate peopl': 885,\n",
       " 'peopl diss': 886,\n",
       " 'diss band': 887,\n",
       " 'band trace': 888,\n",
       " 'trace clearli': 889,\n",
       " 'clearli ugli': 890,\n",
       " 'attir': 891,\n",
       " 'was:': 892,\n",
       " 'puma': 893,\n",
       " 'singlet': 894,\n",
       " 'adida': 895,\n",
       " 'short': 896,\n",
       " 'black': 897,\n",
       " 'busi': 898,\n",
       " 'sock': 899,\n",
       " 'leather': 900,\n",
       " 'shoe': 901,\n",
       " 'lucki': 902,\n",
       " 'run': 903,\n",
       " 'ani': 904,\n",
       " 'cute': 905,\n",
       " 'girl': 906,\n",
       " 'gym attir': 907,\n",
       " 'attir today': 908,\n",
       " 'today was:': 909,\n",
       " 'was: puma': 910,\n",
       " 'puma singlet': 911,\n",
       " 'singlet adida': 912,\n",
       " 'adida short': 913,\n",
       " 'short black': 914,\n",
       " 'black busi': 915,\n",
       " 'busi sock': 916,\n",
       " 'sock leather': 917,\n",
       " 'leather shoe': 918,\n",
       " 'shoe lucki': 919,\n",
       " 'lucki run': 920,\n",
       " 'run ani': 921,\n",
       " 'ani cute': 922,\n",
       " 'cute girl': 923,\n",
       " 'location?': 924,\n",
       " 'com/2y2': 925,\n",
       " 'whi show': 926,\n",
       " 'show location?': 927,\n",
       " 'location? http://twitpic': 928,\n",
       " 'http://twitpic com/2y2': 929,\n",
       " 'picnic': 930,\n",
       " 'smell': 931,\n",
       " 'citru': 932,\n",
       " 'picnic phone': 933,\n",
       " 'phone smell': 934,\n",
       " 'smell like': 935,\n",
       " 'like citru': 936,\n",
       " 'donkey': 937,\n",
       " 'sensit': 938,\n",
       " 'comment': 939,\n",
       " 'nevertheless': 940,\n",
       " '(and': 941,\n",
       " \"me'd)\": 942,\n",
       " 'mug': 943,\n",
       " 'possibl': 944,\n",
       " 'charger': 945,\n",
       " 'awol': 946,\n",
       " 'donkey sensit': 947,\n",
       " 'sensit comment': 948,\n",
       " 'comment nevertheless': 949,\n",
       " 'nevertheless would': 950,\n",
       " 'would (and': 951,\n",
       " \"(and me'd)\": 952,\n",
       " \"me'd) glad\": 953,\n",
       " 'glad see': 954,\n",
       " 'see mug': 955,\n",
       " 'mug soon': 956,\n",
       " 'soon possibl': 957,\n",
       " 'possibl charger': 958,\n",
       " 'charger still': 959,\n",
       " 'still awol': 960,\n",
       " 'csi': 961,\n",
       " 'tonight': 962,\n",
       " 'fml': 963,\n",
       " 'new csi': 964,\n",
       " 'csi tonight': 965,\n",
       " 'tonight fml': 966,\n",
       " 'arm': 967,\n",
       " 'sore': 968,\n",
       " 'tenni': 969,\n",
       " 'think arm': 970,\n",
       " 'arm sore': 971,\n",
       " 'sore tenni': 972,\n",
       " 'wonder': 973,\n",
       " 'unhappi': 974,\n",
       " 'split': 975,\n",
       " 'seccond': 976,\n",
       " 'wonder whi': 977,\n",
       " 'whi someon': 978,\n",
       " 'someon like': 979,\n",
       " 'like much': 980,\n",
       " 'much make': 981,\n",
       " 'make unhappi': 982,\n",
       " 'unhappi split': 983,\n",
       " 'split seccond': 984,\n",
       " 'seccond depress': 985,\n",
       " 'bye': 986,\n",
       " 'sleep soon': 987,\n",
       " 'soon hate': 988,\n",
       " 'hate say': 989,\n",
       " 'say bye': 990,\n",
       " 'bye see': 991,\n",
       " 'see tomorrow': 992,\n",
       " 'tomorrow night': 993,\n",
       " 'ur': 994,\n",
       " 'newslett': 995,\n",
       " 'fare': 996,\n",
       " 'unbeliev': 997,\n",
       " 'shame': 998,\n",
       " 'book': 999,\n",
       " ...}"
      ]
     },
     "execution_count": 57,
     "metadata": {},
     "output_type": "execute_result"
    }
   ],
   "source": [
    "addedVocab"
   ]
  },
  {
   "cell_type": "code",
   "execution_count": 58,
   "metadata": {},
   "outputs": [],
   "source": [
    "# 0 = Negative 4 = Positive 2 = Neutral\n",
    "\n",
    "# Pass the column of full data,column's number and vocabulary\n",
    "def findAddedParamVocab(data,vocab,col):\n",
    "    v = vocab.fromkeys(vocab,1)\n",
    "#     print(v)\n",
    "    total = len(vocab)\n",
    "    data = data[col].unique()\n",
    "    for i in data:\n",
    "#         total=total+len(i.split(\" \"))\n",
    "        words = i.split(\" \")\n",
    "        while \" \" in words:\n",
    "            words.remove(\" \")\n",
    "        while \"\" in words:\n",
    "            words.remove(\"\")\n",
    "        total = total+2*len(words)-1\n",
    "        for j in words:\n",
    "            v[j] = v[j]+1\n",
    "        for j in range(0,len(words)-1):\n",
    "            v[words[j]+\" \"+words[j+1]] = v[words[j]+\" \"+words[j+1]]+1\n",
    "    for key in v:\n",
    "        v[key] = float(v[key]/total)\n",
    "    v = {k: v for k, v in sorted(v.items(), key=lambda item: item[1],reverse=True)}\n",
    "    return v,total\n",
    "#     return v\n",
    "\n",
    "# def findTotalValues(param):\n",
    "#     sorted_x = {k: v for k, v in sorted(param.items(), key=lambda item: item[1])}\n",
    "#     sorted_x = dict(sorted(param.items(), key=operator.itemgetter(1),reverse=True))\n",
    "#     print(sorted_x[:50])\n",
    "\n",
    "def findEmojiVocab(data,vocab,col):\n",
    "    v = vocab.fromkeys(vocab,1)\n",
    "#     print(v)\n",
    "    total = len(vocab)\n",
    "    data = data[col].unique()\n",
    "    for i in data:\n",
    "        words = i.split(\" \")\n",
    "        while \" \" in words:\n",
    "            words.remove(\" \")\n",
    "        while \"\" in words:\n",
    "            words.remove(\"\")\n",
    "#         total = total+2*len(words)-1\n",
    "\n",
    "        try:\n",
    "            for j in emot.emoticons(data[i])['value']:\n",
    "                v[j]=v[j]+1\n",
    "        except:\n",
    "            pass\n",
    "\n",
    "    for key in v:\n",
    "        v[key] = float(v[key]/total)\n",
    "    return v,total\n",
    "\n",
    "    \n",
    "def learnAddedParam(train,vocab,emoji,col):\n",
    "    m=train.shape[0]\n",
    "    train4 = train[train[0]==4]\n",
    "    train0 = train[train[0]==0]\n",
    "    phi0 = (len(train0[col].unique())+1)/(m+2)\n",
    "#     phi2 = (train[train[0]==2].shape[0]+1)/m\n",
    "    phi4 = (len(train4[col].unique())+1)/(m+2)\n",
    "    param0,t0 = findAddedParamVocab(train[train[0]==0],vocab,col)\n",
    "    emoji0,e0 = findEmojiVocab(train[train[0]==0],emoji,col)\n",
    "#     print(param0)\n",
    "#     param2,t2 = findParamVocab(train[train[0]==2],vocab,col)\n",
    "    param4,t4 = findAddedParamVocab(train[train[0]==4],vocab,col)\n",
    "    emoji4,e4 = findEmojiVocab(train[train[0]==4],emoji,col)\n",
    "#     return phi0,phi2,phi4,param0,param\n",
    "    return phi0,phi4,param0,param4,t0,t4,emoji0,e0,emoji4,e4"
   ]
  },
  {
   "cell_type": "code",
   "execution_count": 59,
   "metadata": {},
   "outputs": [
    {
     "name": "stdout",
     "output_type": "stream",
     "text": [
      "30.706099271774292\n"
     ]
    }
   ],
   "source": [
    "st = time()\n",
    "phiF0,phiF4,thetaF0,thetaF4,tF0,tF4,emoji0,e0,emoji4,e4 = learnAddedParam(train,addedVocab,emojiVocab,6)\n",
    "print(time()-st)"
   ]
  },
  {
   "cell_type": "code",
   "execution_count": 121,
   "metadata": {},
   "outputs": [],
   "source": [
    "# Pass the column of text\n",
    "# def findClasses(data,phi0,phi1,phi2,theta0,theta2,theta4,t0,t2,t4):\n",
    "def findAddedClasses(data,phi0,phi4,theta0,theta4,t0,t4,emoji0,emoji4,e0,e4):\n",
    "    pred = []\n",
    "    pred0 = []\n",
    "    pred4 = []\n",
    "    l0=[]\n",
    "    count=0\n",
    "    for i in theta0.keys():\n",
    "        l0.append(i)\n",
    "        if(count>50):\n",
    "            break\n",
    "        count+=1\n",
    "    l4=[]\n",
    "    count=0\n",
    "    for i in theta4.keys():\n",
    "        l4.append(i)\n",
    "        if(count>50):\n",
    "            break\n",
    "        count+=1\n",
    "    \n",
    "    for i in data:\n",
    "        prob0 = 0\n",
    "        prob4 = 0\n",
    "        words = i.split(\" \")\n",
    "        while \" \" in words:\n",
    "            words.remove(\" \")\n",
    "        while \"\" in words:\n",
    "            words.remove(\"\")\n",
    "        count0=1\n",
    "        count4=1\n",
    "        for j  in words:\n",
    "            if j in l0:\n",
    "                count0+=1\n",
    "            try:\n",
    "                prob0 = prob0+(math.log(theta0[j]))\n",
    "            except:\n",
    "                prob0 = prob0+float(1/(t0+1))\n",
    "            if j in l4:\n",
    "                count4+=1\n",
    "            try:\n",
    "                prob4 = prob4+(math.log(theta4[j]))\n",
    "            except:\n",
    "                prob4 = prob4+float(1/(t4+1))\n",
    "                \n",
    "        for j in range(0,len(words)-1):\n",
    "            try:\n",
    "                prob0 = prob0+(math.log(theta0[words[j]+\" \"+words[j+1]]))\n",
    "            except:\n",
    "                prob0 = prob0+float(1/(t0+1))\n",
    "            try:\n",
    "                prob4 = prob4+(math.log(theta4[words[j]+\" \"+words[j+1]]))\n",
    "            except:\n",
    "                prob4 = prob4+float(1/(t4+1))\n",
    "        \n",
    "        flag=0\n",
    "        try:\n",
    "            for j in emot.emoticons(i)['value']:\n",
    "                flag=1\n",
    "                prob0=prob0+math.log(emoji0[j])\n",
    "                prob4=prob4+math.log(emoji4[j])\n",
    "        except:\n",
    "            pass\n",
    "    \n",
    "        if(flag==0):\n",
    "            prob0 = prob0+float(1/(e0+1))\n",
    "            prob4 = prob4+float(1/(e4+1))\n",
    "        \n",
    "        \n",
    "        prob0 = prob0+(math.log(phi0))+(count0/51)\n",
    "#         prob2 = prob2+(math.log(phi2))\n",
    "        prob4 = prob4+(math.log(phi4))+(count4/51)\n",
    "        if(prob0>prob4):\n",
    "            pred.append(0)\n",
    "#         elif(prob2>prob0 and prob2>prob4):\n",
    "#             pred.append(2)\n",
    "        else:\n",
    "            pred.append(4)\n",
    "        pred0.append(prob0)\n",
    "        pred4.append(prob4)\n",
    "    return pred,pred0,pred4"
   ]
  },
  {
   "cell_type": "code",
   "execution_count": null,
   "metadata": {},
   "outputs": [],
   "source": [
    "st = time()\n",
    "# predictionTrain = findClasses(train[5],phi0,phi2,phi4,theta0,theta2,theta4,t0,t2,t4)\n",
    "predictionAddedTrain,predAdded0,predAdded4 = findAddedClasses(train[6],phiF0,phiF4,thetaF0,thetaF4,tF0,tF4,emoji0,emoji4,e0,e4)\n",
    "print(time()-st)"
   ]
  },
  {
   "cell_type": "code",
   "execution_count": null,
   "metadata": {},
   "outputs": [],
   "source": [
    "check = (train[0]==predictionAddedTrain)\n",
    "t=0\n",
    "f=0\n",
    "for i in check:\n",
    "    if i:\n",
    "        t=t+1\n",
    "    else:\n",
    "        f=f+1\n",
    "print(t/(t+f))"
   ]
  },
  {
   "cell_type": "code",
   "execution_count": null,
   "metadata": {},
   "outputs": [],
   "source": [
    "st = time()\n",
    "test = test[test[0]==0].append(test[test[0]==4])\n",
    "predictionAddedTest,predAddedTest0,predAddedTest4 = findAddedClasses(test[6],phiF0,phiF4,thetaF0,thetaF4,tF0,tF4,emoji0,emoji4,e0,e4)\n",
    "print(time()-st)"
   ]
  },
  {
   "cell_type": "code",
   "execution_count": null,
   "metadata": {},
   "outputs": [],
   "source": [
    "check = (test[0]==predictionAddedTest)\n",
    "t=0\n",
    "f=0\n",
    "for i in check:\n",
    "    if i:\n",
    "        t=t+1\n",
    "    else:\n",
    "        f=f+1\n",
    "print(t/(t+f))"
   ]
  },
  {
   "cell_type": "code",
   "execution_count": null,
   "metadata": {},
   "outputs": [],
   "source": [
    "matrix = confusionMatrix(test,predictionAddedTest)\n",
    "drawMatrix(matrix)"
   ]
  },
  {
   "cell_type": "markdown",
   "metadata": {},
   "source": [
    "# TF-IDF"
   ]
  },
  {
   "cell_type": "code",
   "execution_count": 49,
   "metadata": {},
   "outputs": [],
   "source": [
    "tfidf = TfidfVectorizer(min_df=0.0007)\n",
    "clf = GaussianNB()\n",
    "multi = MultinomialNB()"
   ]
  },
  {
   "cell_type": "code",
   "execution_count": 116,
   "metadata": {
    "scrolled": true
   },
   "outputs": [
    {
     "data": {
      "text/html": [
       "<div>\n",
       "<style scoped>\n",
       "    .dataframe tbody tr th:only-of-type {\n",
       "        vertical-align: middle;\n",
       "    }\n",
       "\n",
       "    .dataframe tbody tr th {\n",
       "        vertical-align: top;\n",
       "    }\n",
       "\n",
       "    .dataframe thead th {\n",
       "        text-align: right;\n",
       "    }\n",
       "</style>\n",
       "<table border=\"1\" class=\"dataframe\">\n",
       "  <thead>\n",
       "    <tr style=\"text-align: right;\">\n",
       "      <th></th>\n",
       "      <th>0</th>\n",
       "      <th>1</th>\n",
       "      <th>2</th>\n",
       "      <th>3</th>\n",
       "      <th>4</th>\n",
       "      <th>5</th>\n",
       "      <th>6</th>\n",
       "    </tr>\n",
       "  </thead>\n",
       "  <tbody>\n",
       "    <tr>\n",
       "      <th>0</th>\n",
       "      <td>0</td>\n",
       "      <td>1467810369</td>\n",
       "      <td>Mon Apr 06 22:19:45 PDT 2009</td>\n",
       "      <td>NO_QUERY</td>\n",
       "      <td>_TheSpecialOne_</td>\n",
       "      <td>@switchfoot http://twitpic.com/2y1zl - Awww, t...</td>\n",
       "      <td>http://twitpic com/2y1zl - awww  bummer   shou...</td>\n",
       "    </tr>\n",
       "    <tr>\n",
       "      <th>1</th>\n",
       "      <td>0</td>\n",
       "      <td>1467810672</td>\n",
       "      <td>Mon Apr 06 22:19:49 PDT 2009</td>\n",
       "      <td>NO_QUERY</td>\n",
       "      <td>scotthamilton</td>\n",
       "      <td>is upset that he can't update his Facebook by ...</td>\n",
       "      <td>upset updat hi facebook text    might cri resu...</td>\n",
       "    </tr>\n",
       "    <tr>\n",
       "      <th>2</th>\n",
       "      <td>0</td>\n",
       "      <td>1467810917</td>\n",
       "      <td>Mon Apr 06 22:19:53 PDT 2009</td>\n",
       "      <td>NO_QUERY</td>\n",
       "      <td>mattycus</td>\n",
       "      <td>@Kenichan I dived many times for the ball. Man...</td>\n",
       "      <td>dive mani time ball  manag save 50%  rest go b...</td>\n",
       "    </tr>\n",
       "    <tr>\n",
       "      <th>3</th>\n",
       "      <td>0</td>\n",
       "      <td>1467811184</td>\n",
       "      <td>Mon Apr 06 22:19:57 PDT 2009</td>\n",
       "      <td>NO_QUERY</td>\n",
       "      <td>ElleCTF</td>\n",
       "      <td>my whole body feels itchy and like its on fire</td>\n",
       "      <td>whole bodi feel itchi like fire</td>\n",
       "    </tr>\n",
       "    <tr>\n",
       "      <th>4</th>\n",
       "      <td>0</td>\n",
       "      <td>1467811193</td>\n",
       "      <td>Mon Apr 06 22:19:57 PDT 2009</td>\n",
       "      <td>NO_QUERY</td>\n",
       "      <td>Karoli</td>\n",
       "      <td>@nationwideclass no, it's not behaving at all....</td>\n",
       "      <td>behav  I mad  whi here? becaus see</td>\n",
       "    </tr>\n",
       "    <tr>\n",
       "      <th>...</th>\n",
       "      <td>...</td>\n",
       "      <td>...</td>\n",
       "      <td>...</td>\n",
       "      <td>...</td>\n",
       "      <td>...</td>\n",
       "      <td>...</td>\n",
       "      <td>...</td>\n",
       "    </tr>\n",
       "    <tr>\n",
       "      <th>1599995</th>\n",
       "      <td>4</td>\n",
       "      <td>2193601966</td>\n",
       "      <td>Tue Jun 16 08:40:49 PDT 2009</td>\n",
       "      <td>NO_QUERY</td>\n",
       "      <td>AmandaMarie1028</td>\n",
       "      <td>Just woke up. Having no school is the best fee...</td>\n",
       "      <td>woke  school best feel ever</td>\n",
       "    </tr>\n",
       "    <tr>\n",
       "      <th>1599996</th>\n",
       "      <td>4</td>\n",
       "      <td>2193601969</td>\n",
       "      <td>Tue Jun 16 08:40:49 PDT 2009</td>\n",
       "      <td>NO_QUERY</td>\n",
       "      <td>TheWDBoards</td>\n",
       "      <td>TheWDB.com - Very cool to hear old Walt interv...</td>\n",
       "      <td>thewdb com - veri cool hear old walt interview...</td>\n",
       "    </tr>\n",
       "    <tr>\n",
       "      <th>1599997</th>\n",
       "      <td>4</td>\n",
       "      <td>2193601991</td>\n",
       "      <td>Tue Jun 16 08:40:49 PDT 2009</td>\n",
       "      <td>NO_QUERY</td>\n",
       "      <td>bpbabe</td>\n",
       "      <td>Are you ready for your MoJo Makeover? Ask me f...</td>\n",
       "      <td>readi mojo makeover? ask detail</td>\n",
       "    </tr>\n",
       "    <tr>\n",
       "      <th>1599998</th>\n",
       "      <td>4</td>\n",
       "      <td>2193602064</td>\n",
       "      <td>Tue Jun 16 08:40:49 PDT 2009</td>\n",
       "      <td>NO_QUERY</td>\n",
       "      <td>tinydiamondz</td>\n",
       "      <td>Happy 38th Birthday to my boo of alll time!!! ...</td>\n",
       "      <td>happi 38th birthday boo alll time    tupac ama...</td>\n",
       "    </tr>\n",
       "    <tr>\n",
       "      <th>1599999</th>\n",
       "      <td>4</td>\n",
       "      <td>2193602129</td>\n",
       "      <td>Tue Jun 16 08:40:50 PDT 2009</td>\n",
       "      <td>NO_QUERY</td>\n",
       "      <td>RyanTrevMorris</td>\n",
       "      <td>happy #charitytuesday @theNSPCC @SparksCharity...</td>\n",
       "      <td>happi #charitytuesday</td>\n",
       "    </tr>\n",
       "  </tbody>\n",
       "</table>\n",
       "<p>1600000 rows × 7 columns</p>\n",
       "</div>"
      ],
      "text/plain": [
       "         0           1                             2         3  \\\n",
       "0        0  1467810369  Mon Apr 06 22:19:45 PDT 2009  NO_QUERY   \n",
       "1        0  1467810672  Mon Apr 06 22:19:49 PDT 2009  NO_QUERY   \n",
       "2        0  1467810917  Mon Apr 06 22:19:53 PDT 2009  NO_QUERY   \n",
       "3        0  1467811184  Mon Apr 06 22:19:57 PDT 2009  NO_QUERY   \n",
       "4        0  1467811193  Mon Apr 06 22:19:57 PDT 2009  NO_QUERY   \n",
       "...     ..         ...                           ...       ...   \n",
       "1599995  4  2193601966  Tue Jun 16 08:40:49 PDT 2009  NO_QUERY   \n",
       "1599996  4  2193601969  Tue Jun 16 08:40:49 PDT 2009  NO_QUERY   \n",
       "1599997  4  2193601991  Tue Jun 16 08:40:49 PDT 2009  NO_QUERY   \n",
       "1599998  4  2193602064  Tue Jun 16 08:40:49 PDT 2009  NO_QUERY   \n",
       "1599999  4  2193602129  Tue Jun 16 08:40:50 PDT 2009  NO_QUERY   \n",
       "\n",
       "                       4                                                  5  \\\n",
       "0        _TheSpecialOne_  @switchfoot http://twitpic.com/2y1zl - Awww, t...   \n",
       "1          scotthamilton  is upset that he can't update his Facebook by ...   \n",
       "2               mattycus  @Kenichan I dived many times for the ball. Man...   \n",
       "3                ElleCTF    my whole body feels itchy and like its on fire    \n",
       "4                 Karoli  @nationwideclass no, it's not behaving at all....   \n",
       "...                  ...                                                ...   \n",
       "1599995  AmandaMarie1028  Just woke up. Having no school is the best fee...   \n",
       "1599996      TheWDBoards  TheWDB.com - Very cool to hear old Walt interv...   \n",
       "1599997           bpbabe  Are you ready for your MoJo Makeover? Ask me f...   \n",
       "1599998     tinydiamondz  Happy 38th Birthday to my boo of alll time!!! ...   \n",
       "1599999   RyanTrevMorris  happy #charitytuesday @theNSPCC @SparksCharity...   \n",
       "\n",
       "                                                         6  \n",
       "0        http://twitpic com/2y1zl - awww  bummer   shou...  \n",
       "1        upset updat hi facebook text    might cri resu...  \n",
       "2        dive mani time ball  manag save 50%  rest go b...  \n",
       "3                         whole bodi feel itchi like fire   \n",
       "4                     behav  I mad  whi here? becaus see    \n",
       "...                                                    ...  \n",
       "1599995                       woke  school best feel ever   \n",
       "1599996  thewdb com - veri cool hear old walt interview...  \n",
       "1599997                   readi mojo makeover? ask detail   \n",
       "1599998  happi 38th birthday boo alll time    tupac ama...  \n",
       "1599999                             happi #charitytuesday   \n",
       "\n",
       "[1600000 rows x 7 columns]"
      ]
     },
     "execution_count": 116,
     "metadata": {},
     "output_type": "execute_result"
    }
   ],
   "source": [
    "train"
   ]
  },
  {
   "cell_type": "code",
   "execution_count": 117,
   "metadata": {},
   "outputs": [
    {
     "name": "stdout",
     "output_type": "stream",
     "text": [
      "13.121570348739624\n"
     ]
    }
   ],
   "source": [
    "st=time()\n",
    "X = tfidf.fit_transform(train[6])\n",
    "print(time()-st)"
   ]
  },
  {
   "cell_type": "code",
   "execution_count": 119,
   "metadata": {},
   "outputs": [
    {
     "data": {
      "text/plain": [
       "(1600000, 1328)"
      ]
     },
     "execution_count": 119,
     "metadata": {},
     "output_type": "execute_result"
    }
   ],
   "source": [
    "X.shape"
   ]
  },
  {
   "cell_type": "code",
   "execution_count": 203,
   "metadata": {},
   "outputs": [],
   "source": [
    "def tfidfVectorizer(clf,X,data):\n",
    "    for i in tqdm(range(0,data.shape[0]//1000)):\n",
    "        clf.partial_fit(X[1000*i:1000*(i+1)].todense(),data[0][1000*i:1000*(i+1)],classes=np.array([0,4]))\n",
    "    return clf\n",
    "\n",
    "def tfidfMultiVectorizer(multi,X,data):\n",
    "    for i in tqdm(range(0,data.shape[0]//1000)):\n",
    "        multi.partial_fit(X[1000*i:1000*(i+1)].todense(),data[0][1000*i:1000*(i+1)],classes=np.array([0,4]))\n",
    "    return multi"
   ]
  },
  {
   "cell_type": "code",
   "execution_count": 204,
   "metadata": {},
   "outputs": [
    {
     "name": "stderr",
     "output_type": "stream",
     "text": [
      "100%|██████████| 1600/1600 [00:21<00:00, 73.69it/s]\n"
     ]
    }
   ],
   "source": [
    "clf = tfidfVectorizer(clf,X,train) "
   ]
  },
  {
   "cell_type": "code",
   "execution_count": 205,
   "metadata": {},
   "outputs": [],
   "source": [
    "# multi = tfidfMultiVectorizer(multi,train)\n",
    "# filename = 'tfidfClf.sav'\n",
    "# pickle.dump(clf, open(filename, 'wb'))\n",
    "loaded_model = pickle.load(open(\"tfidfClf.sav\", 'rb'))"
   ]
  },
  {
   "cell_type": "code",
   "execution_count": 206,
   "metadata": {},
   "outputs": [
    {
     "data": {
      "text/plain": [
       "MultinomialNB(alpha=1.0, class_prior=None, fit_prior=True)"
      ]
     },
     "execution_count": 206,
     "metadata": {},
     "output_type": "execute_result"
    }
   ],
   "source": [
    "demo = MultinomialNB()\n",
    "demo.fit(X,train[0])"
   ]
  },
  {
   "cell_type": "code",
   "execution_count": 207,
   "metadata": {},
   "outputs": [
    {
     "name": "stdout",
     "output_type": "stream",
     "text": [
      "0.006566047668457031\n"
     ]
    }
   ],
   "source": [
    "st=time()\n",
    "Y = tfidf.transform(test[6])\n",
    "testDense = Y.todense()\n",
    "print(time()-st)"
   ]
  },
  {
   "cell_type": "code",
   "execution_count": 208,
   "metadata": {},
   "outputs": [
    {
     "data": {
      "text/plain": [
       "(359, 1388)"
      ]
     },
     "execution_count": 208,
     "metadata": {},
     "output_type": "execute_result"
    }
   ],
   "source": [
    "testDense.shape"
   ]
  },
  {
   "cell_type": "code",
   "execution_count": 209,
   "metadata": {},
   "outputs": [],
   "source": [
    "predictionTestTfidf = clf.predict(testDense)"
   ]
  },
  {
   "cell_type": "code",
   "execution_count": 210,
   "metadata": {},
   "outputs": [
    {
     "name": "stdout",
     "output_type": "stream",
     "text": [
      "0.7743732590529248\n"
     ]
    }
   ],
   "source": [
    "check = (test[0]==predictionTestTfidf)\n",
    "t=0\n",
    "f=0\n",
    "for i in check:\n",
    "    if i:\n",
    "        t=t+1\n",
    "    else:\n",
    "        f=f+1\n",
    "print(t/(t+f))"
   ]
  },
  {
   "cell_type": "code",
   "execution_count": 164,
   "metadata": {},
   "outputs": [
    {
     "name": "stdout",
     "output_type": "stream",
     "text": [
      "0.7827298050139275\n"
     ]
    }
   ],
   "source": [
    "predMulti = demo.predict(Y)\n",
    "check = (test[0]==predMulti)\n",
    "t=0\n",
    "f=0\n",
    "for i in check:\n",
    "    if i:\n",
    "        t=t+1\n",
    "    else:\n",
    "        f=f+1\n",
    "print(t/(t+f))"
   ]
  },
  {
   "cell_type": "code",
   "execution_count": 165,
   "metadata": {},
   "outputs": [],
   "source": [
    "Y = train[0]\n",
    "percentile = SelectPercentile(chi2, percentile=10)\n",
    "selectedData = percentile.fit_transform(X,Y)"
   ]
  },
  {
   "cell_type": "code",
   "execution_count": 166,
   "metadata": {},
   "outputs": [
    {
     "name": "stderr",
     "output_type": "stream",
     "text": [
      "  1%|▏         | 21/1600 [00:06<08:26,  3.12it/s]\n"
     ]
    },
    {
     "ename": "KeyboardInterrupt",
     "evalue": "",
     "output_type": "error",
     "traceback": [
      "\u001b[0;31m---------------------------------------------------------------------------\u001b[0m",
      "\u001b[0;31mKeyboardInterrupt\u001b[0m                         Traceback (most recent call last)",
      "\u001b[0;32m<ipython-input-166-4ac836f83aae>\u001b[0m in \u001b[0;36m<module>\u001b[0;34m\u001b[0m\n\u001b[1;32m      1\u001b[0m \u001b[0mclf2\u001b[0m \u001b[0;34m=\u001b[0m \u001b[0mGaussianNB\u001b[0m\u001b[0;34m(\u001b[0m\u001b[0;34m)\u001b[0m\u001b[0;34m\u001b[0m\u001b[0;34m\u001b[0m\u001b[0m\n\u001b[0;32m----> 2\u001b[0;31m \u001b[0mper10\u001b[0m \u001b[0;34m=\u001b[0m \u001b[0mtfidfVectorizer\u001b[0m\u001b[0;34m(\u001b[0m\u001b[0mclf2\u001b[0m\u001b[0;34m,\u001b[0m\u001b[0mselectedData\u001b[0m\u001b[0;34m,\u001b[0m\u001b[0mtrain\u001b[0m\u001b[0;34m)\u001b[0m\u001b[0;34m\u001b[0m\u001b[0;34m\u001b[0m\u001b[0m\n\u001b[0m",
      "\u001b[0;32m<ipython-input-145-1937891daba3>\u001b[0m in \u001b[0;36mtfidfVectorizer\u001b[0;34m(clf, X, data)\u001b[0m\n\u001b[1;32m      1\u001b[0m \u001b[0;32mdef\u001b[0m \u001b[0mtfidfVectorizer\u001b[0m\u001b[0;34m(\u001b[0m\u001b[0mclf\u001b[0m\u001b[0;34m,\u001b[0m\u001b[0mX\u001b[0m\u001b[0;34m,\u001b[0m\u001b[0mdata\u001b[0m\u001b[0;34m)\u001b[0m\u001b[0;34m:\u001b[0m\u001b[0;34m\u001b[0m\u001b[0;34m\u001b[0m\u001b[0m\n\u001b[1;32m      2\u001b[0m     \u001b[0;32mfor\u001b[0m \u001b[0mi\u001b[0m \u001b[0;32min\u001b[0m \u001b[0mtqdm\u001b[0m\u001b[0;34m(\u001b[0m\u001b[0mrange\u001b[0m\u001b[0;34m(\u001b[0m\u001b[0;36m0\u001b[0m\u001b[0;34m,\u001b[0m\u001b[0mdata\u001b[0m\u001b[0;34m.\u001b[0m\u001b[0mshape\u001b[0m\u001b[0;34m[\u001b[0m\u001b[0;36m0\u001b[0m\u001b[0;34m]\u001b[0m\u001b[0;34m//\u001b[0m\u001b[0;36m1000\u001b[0m\u001b[0;34m)\u001b[0m\u001b[0;34m)\u001b[0m\u001b[0;34m:\u001b[0m\u001b[0;34m\u001b[0m\u001b[0;34m\u001b[0m\u001b[0m\n\u001b[0;32m----> 3\u001b[0;31m         \u001b[0mclf\u001b[0m\u001b[0;34m.\u001b[0m\u001b[0mpartial_fit\u001b[0m\u001b[0;34m(\u001b[0m\u001b[0mX\u001b[0m\u001b[0;34m[\u001b[0m\u001b[0;36m1000\u001b[0m\u001b[0;34m*\u001b[0m\u001b[0mi\u001b[0m\u001b[0;34m:\u001b[0m\u001b[0;36m1000\u001b[0m\u001b[0;34m*\u001b[0m\u001b[0;34m(\u001b[0m\u001b[0mi\u001b[0m\u001b[0;34m+\u001b[0m\u001b[0;36m1\u001b[0m\u001b[0;34m)\u001b[0m\u001b[0;34m]\u001b[0m\u001b[0;34m.\u001b[0m\u001b[0mtodense\u001b[0m\u001b[0;34m(\u001b[0m\u001b[0;34m)\u001b[0m\u001b[0;34m,\u001b[0m\u001b[0mdata\u001b[0m\u001b[0;34m[\u001b[0m\u001b[0;36m0\u001b[0m\u001b[0;34m]\u001b[0m\u001b[0;34m[\u001b[0m\u001b[0;36m1000\u001b[0m\u001b[0;34m*\u001b[0m\u001b[0mi\u001b[0m\u001b[0;34m:\u001b[0m\u001b[0;36m1000\u001b[0m\u001b[0;34m*\u001b[0m\u001b[0;34m(\u001b[0m\u001b[0mi\u001b[0m\u001b[0;34m+\u001b[0m\u001b[0;36m1\u001b[0m\u001b[0;34m)\u001b[0m\u001b[0;34m]\u001b[0m\u001b[0;34m,\u001b[0m\u001b[0mclasses\u001b[0m\u001b[0;34m=\u001b[0m\u001b[0mnp\u001b[0m\u001b[0;34m.\u001b[0m\u001b[0marray\u001b[0m\u001b[0;34m(\u001b[0m\u001b[0;34m[\u001b[0m\u001b[0;36m0\u001b[0m\u001b[0;34m,\u001b[0m\u001b[0;36m4\u001b[0m\u001b[0;34m]\u001b[0m\u001b[0;34m)\u001b[0m\u001b[0;34m)\u001b[0m\u001b[0;34m\u001b[0m\u001b[0;34m\u001b[0m\u001b[0m\n\u001b[0m\u001b[1;32m      4\u001b[0m     \u001b[0;32mreturn\u001b[0m \u001b[0mclf\u001b[0m\u001b[0;34m\u001b[0m\u001b[0;34m\u001b[0m\u001b[0m\n\u001b[1;32m      5\u001b[0m \u001b[0;34m\u001b[0m\u001b[0m\n",
      "\u001b[0;32m~/anaconda3/lib/python3.7/site-packages/sklearn/naive_bayes.py\u001b[0m in \u001b[0;36mpartial_fit\u001b[0;34m(self, X, y, classes, sample_weight)\u001b[0m\n\u001b[1;32m    326\u001b[0m         \"\"\"\n\u001b[1;32m    327\u001b[0m         return self._partial_fit(X, y, classes, _refit=False,\n\u001b[0;32m--> 328\u001b[0;31m                                  sample_weight=sample_weight)\n\u001b[0m\u001b[1;32m    329\u001b[0m \u001b[0;34m\u001b[0m\u001b[0m\n\u001b[1;32m    330\u001b[0m     def _partial_fit(self, X, y, classes=None, _refit=False,\n",
      "\u001b[0;32m~/anaconda3/lib/python3.7/site-packages/sklearn/naive_bayes.py\u001b[0m in \u001b[0;36m_partial_fit\u001b[0;34m(self, X, y, classes, _refit, sample_weight)\u001b[0m\n\u001b[1;32m    366\u001b[0m         \u001b[0;31m# boost the variance by epsilon, a small fraction of the standard\u001b[0m\u001b[0;34m\u001b[0m\u001b[0;34m\u001b[0m\u001b[0;34m\u001b[0m\u001b[0m\n\u001b[1;32m    367\u001b[0m         \u001b[0;31m# deviation of the largest dimension.\u001b[0m\u001b[0;34m\u001b[0m\u001b[0;34m\u001b[0m\u001b[0;34m\u001b[0m\u001b[0m\n\u001b[0;32m--> 368\u001b[0;31m         \u001b[0mself\u001b[0m\u001b[0;34m.\u001b[0m\u001b[0mepsilon_\u001b[0m \u001b[0;34m=\u001b[0m \u001b[0mself\u001b[0m\u001b[0;34m.\u001b[0m\u001b[0mvar_smoothing\u001b[0m \u001b[0;34m*\u001b[0m \u001b[0mnp\u001b[0m\u001b[0;34m.\u001b[0m\u001b[0mvar\u001b[0m\u001b[0;34m(\u001b[0m\u001b[0mX\u001b[0m\u001b[0;34m,\u001b[0m \u001b[0maxis\u001b[0m\u001b[0;34m=\u001b[0m\u001b[0;36m0\u001b[0m\u001b[0;34m)\u001b[0m\u001b[0;34m.\u001b[0m\u001b[0mmax\u001b[0m\u001b[0;34m(\u001b[0m\u001b[0;34m)\u001b[0m\u001b[0;34m\u001b[0m\u001b[0;34m\u001b[0m\u001b[0m\n\u001b[0m\u001b[1;32m    369\u001b[0m \u001b[0;34m\u001b[0m\u001b[0m\n\u001b[1;32m    370\u001b[0m         \u001b[0;32mif\u001b[0m \u001b[0m_refit\u001b[0m\u001b[0;34m:\u001b[0m\u001b[0;34m\u001b[0m\u001b[0;34m\u001b[0m\u001b[0m\n",
      "\u001b[0;32m<__array_function__ internals>\u001b[0m in \u001b[0;36mvar\u001b[0;34m(*args, **kwargs)\u001b[0m\n",
      "\u001b[0;32m~/anaconda3/lib/python3.7/site-packages/numpy/core/fromnumeric.py\u001b[0m in \u001b[0;36mvar\u001b[0;34m(a, axis, dtype, out, ddof, keepdims)\u001b[0m\n\u001b[1;32m   3582\u001b[0m \u001b[0;34m\u001b[0m\u001b[0m\n\u001b[1;32m   3583\u001b[0m     return _methods._var(a, axis=axis, dtype=dtype, out=out, ddof=ddof,\n\u001b[0;32m-> 3584\u001b[0;31m                          **kwargs)\n\u001b[0m\u001b[1;32m   3585\u001b[0m \u001b[0;34m\u001b[0m\u001b[0m\n\u001b[1;32m   3586\u001b[0m \u001b[0;34m\u001b[0m\u001b[0m\n",
      "\u001b[0;32m~/anaconda3/lib/python3.7/site-packages/numpy/core/_methods.py\u001b[0m in \u001b[0;36m_var\u001b[0;34m(a, axis, dtype, out, ddof, keepdims)\u001b[0m\n\u001b[1;32m    197\u001b[0m         \u001b[0mx\u001b[0m \u001b[0;34m=\u001b[0m \u001b[0mum\u001b[0m\u001b[0;34m.\u001b[0m\u001b[0mmultiply\u001b[0m\u001b[0;34m(\u001b[0m\u001b[0mx\u001b[0m\u001b[0;34m,\u001b[0m \u001b[0mum\u001b[0m\u001b[0;34m.\u001b[0m\u001b[0mconjugate\u001b[0m\u001b[0;34m(\u001b[0m\u001b[0mx\u001b[0m\u001b[0;34m)\u001b[0m\u001b[0;34m,\u001b[0m \u001b[0mout\u001b[0m\u001b[0;34m=\u001b[0m\u001b[0mx\u001b[0m\u001b[0;34m)\u001b[0m\u001b[0;34m.\u001b[0m\u001b[0mreal\u001b[0m\u001b[0;34m\u001b[0m\u001b[0;34m\u001b[0m\u001b[0m\n\u001b[1;32m    198\u001b[0m \u001b[0;34m\u001b[0m\u001b[0m\n\u001b[0;32m--> 199\u001b[0;31m     \u001b[0mret\u001b[0m \u001b[0;34m=\u001b[0m \u001b[0mumr_sum\u001b[0m\u001b[0;34m(\u001b[0m\u001b[0mx\u001b[0m\u001b[0;34m,\u001b[0m \u001b[0maxis\u001b[0m\u001b[0;34m,\u001b[0m \u001b[0mdtype\u001b[0m\u001b[0;34m,\u001b[0m \u001b[0mout\u001b[0m\u001b[0;34m,\u001b[0m \u001b[0mkeepdims\u001b[0m\u001b[0;34m)\u001b[0m\u001b[0;34m\u001b[0m\u001b[0;34m\u001b[0m\u001b[0m\n\u001b[0m\u001b[1;32m    200\u001b[0m \u001b[0;34m\u001b[0m\u001b[0m\n\u001b[1;32m    201\u001b[0m     \u001b[0;31m# Compute degrees of freedom and make sure it is not negative.\u001b[0m\u001b[0;34m\u001b[0m\u001b[0;34m\u001b[0m\u001b[0;34m\u001b[0m\u001b[0m\n",
      "\u001b[0;31mKeyboardInterrupt\u001b[0m: "
     ]
    }
   ],
   "source": [
    "clf2 = GaussianNB()\n",
    "per10 = tfidfVectorizer(clf2,selectedData,train)"
   ]
  },
  {
   "cell_type": "code",
   "execution_count": 73,
   "metadata": {},
   "outputs": [
    {
     "name": "stdout",
     "output_type": "stream",
     "text": [
      "0.17064595222473145\n"
     ]
    }
   ],
   "source": [
    "st=time()\n",
    "Y = tfidf.transform(test[6])\n",
    "testDense = Y.todense()\n",
    "testDense10per = percentile.transform(testDense)\n",
    "print(time()-st)"
   ]
  },
  {
   "cell_type": "code",
   "execution_count": 74,
   "metadata": {},
   "outputs": [],
   "source": [
    "prediction10per = clf2.predict(testDense10per)"
   ]
  },
  {
   "cell_type": "code",
   "execution_count": 75,
   "metadata": {},
   "outputs": [
    {
     "name": "stdout",
     "output_type": "stream",
     "text": [
      "0.5431754874651811\n"
     ]
    }
   ],
   "source": [
    "check = (test[0]==prediction10per)\n",
    "t=0\n",
    "f=0\n",
    "for i in check:\n",
    "    if i:\n",
    "        t=t+1\n",
    "    else:\n",
    "        f=f+1\n",
    "print(t/(t+f))"
   ]
  },
  {
   "cell_type": "markdown",
   "metadata": {},
   "source": [
    "# G"
   ]
  },
  {
   "cell_type": "code",
   "execution_count": 123,
   "metadata": {},
   "outputs": [],
   "source": [
    "def rocCurve(data,prob0,prob4):\n",
    "    y = label_binarize(data[0],classes=[0,4])\n",
    "    fpr = dict()\n",
    "    tpr = dict()\n",
    "    roc_auc = dict()\n",
    "    fpr[0], tpr[0], _ = roc_curve(y,prob0)\n",
    "    roc_auc[0] = auc(fpr[0], tpr[0])\n",
    "    fpr[1], tpr[1], _ = roc_curve(y,prob4)\n",
    "    roc_auc[1] = auc(fpr[1], tpr[1])\n",
    "\n",
    "    plt.figure()\n",
    "    lw = 2\n",
    "    plt.plot(fpr[0], tpr[0], color='darkorange',lw=lw, label='ROC curve for Class 0(area = %0.2f)' % roc_auc[0])\n",
    "    plt.plot(fpr[1], tpr[1], color='cyan',lw=lw, label='ROC curve for Class 1(area = %0.2f)' % roc_auc[1])\n",
    "    plt.plot([0, 1], [0, 1], color='navy', lw=lw, linestyle='--')\n",
    "    plt.xlim([0.0, 1.0])\n",
    "    plt.ylim([0.0, 1.05])\n",
    "    plt.xlabel('False Positive Rate')\n",
    "    plt.ylabel('True Positive Rate')\n",
    "    plt.title('Receiver operating characteristic')\n",
    "    plt.legend(loc=\"lower right\")\n",
    "    plt.show()"
   ]
  },
  {
   "cell_type": "code",
   "execution_count": 125,
   "metadata": {},
   "outputs": [
    {
     "data": {
      "image/png": "[encoded data removed]",
      "text/plain": [
       "<Figure size 432x288 with 1 Axes>"
      ]
     },
     "metadata": {},
     "output_type": "display_data"
    }
   ],
   "source": [
    "# probGaussian = loaded_model.predict_log_proba(testDense)\n",
    "# probMulti = demo.predict_log_proba(Y)\n",
    "# rocCurve(test,probGaussian[:,0],probGaussian[:,1])\n",
    "rocCurve(test,CpredTest0,CpredTest4)"
   ]
  }
 ],
 "metadata": {
  "kernelspec": {
   "display_name": "Python 3",
   "language": "python",
   "name": "python3"
  },
  "language_info": {
   "codemirror_mode": {
    "name": "ipython",
    "version": 3
   },
   "file_extension": ".py",
   "mimetype": "text/x-python",
   "name": "python",
   "nbconvert_exporter": "python",
   "pygments_lexer": "ipython3",
   "version": "3.7.4"
  }
 },
 "nbformat": 4,
 "nbformat_minor": 2
}
