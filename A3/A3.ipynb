{
 "cells": [
  {
   "cell_type": "code",
   "execution_count": 22,
   "metadata": {},
   "outputs": [],
   "source": [
    "import numpy as np\n",
    "import multiprocessing as mp\n",
    "from xclib.data import data_utils\n",
    "import scipy\n",
    "import math\n",
    "from tqdm import tqdm\n",
    "from time import time\n",
    "from sklearn.tree import DecisionTreeClassifier\n",
    "import pickle\n",
    "from joblib import Parallel, delayed\n",
    "import itertools"
   ]
  },
  {
   "cell_type": "code",
   "execution_count": 2,
   "metadata": {},
   "outputs": [
    {
     "name": "stderr",
     "output_type": "stream",
     "text": [
      "/home/kartik/.local/lib/python3.7/site-packages/xclib-0.96-py3.7-linux-x86_64.egg/xclib/data/data_utils.py:173: UserWarning: Header mis-match from inferred shape!\n",
      "  warnings.warn(\"Header mis-match from inferred shape!\")\n"
     ]
    }
   ],
   "source": [
    "path = \"virus/ass3_parta_data\"\n",
    "trainX = data_utils.read_sparse_file(path+\"/train_x.txt\").toarray()\n",
    "trainY = np.loadtxt(path+\"/train_y.txt\")\n",
    "testX = data_utils.read_sparse_file(path+\"/test_x.txt\").toarray()\n",
    "testY = np.loadtxt(path+\"/test_y.txt\")\n",
    "valX = data_utils.read_sparse_file(path+\"/valid_x.txt\").toarray()\n",
    "valY = np.loadtxt(path+\"/valid_y.txt\")"
   ]
  },
  {
   "cell_type": "code",
   "execution_count": 3,
   "metadata": {},
   "outputs": [],
   "source": [
    "clf = DecisionTreeClassifier(criterion='entropy',random_state=0)"
   ]
  },
  {
   "cell_type": "code",
   "execution_count": 4,
   "metadata": {},
   "outputs": [
    {
     "name": "stdout",
     "output_type": "stream",
     "text": [
      "9.57831859588623\n"
     ]
    }
   ],
   "source": [
    "st = time()\n",
    "clf.fit(trainX,trainY)\n",
    "print(time()-st)"
   ]
  },
  {
   "cell_type": "code",
   "execution_count": 5,
   "metadata": {},
   "outputs": [
    {
     "data": {
      "text/plain": [
       "0.9127223278166674"
      ]
     },
     "execution_count": 5,
     "metadata": {},
     "output_type": "execute_result"
    }
   ],
   "source": [
    "clf.score(trainX,trainY)"
   ]
  },
  {
   "cell_type": "code",
   "execution_count": 6,
   "metadata": {},
   "outputs": [],
   "source": [
    "class Node:\n",
    "    def __init__(self,attr,splitVal,value,left,right):\n",
    "        self.left = left\n",
    "        self.right = right\n",
    "        self.attr = attr\n",
    "        self.splitVal = splitVal\n",
    "        self.majority = value\n",
    "        \n",
    "class DecisionTree:\n",
    "    def __init__(self):\n",
    "        return\n",
    "    \n",
    "    def chooseBestAttr(self,dataX,dataY):\n",
    "        pos = np.sum(dataY==1)\n",
    "        neg = dataY.shape[0]-pos\n",
    "        HY = -(pos/dataY.shape[0])*math.log(pos/dataY.shape[0])-(neg/dataY.shape[0])*math.log(neg/dataY.shape[0])\n",
    "        entropyList=[]\n",
    "        for i in (range(dataX.shape[1])):\n",
    "            seq = dataX[:,i]\n",
    "            splitVal = np.median(seq)\n",
    "            indices0 = np.where(dataX[:,i] <= splitVal)[0]\n",
    "            indices1 = np.where(dataX[:,i] > splitVal)[0]\n",
    "            if(indices0.shape[0]==0 or indices1.shape[0]==0):\n",
    "                entropyList.append(0)\n",
    "                continue\n",
    "\n",
    "            D0,Y0 = dataX[indices0,:],dataY[indices0]\n",
    "            D1,Y1 = dataX[indices1,:],dataY[indices1]\n",
    "\n",
    "            pos = np.sum(Y0==1)\n",
    "            neg = Y0.shape[0]-pos\n",
    "            if(pos==0 or neg==0):\n",
    "                H0=0\n",
    "            else:\n",
    "                H0 = -(pos/Y0.shape[0])*math.log(pos/Y0.shape[0])-(neg/Y0.shape[0])*math.log(neg/Y0.shape[0])\n",
    "            H0 = (indices0.shape[0]/dataX.shape[0])*H0\n",
    "            pos = np.sum(Y1==1)\n",
    "            neg = Y1.shape[0]-pos\n",
    "            if(pos==0 or neg==0):\n",
    "                H1=0\n",
    "            else:\n",
    "                H1 = -(pos/Y1.shape[0])*math.log(pos/Y1.shape[0])-(neg/Y1.shape[0])*math.log(neg/Y1.shape[0])\n",
    "            H1 = (indices1.shape[0]/dataX.shape[0])*H1\n",
    "            entropyList.append(HY-H0-H1)\n",
    "        if(sum(entropyList)==0):\n",
    "            return -1\n",
    "        return entropyList.index(max(entropyList))\n",
    "    \n",
    "    def growTree(self,dataX,dataY):\n",
    "        if(np.sum(dataY==1) == dataY.shape[0]):\n",
    "            return Node(-1,-1,1,None,None)\n",
    "        if(np.sum(dataY==0) == dataY.shape[0]):\n",
    "            return Node(-1,-1,0,None,None)\n",
    "    \n",
    "        attr = self.chooseBestAttr(dataX,dataY)\n",
    "        s = np.sum(dataY)\n",
    "        if(s > dataY.shape[0]/2):\n",
    "            val=1\n",
    "        else:\n",
    "            val=0\n",
    "        if(attr==-1):\n",
    "            return Node(-1,-1,val,None,None)\n",
    "\n",
    "        seq = dataX[:,attr]\n",
    "        splitVal = np.median(seq)\n",
    "        indices0 = np.where(dataX[:,attr] <= splitVal)[0]\n",
    "        indices1 = np.where(dataX[:,attr] > splitVal)[0]\n",
    "        D0,Y0 = dataX[indices0,:],dataY[indices0]\n",
    "        D1,Y1 = dataX[indices1,:],dataY[indices1]\n",
    "\n",
    "        return Node(attr,splitVal,val,self.growTree(D0,Y0),self.growTree(D1,Y1))\n",
    "\n",
    "    def fit(self,dataX,dataY):\n",
    "        self.root = self.growTree(dataX,dataY)\n",
    "\n",
    "    def findDepth(self,root):\n",
    "        if(root==None):\n",
    "            return 0\n",
    "        return max(self.findDepth(root.left),self.findDepth(root.right))+1\n",
    "    \n",
    "    def findNodes(self,root):\n",
    "        if(root==None):\n",
    "            return 0\n",
    "        l = self.findNodes(root.left)\n",
    "        r = self.findNodes(root.right)\n",
    "        return l+r+1\n",
    "\n",
    "    def traverseTree(self,x,node):\n",
    "        if(node.left==None and node.right==None):\n",
    "            return node.majority\n",
    "        if(x[node.attr]<=node.splitVal):\n",
    "            return self.traverseTree(x,node.left)\n",
    "        return self.traverseTree(x,node.right)\n",
    "\n",
    "    def predict(self,dataX):\n",
    "        predictions = []\n",
    "        for i in dataX:\n",
    "            predictions.append(self.traverseTree(i,self.root))\n",
    "        predictions = np.array(predictions)\n",
    "        return predictions\n",
    "    \n",
    "    def score(self,pred,dataY):\n",
    "        check = (pred==dataY)\n",
    "        return np.sum(check)/dataY.shape[0]\n",
    "\n",
    "    def checkBinary(self,root):\n",
    "        if(root.left==None and root.right==None):\n",
    "            return 1\n",
    "        if(root.left!=None):\n",
    "            l = self.checkBinary(root.left)\n",
    "        else:\n",
    "            l=0\n",
    "        if(root.right!=None):\n",
    "            r = self.checkBinary(root.right)\n",
    "        else:\n",
    "            r=0\n",
    "        return (l and r)\n",
    "\n",
    "    def pruneNodes(self,root,valX,valY,acc):\n",
    "        if(root.left==None and root.right==None):\n",
    "            return acc\n",
    "        acc1 = self.pruneNodes(root.left,valX,valY,acc)\n",
    "        acc2 = self.pruneNodes(root.right,valX,valY,acc1)\n",
    "\n",
    "        if(root.left.left==None and root.left.right==None and root.right.left==None and root.right.right==None):\n",
    "            tempAtt = root.attr\n",
    "            tempLeft = root.left\n",
    "            tempRight = root.right\n",
    "            tempSplit = root.splitVal\n",
    "\n",
    "            root.attr = -1\n",
    "            root.splitVal = -1\n",
    "            root.left = None\n",
    "            root.right = None\n",
    "\n",
    "            newAcc = self.score(self.predict(valX),valY)\n",
    "            if(newAcc < acc2):\n",
    "                root.attr = tempAtt\n",
    "                root.left = tempLeft\n",
    "                root.right = tempRight\n",
    "                root.splitVal = tempSplit\n",
    "                return acc2\n",
    "            else:\n",
    "                return newAcc\n",
    "                \n",
    "        return acc2\n",
    "\n",
    "    def prune(self,valX,valY):\n",
    "        acc = self.score(self.predict(valX),valY)\n",
    "        self.pruneNodes(self.root,valX,valY,acc)"
   ]
  },
  {
   "cell_type": "code",
   "execution_count": 19,
   "metadata": {},
   "outputs": [
    {
     "name": "stdout",
     "output_type": "stream",
     "text": [
      "0.09637856483459473\n"
     ]
    }
   ],
   "source": [
    "clf = DecisionTree()\n",
    "try:\n",
    "    st = time()\n",
    "    pickle_in = open(\"tree.pickle\",\"rb\")\n",
    "    clf = pickle.load(pickle_in)\n",
    "    print(time()-st)\n",
    "except:\n",
    "    st = time()\n",
    "    clf.fit(trainX,trainY)\n",
    "    print(time()-st)\n",
    "    with open('tree.pickle', 'wb') as f:\n",
    "        pickle.dump(clf, f)"
   ]
  },
  {
   "cell_type": "code",
   "execution_count": 9,
   "metadata": {},
   "outputs": [
    {
     "data": {
      "text/plain": [
       "20045"
      ]
     },
     "execution_count": 9,
     "metadata": {},
     "output_type": "execute_result"
    }
   ],
   "source": [
    "clf.findNodes(clf.root)"
   ]
  },
  {
   "cell_type": "code",
   "execution_count": 10,
   "metadata": {},
   "outputs": [
    {
     "data": {
      "text/plain": [
       "0.9047023009287161"
      ]
     },
     "execution_count": 10,
     "metadata": {},
     "output_type": "execute_result"
    }
   ],
   "source": [
    "predTrain = clf.predict(trainX)\n",
    "trainScore = clf.score(predTrain,trainY)\n",
    "trainScore"
   ]
  },
  {
   "cell_type": "code",
   "execution_count": 11,
   "metadata": {},
   "outputs": [
    {
     "data": {
      "text/plain": [
       "0.7797505910713458"
      ]
     },
     "execution_count": 11,
     "metadata": {},
     "output_type": "execute_result"
    }
   ],
   "source": [
    "predTest = clf.predict(testX)\n",
    "testScore = clf.score(predTest,testY)\n",
    "testScore"
   ]
  },
  {
   "cell_type": "code",
   "execution_count": 12,
   "metadata": {},
   "outputs": [
    {
     "data": {
      "text/plain": [
       "0.775913220841832"
      ]
     },
     "execution_count": 12,
     "metadata": {},
     "output_type": "execute_result"
    }
   ],
   "source": [
    "predVal = clf.predict(valX)\n",
    "valScore = clf.score(predVal,valY)\n",
    "valScore"
   ]
  },
  {
   "cell_type": "code",
   "execution_count": 21,
   "metadata": {},
   "outputs": [],
   "source": [
    "try:\n",
    "    st = time()\n",
    "    pickle_in = open(\"prunedTree.pickle\",\"rb\")\n",
    "    clf = pickle.load(pickle_in)\n",
    "    print(time()-st)\n",
    "except:\n",
    "    st = time()\n",
    "    clf.fit(trainX,trainY)\n",
    "    print(time()-st)\n",
    "    with open('prunedTree.pickle', 'wb') as f:\n",
    "        pickle.dump(clf, f)"
   ]
  },
  {
   "cell_type": "code",
   "execution_count": 20,
   "metadata": {},
   "outputs": [
    {
     "name": "stdout",
     "output_type": "stream",
     "text": [
      "0.9047023009287161\n",
      "0.7797505910713458\n",
      "0.775913220841832\n"
     ]
    }
   ],
   "source": [
    "predTrain = clf.predict(trainX)\n",
    "trainScore = clf.score(predTrain,trainY)\n",
    "print(trainScore)\n",
    "predTest = clf.predict(testX)\n",
    "testScore = clf.score(predTest,testY)\n",
    "print(testScore)\n",
    "predVal = clf.predict(valX)\n",
    "valScore = clf.score(predVal,valY)\n",
    "print(valScore)"
   ]
  }
 ],
 "metadata": {
  "kernelspec": {
   "display_name": "Python 3",
   "language": "python",
   "name": "python3"
  },
  "language_info": {
   "codemirror_mode": {
    "name": "ipython",
    "version": 3
   },
   "file_extension": ".py",
   "mimetype": "text/x-python",
   "name": "python",
   "nbconvert_exporter": "python",
   "pygments_lexer": "ipython3",
   "version": "3.7.4"
  }
 },
 "nbformat": 4,
 "nbformat_minor": 2
}
