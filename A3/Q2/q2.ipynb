{
  "nbformat": 4,
  "nbformat_minor": 0,
  "metadata": {
    "colab": {
      "name": "a3pb.ipynb",
      "provenance": [],
      "collapsed_sections": [],
      "machine_shape": "hm",
      "mount_file_id": "1EpMlUMp8H0M4mOiaTo7ipcllYQbdKKlK",
      "authorship_tag": "ABX9TyO2KGIDAedydqXa9VMzODoT",
      "include_colab_link": true
    },
    "kernelspec": {
      "name": "python3",
      "display_name": "Python 3"
    },
    "accelerator": "TPU"
  },
  "cells": [
    {
      "cell_type": "markdown",
      "metadata": {
        "id": "view-in-github",
        "colab_type": "text"
      },
      "source": [
        "<a href=\"https://colab.research.google.com/github/Kartik97/ML/blob/master/a3pb.ipynb\" target=\"_parent\"><img src=\"https://colab.research.google.com/assets/colab-badge.svg\" alt=\"Open In Colab\"/></a>"
      ]
    },
    {
      "cell_type": "code",
      "metadata": {
        "id": "Gg250VSeLlvi",
        "colab_type": "code",
        "colab": {}
      },
      "source": [
        "# import numpy as np\n",
        "# arr = np.ones(10**9, dtype='float128')"
      ],
      "execution_count": 0,
      "outputs": []
    },
    {
      "cell_type": "code",
      "metadata": {
        "id": "HTbR_qSm6Y3P",
        "colab_type": "code",
        "outputId": "d02358a5-5990-48a5-d0e4-17ca50bc7d8c",
        "colab": {
          "base_uri": "https://localhost:8080/",
          "height": 34
        }
      },
      "source": [
        "import numpy as np\n",
        "import multiprocessing as mp\n",
        "import scipy\n",
        "import math  \n",
        "import pandas as pd\n",
        "from tqdm import tqdm\n",
        "from time import time\n",
        "import pickle\n",
        "from joblib import Parallel, delayed\n",
        "import matplotlib.pyplot as plt\n",
        "import itertools\n",
        "import math\n",
        "from sklearn.neural_network import MLPClassifier\n",
        "%matplotlib inline\n",
        "mp.cpu_count()"
      ],
      "execution_count": 53,
      "outputs": [
        {
          "output_type": "execute_result",
          "data": {
            "text/plain": [
              "2"
            ]
          },
          "metadata": {
            "tags": []
          },
          "execution_count": 53
        }
      ]
    },
    {
      "cell_type": "code",
      "metadata": {
        "id": "RbYUfVJcFh7F",
        "colab_type": "code",
        "colab": {}
      },
      "source": [
        "path = \"/content/drive/My Drive/Colab Notebooks/alphabet\"\n",
        "train = (pd.read_csv(path+\"/train.csv\",header=None))\n",
        "test = (pd.read_csv(path+\"/test.csv\",header=None))\n",
        "trainX = np.array(train.drop(columns=[784]))/255\n",
        "trainY = np.reshape(np.array(train[784]),(-1,1))\n",
        "testX = np.array(test.drop(columns=[784]))/255\n",
        "testY = np.reshape(np.array(test[784]),(-1,1))"
      ],
      "execution_count": 0,
      "outputs": []
    },
    {
      "cell_type": "code",
      "metadata": {
        "id": "Hdt9pqenMFuv",
        "colab_type": "code",
        "colab": {}
      },
      "source": [
        "class NeuralNetwork:\n",
        "  def __init__(self,batchSize,features,layers,classes,eta=0.1,adaptiveLearning=False,activation=\"sigmoid\",weight_init=\"xavier\"):\n",
        "    self.batchSize = batchSize\n",
        "    self.features = features\n",
        "    self.classes = classes\n",
        "    self.eta = eta\n",
        "    self.activationFunction = activation\n",
        "    self.adaptiveLearning = adaptiveLearning\n",
        "\n",
        "    if(weight_init==\"xavier\"):\n",
        "      self.weights = [np.random.normal(0,1/features,(features,layers[0]))]\n",
        "    # self.weights = [np.random.normal(0,2/(features+layers[0]),(features,layers[0]))]\n",
        "      self.bias = [np.zeros((1,layers[0]))]\n",
        "    else:\n",
        "      self.weights = [np.random.uniform(-0.1,0.1,(features,layers[0]))]\n",
        "      self.bias = [np.random.uniform(-0.1,0.1,(1,layers[0]))]\n",
        "    for i in range(1,len(layers)):\n",
        "      if(weight_init==\"xavier\"):\n",
        "        self.weights.append(np.random.normal(0,1/layers[i-1],(layers[i-1],layers[i])))\n",
        "        # self.weights.append(np.random.normal(0,2/(layers[i-1]+layers[i]),(layers[i-1],layers[i])))\n",
        "        self.bias.append(np.zeros((1,layers[i])))\n",
        "      else:\n",
        "        self.weights.append(np.random.uniform(-0.1,0.1,(layers[i-1],layers[i])))\n",
        "        self.bias.append(np.random.uniform(-0.1,0.1,(1,layers[i])))\n",
        "    if(weight_init==\"xavier\"):\n",
        "      self.weights.append(np.random.normal(0,1/layers[len(layers)-1],(layers[len(layers)-1],classes)))\n",
        "      # self.weights.append(np.random.normal(0,2/(layers[len(layers)-1]+classes),(layers[len(layers)-1],classes)))\n",
        "      self.bias.append(np.zeros((1,classes)))\n",
        "    else:\n",
        "      self.weights.append(np.random.uniform(-0.1,0.1,(layers[len(layers)-1],classes)))\n",
        "      self.bias.append(np.random.uniform(-0.1,0.1,(1,classes)))\n",
        "\n",
        "  def printLayers(self):\n",
        "    for i in self.weights:\n",
        "      print(i.shape)\n",
        "    for i in self.bias:\n",
        "      print(i.shape)\n",
        "\n",
        "  def createOneHot(self,Y):\n",
        "    oneHot = np.zeros((Y.shape[0],self.classes))\n",
        "    for i in range(Y.shape[0]):\n",
        "      oneHot[i,Y[i]]=1\n",
        "    return oneHot\n",
        "\n",
        "  def activation(self,z,outputLayer=False):\n",
        "    if(self.activationFunction==\"sigmoid\" or outputLayer):\n",
        "      return (1/(1+np.exp(-z)))\n",
        "    else:\n",
        "      z[z<0]=0\n",
        "      return z\n",
        "\n",
        "  def fwdProp(self,X):\n",
        "    data = X\n",
        "    layerX = [data]\n",
        "    l = len(self.weights)\n",
        "    for i in range(l):\n",
        "      out = (data@self.weights[i])+self.bias[i]\n",
        "\n",
        "      if(i==l-1):\n",
        "        out = self.activation(out,outputLayer=True)\n",
        "      else:\n",
        "        out = self.activation(out)\n",
        "\n",
        "      data = out\n",
        "      layerX.append(data)\n",
        "    return layerX\n",
        "\n",
        "  def bwdProp(self,X,Y):\n",
        "    l = len(X)-1\n",
        "    delta = (Y-X[l])*X[l]*(1-X[l])\n",
        "    weightGrad = [X[l-1].T@(-delta)]\n",
        "    biasGrad = [(-delta).sum(axis=0,keepdims=True)]\n",
        "    for i in range(l-1,0,-1):   \n",
        "      if(self.activationFunction==\"sigmoid\"):\n",
        "        delta = ((delta)@self.weights[i].T)*X[i]*(1-X[i])\n",
        "      elif(self.activationFunction==\"relu\"):\n",
        "        temp = X[i]\n",
        "        temp[temp>0]=1\n",
        "        temp[temp<=0]=0\n",
        "        delta = ((delta)@self.weights[i].T)*temp\n",
        "      weightGrad.append(X[i-1].T@(-delta))\n",
        "      biasGrad.append((-delta).sum(axis=0,keepdims=True))  \n",
        "    return weightGrad[::-1],biasGrad[::-1]\n",
        "\n",
        "  def calCost(self,P,Y):\n",
        "    return (np.sum((P-Y)*(P-Y))/(2*Y.shape[0]))\n",
        "\n",
        "  def miniBatchGradDescent(self,X,Y,maxIter,epsilon,check):\n",
        "    conv = False\n",
        "    count,batchCount = 1,1\n",
        "    m=X.shape[0]\n",
        "    if(self.batchSize<m):\n",
        "      num_batches = int(m/self.batchSize)\n",
        "    else:\n",
        "      num_batches = 1\n",
        "    curCost,prevCost = 0,-1\n",
        "    eta = self.eta\n",
        "    critCount=0\n",
        "\n",
        "    while(not conv and count<=maxIter):\n",
        "      batch=0\n",
        "      # do epoch\n",
        "      temp = np.append(X,Y,axis=1)  # Initial shuffling\n",
        "      np.random.shuffle(temp)\n",
        "      X,Y = temp[:,:784],temp[:,784:]\n",
        "      while(batch<num_batches):\n",
        "        curX = X[batch*self.batchSize:(batch+1)*self.batchSize,:]\n",
        "        curY = Y[batch*self.batchSize:(batch+1)*self.batchSize,:]\n",
        "        batch=(batch+1)\n",
        "\n",
        "        layerX = self.fwdProp(curX)\n",
        "        weightGrad,biasGrad = self.bwdProp(layerX,curY)\n",
        "        for i in range(len(weightGrad)):\n",
        "          self.weights[i] = self.weights[i]-eta*weightGrad[i]/self.batchSize\n",
        "        for i in range(len(biasGrad)):\n",
        "          self.bias[i] = self.bias[i]-eta*biasGrad[i]/self.batchSize\n",
        "        curCost += self.calCost(layerX[-1],curY)\n",
        "\n",
        "        if(batchCount%check==0):\n",
        "          curCost = curCost/check\n",
        "          if(prevCost!=-1 and abs(prevCost-curCost)<=epsilon):\n",
        "            conv = True\n",
        "            break\n",
        "          prevCost = curCost\n",
        "          curCost = 0\n",
        "        batchCount+=1\n",
        "      \n",
        "      if(self.adaptiveLearning):\n",
        "        eta=self.eta/math.sqrt(count)\n",
        "      count+=1\n",
        "    return count\n",
        "\n",
        "  def fit(self,X,Y,maxIter=2000,epsilon=1e-8,check=30):\n",
        "    # create one hot vectors for y\n",
        "    Y = self.createOneHot(Y)\n",
        "    return self.miniBatchGradDescent(X,Y,maxIter,epsilon,check)\n",
        "\n",
        "  def predict(self,X):\n",
        "    layerX = self.fwdProp(X)\n",
        "    maxVal = np.max(layerX[-1],axis=1,keepdims=True)\n",
        "    pred=[]\n",
        "    for i in range(layerX[-1].shape[0]):\n",
        "      temp = (np.where(layerX[-1][i,:]==maxVal[i]))\n",
        "      pred.append(temp[0][0])\n",
        "    return pred,layerX[-1]\n",
        "\n",
        "  def score(self,X,Y):\n",
        "    pred,prob = self.predict(X)\n",
        "    Y_ = self.createOneHot(Y)\n",
        "    # print(\"Cost:\",self.calCost(prob,Y_))\n",
        "    return ((pred==Y.flatten()).sum()/Y.shape[0])"
      ],
      "execution_count": 0,
      "outputs": []
    },
    {
      "cell_type": "code",
      "metadata": {
        "id": "jwToYZHTMIwZ",
        "colab_type": "code",
        "colab": {}
      },
      "source": [
        "def trainNetwork(nodes,para):\n",
        "  adaptive,e,Epsilon,maxiter,trainX,trainY,testX,testY = para\n",
        "  nn = NeuralNetwork(100,784,[nodes],26,eta=e,adaptiveLearning=adaptive)\n",
        "  st = time()\n",
        "  epochCount = nn.fit(trainX,trainY,maxIter=maxiter,epsilon=Epsilon)\n",
        "  timetaken = (time()-st)\n",
        "  return (timetaken,epochCount,nn.score(trainX,trainY),nn.score(testX,testY))\n",
        "\n",
        "def createOneHot(Y,classes):\n",
        "  oneHot = np.zeros((Y.shape[0],classes))\n",
        "  for i in range(Y.shape[0]):\n",
        "    oneHot[i,Y[i]]=1\n",
        "  return oneHot\n",
        "\n",
        "def score(prob,Y):\n",
        "  maxVal = np.max(prob,axis=1,keepdims=True)\n",
        "  pred=[]\n",
        "  for i in range(prob.shape[0]):\n",
        "    temp = (np.where(prob[i,:]==maxVal[i]))\n",
        "    pred.append(temp[0][0])\n",
        "  return ((pred==Y.flatten()).sum()/Y.shape[0])"
      ],
      "execution_count": 0,
      "outputs": []
    },
    {
      "cell_type": "code",
      "metadata": {
        "id": "EDjzC5Q5dL5h",
        "colab_type": "code",
        "colab": {}
      },
      "source": [
        "def plotData(x,data):\n",
        "  data = np.array(data)\n",
        "  plt.figure(0)\n",
        "  ax = plt.gca()\n",
        "  ax.plot(x,data[:,2],label=\"Training Accuracy\",marker=\"o\")\n",
        "  ax.plot(x,data[:,3],label=\"Testing Accuracy\",marker=\"*\")\n",
        "  plt.title(\"Accuracy on Training Data\")\n",
        "  ax.set_xlabel(\"Number of Nodes in Hidden Layer\")\n",
        "  ax.set_ylabel(\"Accuracy\")\n",
        "  plt.legend(loc=\"lower right\")\n",
        "  plt.show()\n",
        "\n",
        "  # plt.figure(1)\n",
        "  # ax = plt.gca()\n",
        "  # ax.plot(x,data[:,3],label=\"Testing Accuracy\",marker=\"*\")\n",
        "  # plt.title(\"Accuracy on Testing Data\")\n",
        "  # ax.set_xlabel(\"Number of Nodes in Hidden Layer\")\n",
        "  # ax.set_ylabel(\"Accuracy\")\n",
        "  # plt.legend(loc=\"lower right\")\n",
        "  # plt.show()\n",
        "\n",
        "  plt.figure(2)\n",
        "  ax = plt.gca()\n",
        "  ax.plot(x,data[:,0]/60,label=\"Time Taken\",marker=\"o\")\n",
        "  plt.title(\"Time taken to train the model\")\n",
        "  ax.set_xlabel(\"Number of Nodes in Hidden Layer\")\n",
        "  ax.set_ylabel(\"Time taken (in minutes)\")\n",
        "  plt.legend(loc=\"lower right\")\n",
        "  plt.show()"
      ],
      "execution_count": 0,
      "outputs": []
    },
    {
      "cell_type": "markdown",
      "metadata": {
        "id": "m4sl3P_SewQu",
        "colab_type": "text"
      },
      "source": [
        "## PART B"
      ]
    },
    {
      "cell_type": "code",
      "metadata": {
        "id": "6msEJKrDMK1v",
        "colab_type": "code",
        "outputId": "bf2ae454-7122-49ab-e2c0-73098b219fa1",
        "colab": {
          "base_uri": "https://localhost:8080/",
          "height": 34
        }
      },
      "source": [
        "nodeValues = [1,5,10,50,100]\n",
        "data = (False,0.1,1e-8,2000,trainX,trainY,testX,testY)\n",
        "try:\n",
        "    st = time()\n",
        "    pickle_in = open(\"/content/drive/My Drive/Colab Notebooks/alphabet/Partb.pickle\",\"rb\")\n",
        "    res = pickle.load(pickle_in)\n",
        "    print(time()-st)\n",
        "except:\n",
        "    st = time()\n",
        "    res = Parallel(n_jobs=-2)(delayed(trainNetwork)(i,data) for i in nodeValues)\n",
        "    print(time()-st)\n",
        "    with open(\"/content/drive/My Drive/Colab Notebooks/alphabet/Partb.pickle\",\"wb\") as f:\n",
        "        pickle.dump(res,f)"
      ],
      "execution_count": 58,
      "outputs": [
        {
          "output_type": "stream",
          "text": [
            "0.0018339157104492188\n"
          ],
          "name": "stdout"
        }
      ]
    },
    {
      "cell_type": "code",
      "metadata": {
        "id": "PneIHMcKzkDI",
        "colab_type": "code",
        "outputId": "ef20fe7f-b916-40a5-f89e-908a27696b70",
        "colab": {
          "base_uri": "https://localhost:8080/",
          "height": 102
        }
      },
      "source": [
        "res"
      ],
      "execution_count": 59,
      "outputs": [
        {
          "output_type": "execute_result",
          "data": {
            "text/plain": [
              "[(174.71786999702454, 2001, 0.09315384615384616, 0.09292307692307693),\n",
              " (250.62409114837646, 2001, 0.2804615384615385, 0.27353846153846156),\n",
              " (270.7686550617218, 2001, 0.78, 0.7175384615384616),\n",
              " (478.82851934432983, 2001, 0.9596153846153846, 0.8913846153846153),\n",
              " (717.4230227470398, 2001, 0.9677692307692307, 0.9084615384615384)]"
            ]
          },
          "metadata": {
            "tags": []
          },
          "execution_count": 59
        }
      ]
    },
    {
      "cell_type": "code",
      "metadata": {
        "id": "uo1du5T6MOwd",
        "colab_type": "code",
        "outputId": "d66d03e5-4a29-48cb-e16f-03860593c682",
        "colab": {
          "base_uri": "https://localhost:8080/",
          "height": 573
        }
      },
      "source": [
        "plotData(nodeValues,res)"
      ],
      "execution_count": 60,
      "outputs": [
        {
          "output_type": "display_data",
          "data": {
            "image/png": "[encoded data removed]",
            "text/plain": [
              "<Figure size 432x288 with 1 Axes>"
            ]
          },
          "metadata": {
            "tags": [],
            "needs_background": "light"
          }
        },
        {
          "output_type": "display_data",
          "data": {
            "image/png": "[encoded data removed]",
            "text/plain": [
              "<Figure size 432x288 with 1 Axes>"
            ]
          },
          "metadata": {
            "tags": [],
            "needs_background": "light"
          }
        }
      ]
    },
    {
      "cell_type": "markdown",
      "metadata": {
        "id": "LS6hZAGCe0Bn",
        "colab_type": "text"
      },
      "source": [
        "## PART C"
      ]
    },
    {
      "cell_type": "code",
      "metadata": {
        "id": "4SGw0OvjMSqE",
        "colab_type": "code",
        "outputId": "2fd88b7c-00dd-40d4-a4e6-b077759bd6dd",
        "colab": {
          "base_uri": "https://localhost:8080/",
          "height": 34
        }
      },
      "source": [
        "nodeValues = [1,5,10,50,100]\n",
        "data = (True,0.5,1e-8,2000,trainX,trainY,testX,testY)\n",
        "try:\n",
        "    st = time()\n",
        "    pickle_in = open(\"/content/drive/My Drive/Colab Notebooks/alphabet/Partc.pickle\",\"rb\")\n",
        "    res = pickle.load(pickle_in)\n",
        "    print(time()-st)\n",
        "except:\n",
        "    st = time()\n",
        "    res = Parallel(n_jobs=-2)(delayed(trainNetwork)(i,data) for i in nodeValues)\n",
        "    print(time()-st)\n",
        "    with open(\"/content/drive/My Drive/Colab Notebooks/alphabet/Partc.pickle\",\"wb\") as f:\n",
        "        pickle.dump(res,f)"
      ],
      "execution_count": 61,
      "outputs": [
        {
          "output_type": "stream",
          "text": [
            "0.0012333393096923828\n"
          ],
          "name": "stdout"
        }
      ]
    },
    {
      "cell_type": "code",
      "metadata": {
        "id": "bnGyZn4IzxNF",
        "colab_type": "code",
        "outputId": "ad5c2c26-1191-4b75-fa2a-d47965855d45",
        "colab": {
          "base_uri": "https://localhost:8080/",
          "height": 102
        }
      },
      "source": [
        "res"
      ],
      "execution_count": 62,
      "outputs": [
        {
          "output_type": "execute_result",
          "data": {
            "text/plain": [
              "[(3.189598798751831, 34, 0.05615384615384615, 0.05507692307692308),\n",
              " (99.8906557559967, 801, 0.05984615384615385, 0.06323076923076923),\n",
              " (267.27183055877686, 2001, 0.36530769230769233, 0.36323076923076925),\n",
              " (473.627224445343, 2001, 0.8903846153846153, 0.8596923076923076),\n",
              " (697.4859735965729, 2001, 0.8951538461538462, 0.8616923076923076)]"
            ]
          },
          "metadata": {
            "tags": []
          },
          "execution_count": 62
        }
      ]
    },
    {
      "cell_type": "code",
      "metadata": {
        "id": "_mxdtcmTdKf9",
        "colab_type": "code",
        "outputId": "6bfc92e5-4d28-4776-b44f-1d56b62d2a76",
        "colab": {
          "base_uri": "https://localhost:8080/",
          "height": 573
        }
      },
      "source": [
        "plotData(nodeValues,res)"
      ],
      "execution_count": 63,
      "outputs": [
        {
          "output_type": "display_data",
          "data": {
            "image/png": "[encoded data removed]",
            "text/plain": [
              "<Figure size 432x288 with 1 Axes>"
            ]
          },
          "metadata": {
            "tags": [],
            "needs_background": "light"
          }
        },
        {
          "output_type": "display_data",
          "data": {
            "image/png": "[encoded data removed]",
            "text/plain": [
              "<Figure size 432x288 with 1 Axes>"
            ]
          },
          "metadata": {
            "tags": [],
            "needs_background": "light"
          }
        }
      ]
    },
    {
      "cell_type": "markdown",
      "metadata": {
        "id": "yXvOM2QnMgYO",
        "colab_type": "text"
      },
      "source": [
        "## PART D"
      ]
    },
    {
      "cell_type": "code",
      "metadata": {
        "id": "dphUrpoyeqOY",
        "colab_type": "code",
        "colab": {}
      },
      "source": [
        "nn = NeuralNetwork(100,784,[100,100],26,eta=0.5,adaptiveLearning=True,activation=\"relu\",weight_init=\"random\")"
      ],
      "execution_count": 0,
      "outputs": []
    },
    {
      "cell_type": "code",
      "metadata": {
        "id": "xRrmJ8l0e4y9",
        "colab_type": "code",
        "outputId": "7b15ef49-c01c-4729-c07b-69bf31e62088",
        "colab": {
          "base_uri": "https://localhost:8080/",
          "height": 51
        }
      },
      "source": [
        "nn.fit(trainX,trainY)\n",
        "print(\"Training Score on Relu Activation:\",nn.score(trainX,trainY))\n",
        "print(\"Testing Score on Relu Activation:\",nn.score(testX,testY))"
      ],
      "execution_count": 65,
      "outputs": [
        {
          "output_type": "stream",
          "text": [
            "Training Score on Relu Activation: 0.9347692307692308\n",
            "Testing Score on Relu Activation: 0.8801538461538462\n"
          ],
          "name": "stdout"
        }
      ]
    },
    {
      "cell_type": "code",
      "metadata": {
        "id": "a77SYzQ_e8s7",
        "colab_type": "code",
        "colab": {}
      },
      "source": [
        "nn = NeuralNetwork(100,784,[100,100],26,eta=0.5,adaptiveLearning=True,activation=\"sigmoid\",weight_init=\"random\")"
      ],
      "execution_count": 0,
      "outputs": []
    },
    {
      "cell_type": "code",
      "metadata": {
        "id": "aNnNv1L3fCKz",
        "colab_type": "code",
        "outputId": "36b2dfa5-b605-48d6-ff19-61ca3e3101b1",
        "colab": {
          "base_uri": "https://localhost:8080/",
          "height": 51
        }
      },
      "source": [
        "nn.fit(trainX,trainY)\n",
        "print(\"Training Score on Sigmoid Activation:\",nn.score(trainX,trainY))\n",
        "print(\"Testing Score on Sigmoid Activation:\",nn.score(testX,testY))"
      ],
      "execution_count": 67,
      "outputs": [
        {
          "output_type": "stream",
          "text": [
            "Training Score on Sigmoid Activation: 0.8421538461538461\n",
            "Testing Score on Sigmoid Activation: 0.8152307692307692\n"
          ],
          "name": "stdout"
        }
      ]
    },
    {
      "cell_type": "markdown",
      "metadata": {
        "id": "MlrKQn-beq2N",
        "colab_type": "text"
      },
      "source": [
        "## PART E\n"
      ]
    },
    {
      "cell_type": "code",
      "metadata": {
        "id": "xdSq7wk7CgBK",
        "colab_type": "code",
        "colab": {}
      },
      "source": [
        "oneHotYTrain = createOneHot(trainY,26)\n",
        "oneHotYTest = createOneHot(testY,26)"
      ],
      "execution_count": 0,
      "outputs": []
    },
    {
      "cell_type": "code",
      "metadata": {
        "id": "g7Weo5jSFmt-",
        "colab_type": "code",
        "colab": {}
      },
      "source": [
        "mlp = MLPClassifier(hidden_layer_sizes=(100,100),activation='logistic',solver='sgd',learning_rate_init=0.5,learning_rate=\"invscaling\",batch_size=100,max_iter=2000,alpha=0,momentum=0)"
      ],
      "execution_count": 0,
      "outputs": []
    },
    {
      "cell_type": "code",
      "metadata": {
        "id": "gU1FwSpVEQRo",
        "colab_type": "code",
        "colab": {}
      },
      "source": [
        "mlp.fit(trainX,oneHotYTrain)\n",
        "print(\"Training Score:\",score(mlp.predict_proba(trainX),trainY))\n",
        "print(\"Testing Score:\",score(mlp.predict_proba(testX),testY))\n",
        "print(\"Train and Test scores for one hot vectors:\")\n",
        "print(mlp.score(trainX,oneHotYTrain),mlp.score(testX,oneHotYTest))"
      ],
      "execution_count": 0,
      "outputs": []
    },
    {
      "cell_type": "code",
      "metadata": {
        "id": "uVRvPrbHJaST",
        "colab_type": "code",
        "colab": {}
      },
      "source": [
        "mlp = MLPClassifier(hidden_layer_sizes=(100,100),activation='relu',solver='sgd',learning_rate_init=0.5,learning_rate=\"invscaling\",batch_size=100,alpha=0,momentum=0,max_iter=2000)"
      ],
      "execution_count": 0,
      "outputs": []
    },
    {
      "cell_type": "code",
      "metadata": {
        "id": "yrqvit5YJpwa",
        "colab_type": "code",
        "colab": {}
      },
      "source": [
        "mlp.fit(trainX,oneHotYTrain)\n",
        "print(\"Training Score:\",score(mlp.predict_proba(trainX),trainY))\n",
        "print(\"Testing Score:\",score(mlp.predict_proba(testX),testY))\n",
        "print(\"Train and Test scores for one hot vectors:\")\n",
        "print(mlp.score(trainX,oneHotYTrain),mlp.score(testX,oneHotYTest))"
      ],
      "execution_count": 0,
      "outputs": []
    },
    {
      "cell_type": "code",
      "metadata": {
        "id": "W7cSj1Pqx8lV",
        "colab_type": "code",
        "colab": {}
      },
      "source": [
        "mlp = MLPClassifier(hidden_layer_sizes=(100,100),activation='logistic',solver='sgd',learning_rate_init=0.1,learning_rate=\"invscaling\",batch_size=100,max_iter=2000,alpha=0,momentum=0)"
      ],
      "execution_count": 0,
      "outputs": []
    },
    {
      "cell_type": "code",
      "metadata": {
        "id": "G7vPBQ4KvfqW",
        "colab_type": "code",
        "colab": {}
      },
      "source": [
        "mlp.fit(trainX,oneHotYTrain)\n",
        "print(\"Training Score (Logistic):\",score(mlp.predict_proba(trainX),trainY))\n",
        "print(\"Testing Score (Logistic):\",score(mlp.predict_proba(testX),testY))\n",
        "print(\"Train and Test scores for one hot vectors:\")\n",
        "print(mlp.score(trainX,oneHotYTrain),mlp.score(testX,oneHotYTest))"
      ],
      "execution_count": 0,
      "outputs": []
    },
    {
      "cell_type": "code",
      "metadata": {
        "id": "85JdC5NEvh6y",
        "colab_type": "code",
        "colab": {}
      },
      "source": [
        "mlp = MLPClassifier(hidden_layer_sizes=(100,100),activation='relu',solver='sgd',learning_rate_init=0.1,learning_rate=\"invscaling\",batch_size=100,alpha=0,momentum=0,max_iter=2000)"
      ],
      "execution_count": 0,
      "outputs": []
    },
    {
      "cell_type": "code",
      "metadata": {
        "id": "U2hY7BFavmLq",
        "colab_type": "code",
        "colab": {}
      },
      "source": [
        "mlp.fit(trainX,oneHotYTrain)\n",
        "print(\"Training Score (Relu):\",score(mlp.predict_proba(trainX),trainY))\n",
        "print(\"Testing Score (Relu):\",score(mlp.predict_proba(testX),testY))\n",
        "print(\"Train and Test scores for one hot vectors:\")\n",
        "print(mlp.score(trainX,oneHotYTrain),mlp.score(testX,oneHotYTest))"
      ],
      "execution_count": 0,
      "outputs": []
    },
    {
      "cell_type": "code",
      "metadata": {
        "id": "4GLY214Yv3AG",
        "colab_type": "code",
        "colab": {}
      },
      "source": [
        "mlp = MLPClassifier(hidden_layer_sizes=(100,100),activation='logistic',solver='sgd',learning_rate_init=0.5,learning_rate=\"adaptive\",batch_size=100,max_iter=2000,alpha=0,momentum=0)"
      ],
      "execution_count": 0,
      "outputs": []
    },
    {
      "cell_type": "code",
      "metadata": {
        "id": "P1A2tVyBwftW",
        "colab_type": "code",
        "colab": {}
      },
      "source": [
        "mlp.fit(trainX,oneHotYTrain)\n",
        "print(\"Training Score (Logistic):\",score(mlp.predict_proba(trainX),trainY))\n",
        "print(\"Testing Score (Logistic):\",score(mlp.predict_proba(testX),testY))\n",
        "print(\"Train and Test scores for one hot vectors:\")\n",
        "print(mlp.score(trainX,oneHotYTrain),mlp.score(testX,oneHotYTest))"
      ],
      "execution_count": 0,
      "outputs": []
    },
    {
      "cell_type": "code",
      "metadata": {
        "id": "q8vXIga5wi-Z",
        "colab_type": "code",
        "colab": {}
      },
      "source": [
        "mlp = MLPClassifier(hidden_layer_sizes=(100,100),activation='relu',solver='sgd',learning_rate_init=0.5,learning_rate=\"adaptive\",batch_size=100,max_iter=2000,alpha=0,momentum=0)"
      ],
      "execution_count": 0,
      "outputs": []
    },
    {
      "cell_type": "code",
      "metadata": {
        "id": "hBwkxi3wxLQu",
        "colab_type": "code",
        "colab": {}
      },
      "source": [
        "mlp.fit(trainX,oneHotYTrain)\n",
        "print(\"Training Score (Relu):\",score(mlp.predict_proba(trainX),trainY))\n",
        "print(\"Testing Score (Relu):\",score(mlp.predict_proba(testX),testY))\n",
        "print(\"Train and Test scores for one hot vectors:\")\n",
        "print(mlp.score(trainX,oneHotYTrain),mlp.score(testX,oneHotYTest))"
      ],
      "execution_count": 0,
      "outputs": []
    },
    {
      "cell_type": "code",
      "metadata": {
        "id": "4EPjolLexO0B",
        "colab_type": "code",
        "colab": {}
      },
      "source": [
        "mlp = MLPClassifier(hidden_layer_sizes=(100,100),activation='logistic',solver='sgd',learning_rate_init=0.5,learning_rate=\"invscaling\",batch_size=100,max_iter=2000,alpha=0,momentum=0)"
      ],
      "execution_count": 0,
      "outputs": []
    },
    {
      "cell_type": "code",
      "metadata": {
        "id": "mMPVHdNRxwLC",
        "colab_type": "code",
        "colab": {}
      },
      "source": [
        "mlp.fit(trainX,trainY)\n",
        "print(\"Training and Testing scores for Sigmoid (when MLP uses softmax as output layer)\")\n",
        "print(mlp.score(trainX,trainY),mlp.score(testX,testY))"
      ],
      "execution_count": 0,
      "outputs": []
    },
    {
      "cell_type": "code",
      "metadata": {
        "id": "cFMkFan7x7qC",
        "colab_type": "code",
        "colab": {}
      },
      "source": [
        "mlp = MLPClassifier(hidden_layer_sizes=(100,100),activation='relu',solver='sgd',learning_rate_init=0.5,learning_rate=\"invscaling\",batch_size=100,max_iter=2000,alpha=0,momentum=0)"
      ],
      "execution_count": 0,
      "outputs": []
    },
    {
      "cell_type": "code",
      "metadata": {
        "id": "xLUWEZTjx_lB",
        "colab_type": "code",
        "colab": {}
      },
      "source": [
        "mlp.fit(trainX,trainY)\n",
        "print(\"Training and Testing scores for Relu (when MLP uses softmax as output layer)\")\n",
        "print(mlp.score(trainX,trainY),mlp.score(testX,testY))"
      ],
      "execution_count": 0,
      "outputs": []
    }
  ]
}